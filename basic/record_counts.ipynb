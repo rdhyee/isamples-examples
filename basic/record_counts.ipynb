{
 "cells": [
  {
   "cell_type": "code",
   "execution_count": 1,
   "metadata": {
    "ExecuteTime": {
     "end_time": "2023-10-28T13:01:34.491834Z",
     "start_time": "2023-10-28T13:01:34.342886Z"
    },
    "collapsed": false,
    "jupyter": {
     "outputs_hidden": false
    }
   },
   "outputs": [],
   "source": [
    "import json\n",
    "import logging\n",
    "import typing\n",
    "import urllib.parse\n",
    "import httpx\n",
    "import xarray\n",
    "\n",
    "from urllib.parse import quote\n",
    "\n",
    "import pandas as pd\n",
    "from pandas import DataFrame, Series\n",
    "import numpy as np\n",
    "\n",
    "import matplotlib.pyplot as plt\n",
    "\n",
    "from collections import Counter\n",
    "from isbclient import IsbClient\n",
    "\n",
    "from itertools import islice\n"
   ]
  },
  {
   "cell_type": "code",
   "execution_count": 2,
   "metadata": {},
   "outputs": [],
   "source": [
    "# can we plugin pysolr here?\n",
    "import pysolr\n",
    "\n",
    "def my_select(self, params, handler=None):\n",
    "    \"\"\"\n",
    "    :param params:\n",
    "    :param handler: defaults to self.search_handler (fallback to 'select')\n",
    "    :return:\n",
    "    \"\"\"\n",
    "    # Returns json docs unless otherwise specified\n",
    "    params.setdefault(\"wt\", \"json\")\n",
    "    custom_handler = handler or self.search_handler\n",
    "    handler = \"select\"\n",
    "    if custom_handler:\n",
    "        if self.use_qt_param:\n",
    "            params[\"qt\"] = custom_handler\n",
    "        else:\n",
    "            handler = custom_handler\n",
    "\n",
    "    params_encoded = pysolr.safe_urlencode(params, True)\n",
    "\n",
    "    # put no effective limit on the size of the query\n",
    "    if len(params_encoded) < 100000:\n",
    "        # Typical case.\n",
    "        path = \"%s?%s\" % (handler, params_encoded)\n",
    "        return self._send_request(\"get\", path)\n",
    "    else:\n",
    "        # Handles very long queries by submitting as a POST.\n",
    "        path = \"%s\" % handler\n",
    "        headers = {\n",
    "            \"Content-type\": \"application/x-www-form-urlencoded; charset=utf-8\"\n",
    "        }\n",
    "        return self._send_request(\n",
    "            \"post\", path, body=params_encoded, headers=headers\n",
    "        )\n",
    "\n",
    "pysolr.Solr._select = my_select\n"
   ]
  },
  {
   "cell_type": "markdown",
   "metadata": {},
   "source": [
    "# The overall iSamples API\n",
    "\n",
    "*  https://central.isample.xyz/isamples_central/ui is the swagger UI\n",
    "* https://central.isample.xyz/isamples_central/openapi.json is the swagger file\n"
   ]
  },
  {
   "cell_type": "code",
   "execution_count": 3,
   "metadata": {},
   "outputs": [
    {
     "name": "stderr",
     "output_type": "stream",
     "text": [
      "INFO:httpx:HTTP Request: GET https://central.isample.xyz/isamples_central/openapi.json \"HTTP/1.1 200 OK\"\n"
     ]
    },
    {
     "data": {
      "text/plain": [
       "dict_keys(['/metrics', '/metrics/', '/thing', '/thing/', '/thing/types', '/thing/select', '/thing/reliquery', '/thing/stream', '/thing/select/info', '/h3_counts/', '/things', '/thing/{identifier}', '/resolve/{identifier}', '/stac_item/{identifier}', '/stac_collection/{filename}', '/things_geojson_heatmap', '/things_leaflet_heatmap', '/related', '/related/'])"
      ]
     },
     "execution_count": 3,
     "metadata": {},
     "output_type": "execute_result"
    }
   ],
   "source": [
    "\n",
    "OPENAPI_URL = 'https://central.isample.xyz/isamples_central/openapi.json'\n",
    "r = httpx.get(OPENAPI_URL)\n",
    "r.json()['paths'].keys()"
   ]
  },
  {
   "cell_type": "markdown",
   "metadata": {},
   "source": [
    "# /thing/select: Solr-based select interface"
   ]
  },
  {
   "cell_type": "code",
   "execution_count": 4,
   "metadata": {},
   "outputs": [
    {
     "name": "stderr",
     "output_type": "stream",
     "text": [
      "INFO:httpx:HTTP Request: GET https://central.isample.xyz/isamples_central/openapi.json \"HTTP/1.1 200 OK\"\n"
     ]
    },
    {
     "data": {
      "text/plain": [
       "{'summary': 'Get Solr Select',\n",
       " 'description': 'Send select request to the Solr isb_core_records collection.\\n\\nSee https://solr.apache.org/guide/8_11/common-query-parameters.html',\n",
       " 'operationId': 'get_solr_select_thing_select_get',\n",
       " 'responses': {'200': {'description': 'Successful Response',\n",
       "   'content': {'application/json': {'schema': {'title': 'Response Get Solr Select Thing Select Get'}}}}}}"
      ]
     },
     "execution_count": 4,
     "metadata": {},
     "output_type": "execute_result"
    }
   ],
   "source": [
    "# focus on /thing/select endpoint\n",
    "r = httpx.get(OPENAPI_URL)\n",
    "r.json()['paths']['/thing/select']['get']"
   ]
  },
  {
   "cell_type": "code",
   "execution_count": 5,
   "metadata": {},
   "outputs": [],
   "source": [
    "# fields used in https://central.isample.xyz/isamples_central/ui\n",
    "\n",
    "MAJOR_FIELDS = dict([('All text fields', 'searchText'),\n",
    " ('Collection Date', 'producedBy_resultTimeRange'),\n",
    " ('Context', 'hasContextCategory'),\n",
    " ('Identifier', 'id'),\n",
    " ('Keywords', 'keywords'),\n",
    " ('Label', 'label'),\n",
    " ('Material', 'hasMaterialCategory'),\n",
    " ('ProducedBy ResultTime',  'producedBy_resultTime'),\n",
    " ('ProducedBy SamplingSite PlaceName', 'producedBy_samplingSite_placeName'),\n",
    " ('Registrant', 'registrant'),\n",
    " ('Source', 'source'),\n",
    " ('Source Updated Time', 'sourceUpdatedTime'),\n",
    " ('Spatial Query', 'producedBy_samplingSite_location_rpt'),\n",
    " ('Specimen', 'hasSpecimenCategory')])\n",
    "\n",
    "# default field list to return\n",
    "\n",
    "FL_DEFAULT = ('searchText',\n",
    " 'authorizedBy',\n",
    " 'producedBy_resultTimeRange',\n",
    " 'hasContextCategory',\n",
    " 'curation_accessContraints',\n",
    " 'curation_description_text',\n",
    " 'curation_label',\n",
    " 'curation_location',\n",
    " 'curation_responsibility',\n",
    " 'description_text',\n",
    " 'id',\n",
    " 'informalClassification',\n",
    " 'keywords',\n",
    " 'label',\n",
    " 'hasMaterialCategory',\n",
    " 'producedBy_description_text',\n",
    " 'producedBy_hasFeatureOfInterest',\n",
    " 'producedBy_label',\n",
    " 'producedBy_responsibility',\n",
    " 'producedBy_resultTime',\n",
    " 'producedBy_samplingSite_description_text',\n",
    " 'producedBy_samplingSite_label',\n",
    " 'producedBy_samplingSite_location_elevationInMeters',\n",
    " 'producedBy_samplingSite_location_latitude',\n",
    " 'producedBy_samplingSite_location_longitude',\n",
    " 'producedBy_samplingSite_placeName',\n",
    " 'registrant',\n",
    " 'samplingPurpose',\n",
    " 'source',\n",
    " 'sourceUpdatedTime',\n",
    " 'producedBy_samplingSite_location_rpt',\n",
    " 'hasSpecimenCategory')\n",
    "\n",
    "FACET_FIELDS_DEFAULT = ('authorizedBy', 'hasContextCategory', 'hasMaterialCategory', 'registrant', 'source', 'hasSpecimenCategory')\n",
    "\n",
    "# https://solr.apache.org/guide/8_11/faceting.html#range-faceting\n",
    "\n",
    "FACET_RANGE_FIELDS_DEFAULT = {\n",
    "    'facet.range': 'producedBy_resultTimeRange',\n",
    "    'f.producedBy_resultTimeRange.facet.range.gap': '+1YEARS',\n",
    "    'f.producedBy_resultTimeRange.facet.range.start': '1800-01-01T00:00:00Z',\n",
    "    'f.producedBy_resultTimeRange.facet.range.end': '2023-01-01T00:00:00Z',\n",
    "}\n"
   ]
  },
  {
   "cell_type": "code",
   "execution_count": 6,
   "metadata": {},
   "outputs": [],
   "source": [
    "from datetime import datetime\n",
    "\n",
    "def format_date_for_solr(date_str):\n",
    "    # Assuming the input is in a format like 'YYYY-MM-DD' or already in ISO 8601\n",
    "    # Modify this part if your input format is different\n",
    "    try:\n",
    "        # If the date is already in ISO 8601 format, return as is\n",
    "        datetime.fromisoformat(date_str)\n",
    "        return date_str\n",
    "    except ValueError:\n",
    "        # Convert from 'YYYY-MM-DD' to ISO 8601\n",
    "        return datetime.strptime(date_str, '%Y-%m-%d').isoformat() + 'Z'\n",
    "\n",
    "def create_date_range_query(start_str, end_str):\n",
    "    # If start_str or end_str is blank, use '*' for open-ended range\n",
    "    start_date = format_date_for_solr(start_str) if start_str else '*'\n",
    "    end_date = format_date_for_solr(end_str) if end_str else '*'\n",
    "    return f'[{start_date} TO {end_date}]'\n",
    "\n",
    "def filter_null_values(d):\n",
    "    return {k:v for k,v in d.items() if v is not None}\n",
    "\n",
    "ISAMPLES_SOURCES = ['SESAR',\n",
    "    'OPENCONTEXT',\n",
    "    'GEOME',\n",
    "    'SMITHSONIAN',\n",
    "]\n",
    "\n",
    "params = {\n",
    "    'q': '*:*',\n",
    "    'fl': 'searchText authorizedBy producedBy_resultTimeRange hasContextCategory curation_accessContraints curation_description_text curation_label curation_location curation_responsibility description_text id informalClassification keywords label hasMaterialCategory producedBy_description_text producedBy_hasFeatureOfInterest producedBy_label producedBy_responsibility producedBy_resultTime producedBy_samplingSite_description_text producedBy_samplingSite_label producedBy_samplingSite_location_elevationInMeters producedBy_samplingSite_location_latitude producedBy_samplingSite_location_longitude producedBy_samplingSite_placeName registrant samplingPurpose source sourceUpdatedTime producedBy_samplingSite_location_rpt hasSpecimenCategory',\n",
    "    'fq': ['producedBy_resultTimeRange:[1800 TO 2023]', 'source:(OPENCONTEXT)', '-relation_target:*'],\n",
    "    'facet.field': ['authorizedBy', 'hasContextCategory', 'hasMaterialCategory', 'registrant', 'source', 'hasSpecimenCategory'],\n",
    "    'facet.range': 'producedBy_resultTimeRange',\n",
    "    'facet.range.gap': '+1YEARS',\n",
    "    'facet.range.start': '1800-01-01T00:00:00Z',\n",
    "    'facet.range.end': '2023-01-01T00:00:00Z',\n",
    "    'f.registrant.facet.sort': 'count',\n",
    "    'f.source.facet.sort': 'index',\n",
    "    'rows': '20',\n",
    "    'facet.limit': '-1',\n",
    "    'facet.sort': 'index',\n",
    "    'start': '20',\n",
    "    'facet': 'on',\n",
    "    'wt': 'json'\n",
    "}\n",
    "\n",
    "class IsbClient2(IsbClient):\n",
    "    def __init__(self, url='https://central.isample.xyz/isamples_central/thing'):\n",
    "        super().__init__()\n",
    "        self.url = url\n",
    "        self.solr = pysolr.Solr(self.url, always_commit=True)\n",
    "\n",
    "    def _fq_from_kwargs(self, collection_date_start=1800, collection_date_end='NOW', source=None, **kwargs):\n",
    "        # build fq\n",
    "        # 'field1': quote('value with spaces and special characters like &'),\n",
    "\n",
    "        # source is a tuple drawing from ['SESAR', 'OPENCONTEXT', 'GEOME', 'SMITHSONIAN']\n",
    "        if source is not None:\n",
    "            source = \" or \".join([f'\"{s}\"' for s in source])\n",
    "\n",
    "        filter_conditions = {\n",
    "            \n",
    "            'producedBy_resultTimeRange': f'[{collection_date_start} TO {collection_date_end}]',  # Range query\n",
    "            'source': source,  # Boolean logic\n",
    "            '-relation_target':'*'\n",
    "        }\n",
    "\n",
    "        filter_conditions.update(kwargs)\n",
    "\n",
    "        # Convert to list of fq strings\n",
    "        fq = [f'{field}:{value}' for field, value in filter_null_values(filter_conditions).items()]\n",
    "\n",
    "        # fq = ['producedBy_resultTimeRange:[1800 TO 2023]', 'source:(OPENCONTEXT or SESAR)', '-relation_target:*']\n",
    "        return fq\n",
    "\n",
    "    def default_search(self, q='*:*',\n",
    "                       fl = FL_DEFAULT,\n",
    "                       fq = None,\n",
    "                       start=0, rows=20, \n",
    "                       facet_field = FACET_FIELDS_DEFAULT,\n",
    "                       sort =  'id ASC',\n",
    "                       **kwargs):\n",
    "        \n",
    "        if fq is None:\n",
    "            fq = self._fq_from_kwargs()\n",
    "    \n",
    "        params={\n",
    "            'q': q, \n",
    "            'fl': fl,\n",
    "            'start':start, \n",
    "            'rows': rows, \n",
    "            'fq': fq,\n",
    "            'facet': 'on',\n",
    "            'facet.field': facet_field,\n",
    "            'cursorMark': '*',\n",
    "            'sort': sort,\n",
    "        }\n",
    "\n",
    "        # update params with kwargs\n",
    "        params.update(kwargs)\n",
    "            \n",
    "        # sort = 'id ASC'\n",
    "        # yield from self.solr.search(q='*:*', fl=FL_DEFAULT, sort='id ASC',cursorMark='*')\n",
    "        print(params)\n",
    "\n",
    "        results = self.solr.search(**params)\n",
    "        return results\n",
    "\n"
   ]
  },
  {
   "cell_type": "markdown",
   "metadata": {},
   "source": [
    "widgetized forms to formulate query\n",
    "\n",
    "display number of hits\n",
    "display facets\n",
    "\n",
    "map\n",
    "dataframe\n"
   ]
  },
  {
   "cell_type": "code",
   "execution_count": 7,
   "metadata": {},
   "outputs": [
    {
     "name": "stdout",
     "output_type": "stream",
     "text": [
      "{'q': '*:*', 'fl': ('searchText', 'authorizedBy', 'producedBy_resultTimeRange', 'hasContextCategory', 'curation_accessContraints', 'curation_description_text', 'curation_label', 'curation_location', 'curation_responsibility', 'description_text', 'id', 'informalClassification', 'keywords', 'label', 'hasMaterialCategory', 'producedBy_description_text', 'producedBy_hasFeatureOfInterest', 'producedBy_label', 'producedBy_responsibility', 'producedBy_resultTime', 'producedBy_samplingSite_description_text', 'producedBy_samplingSite_label', 'producedBy_samplingSite_location_elevationInMeters', 'producedBy_samplingSite_location_latitude', 'producedBy_samplingSite_location_longitude', 'producedBy_samplingSite_placeName', 'registrant', 'samplingPurpose', 'source', 'sourceUpdatedTime', 'producedBy_samplingSite_location_rpt', 'hasSpecimenCategory'), 'start': 0, 'rows': 100, 'fq': ['producedBy_resultTimeRange:[1800 TO NOW]', 'source:\"OPENCONTEXT\"', '-relation_target:*'], 'facet': 'on', 'facet.field': ('authorizedBy', 'hasContextCategory', 'hasMaterialCategory', 'registrant', 'source', 'hasSpecimenCategory'), 'cursorMark': '*', 'sort': 'id ASC', 'facet.range': 'producedBy_resultTimeRange', 'f.producedBy_resultTimeRange.facet.range.gap': '+1YEARS', 'f.producedBy_resultTimeRange.facet.range.start': '1800-01-01T00:00:00Z', 'f.producedBy_resultTimeRange.facet.range.end': '2023-01-01T00:00:00Z'}\n"
     ]
    },
    {
     "name": "stderr",
     "output_type": "stream",
     "text": [
      "INFO:pysolr:Finished 'https://central.isample.xyz/isamples_central/thing/select?q=%2A%3A%2A&fl=searchText&fl=authorizedBy&fl=producedBy_resultTimeRange&fl=hasContextCategory&fl=curation_accessContraints&fl=curation_description_text&fl=curation_label&fl=curation_location&fl=curation_responsibility&fl=description_text&fl=id&fl=informalClassification&fl=keywords&fl=label&fl=hasMaterialCategory&fl=producedBy_description_text&fl=producedBy_hasFeatureOfInterest&fl=producedBy_label&fl=producedBy_responsibility&fl=producedBy_resultTime&fl=producedBy_samplingSite_description_text&fl=producedBy_samplingSite_label&fl=producedBy_samplingSite_location_elevationInMeters&fl=producedBy_samplingSite_location_latitude&fl=producedBy_samplingSite_location_longitude&fl=producedBy_samplingSite_placeName&fl=registrant&fl=samplingPurpose&fl=source&fl=sourceUpdatedTime&fl=producedBy_samplingSite_location_rpt&fl=hasSpecimenCategory&start=0&rows=100&fq=producedBy_resultTimeRange%3A%5B1800+TO+NOW%5D&fq=source%3A%22OPENCONTEXT%22&fq=-relation_target%3A%2A&facet=on&facet.field=authorizedBy&facet.field=hasContextCategory&facet.field=hasMaterialCategory&facet.field=registrant&facet.field=source&facet.field=hasSpecimenCategory&cursorMark=%2A&sort=id+ASC&facet.range=producedBy_resultTimeRange&f.producedBy_resultTimeRange.facet.range.gap=%2B1YEARS&f.producedBy_resultTimeRange.facet.range.start=1800-01-01T00%3A00%3A00Z&f.producedBy_resultTimeRange.facet.range.end=2023-01-01T00%3A00%3A00Z&wt=json' (get) with body '' in 0.936 seconds, with status 200\n"
     ]
    },
    {
     "name": "stdout",
     "output_type": "stream",
     "text": [
      "853229\n"
     ]
    },
    {
     "name": "stderr",
     "output_type": "stream",
     "text": [
      "INFO:pysolr:Finished 'https://central.isample.xyz/isamples_central/thing/select?q=%2A%3A%2A&fl=searchText&fl=authorizedBy&fl=producedBy_resultTimeRange&fl=hasContextCategory&fl=curation_accessContraints&fl=curation_description_text&fl=curation_label&fl=curation_location&fl=curation_responsibility&fl=description_text&fl=id&fl=informalClassification&fl=keywords&fl=label&fl=hasMaterialCategory&fl=producedBy_description_text&fl=producedBy_hasFeatureOfInterest&fl=producedBy_label&fl=producedBy_responsibility&fl=producedBy_resultTime&fl=producedBy_samplingSite_description_text&fl=producedBy_samplingSite_label&fl=producedBy_samplingSite_location_elevationInMeters&fl=producedBy_samplingSite_location_latitude&fl=producedBy_samplingSite_location_longitude&fl=producedBy_samplingSite_placeName&fl=registrant&fl=samplingPurpose&fl=source&fl=sourceUpdatedTime&fl=producedBy_samplingSite_location_rpt&fl=hasSpecimenCategory&start=0&rows=100&fq=producedBy_resultTimeRange%3A%5B1800+TO+NOW%5D&fq=source%3A%22OPENCONTEXT%22&fq=-relation_target%3A%2A&facet=on&facet.field=authorizedBy&facet.field=hasContextCategory&facet.field=hasMaterialCategory&facet.field=registrant&facet.field=source&facet.field=hasSpecimenCategory&cursorMark=AoE0YXJrOi8yODcyMi9rMjAwMDBnNzg%3D&sort=id+ASC&facet.range=producedBy_resultTimeRange&f.producedBy_resultTimeRange.facet.range.gap=%2B1YEARS&f.producedBy_resultTimeRange.facet.range.start=1800-01-01T00%3A00%3A00Z&f.producedBy_resultTimeRange.facet.range.end=2023-01-01T00%3A00%3A00Z&wt=json' (get) with body '' in 0.792 seconds, with status 200\n",
      "INFO:pysolr:Finished 'https://central.isample.xyz/isamples_central/thing/select?q=%2A%3A%2A&fl=searchText&fl=authorizedBy&fl=producedBy_resultTimeRange&fl=hasContextCategory&fl=curation_accessContraints&fl=curation_description_text&fl=curation_label&fl=curation_location&fl=curation_responsibility&fl=description_text&fl=id&fl=informalClassification&fl=keywords&fl=label&fl=hasMaterialCategory&fl=producedBy_description_text&fl=producedBy_hasFeatureOfInterest&fl=producedBy_label&fl=producedBy_responsibility&fl=producedBy_resultTime&fl=producedBy_samplingSite_description_text&fl=producedBy_samplingSite_label&fl=producedBy_samplingSite_location_elevationInMeters&fl=producedBy_samplingSite_location_latitude&fl=producedBy_samplingSite_location_longitude&fl=producedBy_samplingSite_placeName&fl=registrant&fl=samplingPurpose&fl=source&fl=sourceUpdatedTime&fl=producedBy_samplingSite_location_rpt&fl=hasSpecimenCategory&start=0&rows=100&fq=producedBy_resultTimeRange%3A%5B1800+TO+NOW%5D&fq=source%3A%22OPENCONTEXT%22&fq=-relation_target%3A%2A&facet=on&facet.field=authorizedBy&facet.field=hasContextCategory&facet.field=hasMaterialCategory&facet.field=registrant&facet.field=source&facet.field=hasSpecimenCategory&cursorMark=AoE0YXJrOi8yODcyMi9rMjAwMDF2M3A%3D&sort=id+ASC&facet.range=producedBy_resultTimeRange&f.producedBy_resultTimeRange.facet.range.gap=%2B1YEARS&f.producedBy_resultTimeRange.facet.range.start=1800-01-01T00%3A00%3A00Z&f.producedBy_resultTimeRange.facet.range.end=2023-01-01T00%3A00%3A00Z&wt=json' (get) with body '' in 0.761 seconds, with status 200\n"
     ]
    },
    {
     "data": {
      "text/html": [
       "<div>\n",
       "<style scoped>\n",
       "    .dataframe tbody tr th:only-of-type {\n",
       "        vertical-align: middle;\n",
       "    }\n",
       "\n",
       "    .dataframe tbody tr th {\n",
       "        vertical-align: top;\n",
       "    }\n",
       "\n",
       "    .dataframe thead th {\n",
       "        text-align: right;\n",
       "    }\n",
       "</style>\n",
       "<table border=\"1\" class=\"dataframe\">\n",
       "  <thead>\n",
       "    <tr style=\"text-align: right;\">\n",
       "      <th></th>\n",
       "      <th>id</th>\n",
       "      <th>sourceUpdatedTime</th>\n",
       "      <th>label</th>\n",
       "      <th>searchText</th>\n",
       "      <th>description_text</th>\n",
       "      <th>hasContextCategory</th>\n",
       "      <th>hasMaterialCategory</th>\n",
       "      <th>hasSpecimenCategory</th>\n",
       "      <th>keywords</th>\n",
       "      <th>producedBy_label</th>\n",
       "      <th>...</th>\n",
       "      <th>producedBy_responsibility</th>\n",
       "      <th>producedBy_resultTime</th>\n",
       "      <th>producedBy_resultTimeRange</th>\n",
       "      <th>producedBy_samplingSite_label</th>\n",
       "      <th>producedBy_samplingSite_placeName</th>\n",
       "      <th>producedBy_samplingSite_location_rpt</th>\n",
       "      <th>producedBy_samplingSite_location_latitude</th>\n",
       "      <th>producedBy_samplingSite_location_longitude</th>\n",
       "      <th>source</th>\n",
       "      <th>informalClassification</th>\n",
       "    </tr>\n",
       "  </thead>\n",
       "  <tbody>\n",
       "    <tr>\n",
       "      <th>0</th>\n",
       "      <td>ark:/28722/k2000024f</td>\n",
       "      <td>2023-07-16T20:17:56Z</td>\n",
       "      <td>VdM20060209</td>\n",
       "      <td>[VdM20060209, early bce/ce: -535.0 | late bce/...</td>\n",
       "      <td>early bce/ce: -535.0 | late bce/ce: -50.0 | up...</td>\n",
       "      <td>[Site of past human activities]</td>\n",
       "      <td>[Anthropogenic metal, Natural solid material, ...</td>\n",
       "      <td>[Physical specimen]</td>\n",
       "      <td>[Europe, Italy, Vescovado di Murlo, Upper Vesc...</td>\n",
       "      <td>Murlo</td>\n",
       "      <td>...</td>\n",
       "      <td>[creator: Anthony Tuck]</td>\n",
       "      <td>2012-12-28T00:00:00Z</td>\n",
       "      <td>2012-12-28T00:00:00Z</td>\n",
       "      <td>Europe/Italy/Vescovado di Murlo/Upper Vescovad...</td>\n",
       "      <td>[Europe, Italy, Vescovado di Murlo, Upper Vesc...</td>\n",
       "      <td>POINT (11.391122443138563 43.171122385167024)</td>\n",
       "      <td>43.171124</td>\n",
       "      <td>11.391123</td>\n",
       "      <td>OPENCONTEXT</td>\n",
       "      <td>NaN</td>\n",
       "    </tr>\n",
       "    <tr>\n",
       "      <th>1</th>\n",
       "      <td>ark:/28722/k2000025x</td>\n",
       "      <td>2018-07-09T09:50:02Z</td>\n",
       "      <td>PC 19680385</td>\n",
       "      <td>[PC 19680385, early bce/ce: -700.0 | late bce/...</td>\n",
       "      <td>early bce/ce: -700.0 | late bce/ce: -535.0 | u...</td>\n",
       "      <td>[Site of past human activities]</td>\n",
       "      <td>[Anthropogenic material]</td>\n",
       "      <td>[Artifact]</td>\n",
       "      <td>[Italy, Poggio Civitate, Civitate A, Civitate ...</td>\n",
       "      <td>Murlo</td>\n",
       "      <td>...</td>\n",
       "      <td>[creator: Anthony Tuck]</td>\n",
       "      <td>2012-12-28T00:00:00Z</td>\n",
       "      <td>2012-12-28T00:00:00Z</td>\n",
       "      <td>Italy/Poggio Civitate/Civitate A/Civitate A 2I...</td>\n",
       "      <td>[Italy, Poggio Civitate, Civitate A, Civitate ...</td>\n",
       "      <td>POINT (11.400837596717457 43.15319356129963)</td>\n",
       "      <td>43.153194</td>\n",
       "      <td>11.400838</td>\n",
       "      <td>OPENCONTEXT</td>\n",
       "      <td>NaN</td>\n",
       "    </tr>\n",
       "    <tr>\n",
       "      <th>2</th>\n",
       "      <td>ark:/28722/k2000027w</td>\n",
       "      <td>2020-03-28T01:27:10Z</td>\n",
       "      <td>Bone Ref# 3008</td>\n",
       "      <td>[Bone Ref# 3008, early bce/ce: -6700.0 | late ...</td>\n",
       "      <td>early bce/ce: -6700.0 | late bce/ce: -6000.0 |...</td>\n",
       "      <td>[Site of past human activities]</td>\n",
       "      <td>[Biogenic non organic material]</td>\n",
       "      <td>[Artifact, Organism product, Organism part]</td>\n",
       "      <td>[Turkey, Pınarbaşı, Site B, Stratum 6, Context...</td>\n",
       "      <td>Pınarbaşı 1994: Animal Bones</td>\n",
       "      <td>...</td>\n",
       "      <td>[creator: Denise Carruthers]</td>\n",
       "      <td>2013-03-04T00:00:00Z</td>\n",
       "      <td>2013-03-04T00:00:00Z</td>\n",
       "      <td>Turkey/Pınarbaşı/Site B/Stratum 6/Context BCF</td>\n",
       "      <td>[Turkey, Pınarbaşı, Site B, Stratum 6, Context...</td>\n",
       "      <td>POINT (33.018551 37.49432)</td>\n",
       "      <td>37.494320</td>\n",
       "      <td>33.018550</td>\n",
       "      <td>OPENCONTEXT</td>\n",
       "      <td>NaN</td>\n",
       "    </tr>\n",
       "    <tr>\n",
       "      <th>3</th>\n",
       "      <td>ark:/28722/k2000028c</td>\n",
       "      <td>2020-03-28T01:25:22Z</td>\n",
       "      <td>Bone Ref# 2237</td>\n",
       "      <td>[Bone Ref# 2237, early bce/ce: -6700.0 | late ...</td>\n",
       "      <td>early bce/ce: -6700.0 | late bce/ce: -6000.0 |...</td>\n",
       "      <td>[Site of past human activities]</td>\n",
       "      <td>[Biogenic non organic material]</td>\n",
       "      <td>[Artifact, Organism product, Organism part]</td>\n",
       "      <td>[Turkey, Pınarbaşı, Site B, Stratum 6, Context...</td>\n",
       "      <td>Pınarbaşı 1994: Animal Bones</td>\n",
       "      <td>...</td>\n",
       "      <td>[creator: Denise Carruthers]</td>\n",
       "      <td>2013-03-04T00:00:00Z</td>\n",
       "      <td>2013-03-04T00:00:00Z</td>\n",
       "      <td>Turkey/Pınarbaşı/Site B/Stratum 6/Context BBJ</td>\n",
       "      <td>[Turkey, Pınarbaşı, Site B, Stratum 6, Context...</td>\n",
       "      <td>POINT (33.018551 37.49432)</td>\n",
       "      <td>37.494320</td>\n",
       "      <td>33.018550</td>\n",
       "      <td>OPENCONTEXT</td>\n",
       "      <td>NaN</td>\n",
       "    </tr>\n",
       "    <tr>\n",
       "      <th>4</th>\n",
       "      <td>ark:/28722/k2000029v</td>\n",
       "      <td>2020-03-28T01:22:29Z</td>\n",
       "      <td>Bone Ref# 991</td>\n",
       "      <td>[Bone Ref# 991, early bce/ce: -6700.0 | late b...</td>\n",
       "      <td>early bce/ce: -6700.0 | late bce/ce: -6000.0 |...</td>\n",
       "      <td>[Site of past human activities]</td>\n",
       "      <td>[Biogenic non organic material]</td>\n",
       "      <td>[Artifact, Organism product, Organism part]</td>\n",
       "      <td>[Turkey, Pınarbaşı, Site B, Stratum 5, Stratum...</td>\n",
       "      <td>Pınarbaşı 1994: Animal Bones</td>\n",
       "      <td>...</td>\n",
       "      <td>[creator: Denise Carruthers]</td>\n",
       "      <td>2013-03-04T00:00:00Z</td>\n",
       "      <td>2013-03-04T00:00:00Z</td>\n",
       "      <td>Turkey/Pınarbaşı/Site B/Stratum 5/Stratum 6/Co...</td>\n",
       "      <td>[Turkey, Pınarbaşı, Site B, Stratum 5, Stratum...</td>\n",
       "      <td>POINT (33.018551 37.49432)</td>\n",
       "      <td>37.494320</td>\n",
       "      <td>33.018550</td>\n",
       "      <td>OPENCONTEXT</td>\n",
       "      <td>[Sheep or goat]</td>\n",
       "    </tr>\n",
       "  </tbody>\n",
       "</table>\n",
       "<p>5 rows × 21 columns</p>\n",
       "</div>"
      ],
      "text/plain": [
       "                     id     sourceUpdatedTime           label  \\\n",
       "0  ark:/28722/k2000024f  2023-07-16T20:17:56Z     VdM20060209   \n",
       "1  ark:/28722/k2000025x  2018-07-09T09:50:02Z     PC 19680385   \n",
       "2  ark:/28722/k2000027w  2020-03-28T01:27:10Z  Bone Ref# 3008   \n",
       "3  ark:/28722/k2000028c  2020-03-28T01:25:22Z  Bone Ref# 2237   \n",
       "4  ark:/28722/k2000029v  2020-03-28T01:22:29Z   Bone Ref# 991   \n",
       "\n",
       "                                          searchText  \\\n",
       "0  [VdM20060209, early bce/ce: -535.0 | late bce/...   \n",
       "1  [PC 19680385, early bce/ce: -700.0 | late bce/...   \n",
       "2  [Bone Ref# 3008, early bce/ce: -6700.0 | late ...   \n",
       "3  [Bone Ref# 2237, early bce/ce: -6700.0 | late ...   \n",
       "4  [Bone Ref# 991, early bce/ce: -6700.0 | late b...   \n",
       "\n",
       "                                    description_text  \\\n",
       "0  early bce/ce: -535.0 | late bce/ce: -50.0 | up...   \n",
       "1  early bce/ce: -700.0 | late bce/ce: -535.0 | u...   \n",
       "2  early bce/ce: -6700.0 | late bce/ce: -6000.0 |...   \n",
       "3  early bce/ce: -6700.0 | late bce/ce: -6000.0 |...   \n",
       "4  early bce/ce: -6700.0 | late bce/ce: -6000.0 |...   \n",
       "\n",
       "                hasContextCategory  \\\n",
       "0  [Site of past human activities]   \n",
       "1  [Site of past human activities]   \n",
       "2  [Site of past human activities]   \n",
       "3  [Site of past human activities]   \n",
       "4  [Site of past human activities]   \n",
       "\n",
       "                                 hasMaterialCategory  \\\n",
       "0  [Anthropogenic metal, Natural solid material, ...   \n",
       "1                           [Anthropogenic material]   \n",
       "2                    [Biogenic non organic material]   \n",
       "3                    [Biogenic non organic material]   \n",
       "4                    [Biogenic non organic material]   \n",
       "\n",
       "                           hasSpecimenCategory  \\\n",
       "0                          [Physical specimen]   \n",
       "1                                   [Artifact]   \n",
       "2  [Artifact, Organism product, Organism part]   \n",
       "3  [Artifact, Organism product, Organism part]   \n",
       "4  [Artifact, Organism product, Organism part]   \n",
       "\n",
       "                                            keywords  \\\n",
       "0  [Europe, Italy, Vescovado di Murlo, Upper Vesc...   \n",
       "1  [Italy, Poggio Civitate, Civitate A, Civitate ...   \n",
       "2  [Turkey, Pınarbaşı, Site B, Stratum 6, Context...   \n",
       "3  [Turkey, Pınarbaşı, Site B, Stratum 6, Context...   \n",
       "4  [Turkey, Pınarbaşı, Site B, Stratum 5, Stratum...   \n",
       "\n",
       "               producedBy_label  ...     producedBy_responsibility  \\\n",
       "0                         Murlo  ...       [creator: Anthony Tuck]   \n",
       "1                         Murlo  ...       [creator: Anthony Tuck]   \n",
       "2  Pınarbaşı 1994: Animal Bones  ...  [creator: Denise Carruthers]   \n",
       "3  Pınarbaşı 1994: Animal Bones  ...  [creator: Denise Carruthers]   \n",
       "4  Pınarbaşı 1994: Animal Bones  ...  [creator: Denise Carruthers]   \n",
       "\n",
       "  producedBy_resultTime producedBy_resultTimeRange  \\\n",
       "0  2012-12-28T00:00:00Z       2012-12-28T00:00:00Z   \n",
       "1  2012-12-28T00:00:00Z       2012-12-28T00:00:00Z   \n",
       "2  2013-03-04T00:00:00Z       2013-03-04T00:00:00Z   \n",
       "3  2013-03-04T00:00:00Z       2013-03-04T00:00:00Z   \n",
       "4  2013-03-04T00:00:00Z       2013-03-04T00:00:00Z   \n",
       "\n",
       "                       producedBy_samplingSite_label  \\\n",
       "0  Europe/Italy/Vescovado di Murlo/Upper Vescovad...   \n",
       "1  Italy/Poggio Civitate/Civitate A/Civitate A 2I...   \n",
       "2      Turkey/Pınarbaşı/Site B/Stratum 6/Context BCF   \n",
       "3      Turkey/Pınarbaşı/Site B/Stratum 6/Context BBJ   \n",
       "4  Turkey/Pınarbaşı/Site B/Stratum 5/Stratum 6/Co...   \n",
       "\n",
       "                   producedBy_samplingSite_placeName  \\\n",
       "0  [Europe, Italy, Vescovado di Murlo, Upper Vesc...   \n",
       "1  [Italy, Poggio Civitate, Civitate A, Civitate ...   \n",
       "2  [Turkey, Pınarbaşı, Site B, Stratum 6, Context...   \n",
       "3  [Turkey, Pınarbaşı, Site B, Stratum 6, Context...   \n",
       "4  [Turkey, Pınarbaşı, Site B, Stratum 5, Stratum...   \n",
       "\n",
       "            producedBy_samplingSite_location_rpt  \\\n",
       "0  POINT (11.391122443138563 43.171122385167024)   \n",
       "1   POINT (11.400837596717457 43.15319356129963)   \n",
       "2                     POINT (33.018551 37.49432)   \n",
       "3                     POINT (33.018551 37.49432)   \n",
       "4                     POINT (33.018551 37.49432)   \n",
       "\n",
       "  producedBy_samplingSite_location_latitude  \\\n",
       "0                                 43.171124   \n",
       "1                                 43.153194   \n",
       "2                                 37.494320   \n",
       "3                                 37.494320   \n",
       "4                                 37.494320   \n",
       "\n",
       "   producedBy_samplingSite_location_longitude       source  \\\n",
       "0                                   11.391123  OPENCONTEXT   \n",
       "1                                   11.400838  OPENCONTEXT   \n",
       "2                                   33.018550  OPENCONTEXT   \n",
       "3                                   33.018550  OPENCONTEXT   \n",
       "4                                   33.018550  OPENCONTEXT   \n",
       "\n",
       "  informalClassification  \n",
       "0                    NaN  \n",
       "1                    NaN  \n",
       "2                    NaN  \n",
       "3                    NaN  \n",
       "4        [Sheep or goat]  \n",
       "\n",
       "[5 rows x 21 columns]"
      ]
     },
     "execution_count": 7,
     "metadata": {},
     "output_type": "execute_result"
    }
   ],
   "source": [
    "cli = IsbClient2()\n",
    "fq = cli._fq_from_kwargs(source=('OPENCONTEXT',))\n",
    "query = cli.default_search(fq=fq, fl=FL_DEFAULT, rows=100, **FACET_RANGE_FIELDS_DEFAULT)\n",
    "# print number of hits\n",
    "print (len(query))\n",
    "results = islice(query, 300)\n",
    "\n",
    "df = DataFrame(results)\n",
    "df.head()"
   ]
  },
  {
   "cell_type": "code",
   "execution_count": 8,
   "metadata": {},
   "outputs": [
    {
     "name": "stderr",
     "output_type": "stream",
     "text": [
      "INFO:httpx:HTTP Request: GET https://central.isample.xyz/isamples_central/thing/select?rows=0&q=%2A%3A%2A \"HTTP/1.1 200 OK\"\n",
      "INFO:root:url = https://central.isample.xyz/isamples_central/thing/select?rows=0&q=%2A%3A%2A\n"
     ]
    },
    {
     "data": {
      "text/plain": [
       "6347972"
      ]
     },
     "execution_count": 8,
     "metadata": {},
     "output_type": "execute_result"
    }
   ],
   "source": [
    "\n",
    "cli = IsbClient2()\n",
    "cli.record_count(\"*:*\")\n"
   ]
  },
  {
   "cell_type": "code",
   "execution_count": 9,
   "metadata": {},
   "outputs": [],
   "source": [
    "assert set(query.raw_response.keys()) == set(['responseHeader', 'response', 'nextCursorMark', 'facet_counts'])"
   ]
  },
  {
   "cell_type": "code",
   "execution_count": 10,
   "metadata": {},
   "outputs": [
    {
     "data": {
      "text/plain": [
       "dict_keys(['authorizedBy', 'hasContextCategory', 'hasMaterialCategory', 'registrant', 'source', 'hasSpecimenCategory'])"
      ]
     },
     "execution_count": 10,
     "metadata": {},
     "output_type": "execute_result"
    }
   ],
   "source": [
    "# dict_keys(['facet_queries', 'facet_fields', 'facet_ranges', 'facet_intervals', 'facet_heatmaps'])\n",
    "query.raw_response['facet_counts'].keys()\n",
    "\n",
    "query.raw_response['facet_counts']['facet_fields'].keys()"
   ]
  },
  {
   "cell_type": "code",
   "execution_count": 11,
   "metadata": {},
   "outputs": [
    {
     "data": {
      "text/plain": [
       "['OPENCONTEXT', 853229, 'GEOME', 0, 'SESAR', 0, 'SMITHSONIAN', 0]"
      ]
     },
     "execution_count": 11,
     "metadata": {},
     "output_type": "execute_result"
    }
   ],
   "source": [
    "query.raw_response['facet_counts']['facet_fields']['source']"
   ]
  },
  {
   "cell_type": "code",
   "execution_count": 12,
   "metadata": {},
   "outputs": [
    {
     "data": {
      "application/vnd.jupyter.widget-view+json": {
       "model_id": "381a98988448433c8faa4cbe8879678d",
       "version_major": 2,
       "version_minor": 0
      },
      "text/plain": [
       "HBox(children=(Tree(layout=Layout(width='40%'), nodes=(Node(name='Markers', nodes=(Node(icon='map-marker', nam…"
      ]
     },
     "execution_count": 12,
     "metadata": {},
     "output_type": "execute_result"
    }
   ],
   "source": [
    "from ipytree import Tree, Node\n",
    "from ipyleaflet import Map, Marker\n",
    "from ipywidgets import HBox, link, Layout\n",
    "\n",
    "m = Map(center=[47.51, 4.04], zoom=4, layout=Layout(height='400px'))\n",
    "tree = Tree()\n",
    "tree.layout.width = '40%'\n",
    "box = HBox([tree, m])\n",
    "\n",
    "markers_node = Node('Markers')\n",
    "tree.add_node(markers_node)\n",
    "\n",
    "layers_node = Node('Layers', icon='map')\n",
    "tree.add_node(layers_node)\n",
    "\n",
    "cities = [\n",
    "    {'name': 'London', 'location': [51.5074, 0.1278]},\n",
    "    {'name': 'Paris', 'location': [48.8566, 2.3522]},\n",
    "    {'name': 'Barcelona', 'location': [41.31, 2.109]}\n",
    "]\n",
    "\n",
    "for city in cities:\n",
    "    marker = Marker(location=city.get('location'))\n",
    "    node = Node(city.get('name'), icon='map-marker')\n",
    "\n",
    "    link((marker, 'visible'), (node, 'selected'))\n",
    "\n",
    "    m.add_layer(marker)\n",
    "    markers_node.add_node(node)\n",
    "\n",
    "box"
   ]
  },
  {
   "cell_type": "code",
   "execution_count": 13,
   "metadata": {},
   "outputs": [
    {
     "data": {
      "text/plain": [
       "dict_keys(['producedBy_resultTimeRange'])"
      ]
     },
     "execution_count": 13,
     "metadata": {},
     "output_type": "execute_result"
    }
   ],
   "source": [
    "# query.raw_response.keys() --> dict_keys(['responseHeader', 'response', 'nextCursorMark', 'facet_counts'])\n",
    "query.raw_response['facet_counts']['facet_ranges'].keys()"
   ]
  },
  {
   "cell_type": "code",
   "execution_count": 15,
   "metadata": {},
   "outputs": [
    {
     "data": {
      "text/plain": [
       "dict_keys(['producedBy_resultTimeRange'])"
      ]
     },
     "execution_count": 15,
     "metadata": {},
     "output_type": "execute_result"
    }
   ],
   "source": [
    "# keys: dict_keys(['facet_queries', 'facet_fields', 'facet_ranges', 'facet_intervals', 'facet_heatmaps'])\n",
    "query.raw_response['facet_counts']['facet_ranges'].keys()"
   ]
  },
  {
   "cell_type": "code",
   "execution_count": 16,
   "metadata": {},
   "outputs": [
    {
     "name": "stderr",
     "output_type": "stream",
     "text": [
      "INFO:httpx:HTTP Request: GET https://central.isample.xyz/isamples_central/thing/select/info \"HTTP/1.1 200 OK\"\n",
      "INFO:root:url = https://central.isample.xyz/isamples_central/thing/select/info\n"
     ]
    },
    {
     "data": {
      "text/plain": [
       "dict_keys(['responseHeader', 'index', 'schema', 'info'])"
      ]
     },
     "execution_count": 16,
     "metadata": {},
     "output_type": "execute_result"
    }
   ],
   "source": [
    "# 'responseHeader', 'index', 'schema', 'info'\n",
    "r = cli._request(\"thing/select/info\")\n",
    "r.keys()"
   ]
  },
  {
   "cell_type": "code",
   "execution_count": 17,
   "metadata": {},
   "outputs": [
    {
     "data": {
      "text/plain": [
       "dict_keys(['_nest_parent_', '_nest_path_', '_root_', '_text_', '_version_', 'authorizedBy', 'compliesWith', 'curation_accessContraints', 'curation_description', 'curation_description_text', 'curation_label', 'curation_location', 'curation_responsibility', 'description', 'description_text', 'hasContextCategory', 'hasContextCategoryConfidence', 'hasMaterialCategory', 'hasMaterialCategoryConfidence', 'hasSpecimenCategory', 'hasSpecimenCategoryConfidence', 'id', 'indexUpdatedTime', 'informalClassification', 'isb_core_id', 'keywords', 'label', 'producedBy_description', 'producedBy_description_text', 'producedBy_hasFeatureOfInterest', 'producedBy_isb_core_id', 'producedBy_label', 'producedBy_responsibility', 'producedBy_resultTime', 'producedBy_resultTimeRange', 'producedBy_samplingSite_description', 'producedBy_samplingSite_description_text', 'producedBy_samplingSite_label', 'producedBy_samplingSite_location_bb', 'producedBy_samplingSite_location_bb__maxX', 'producedBy_samplingSite_location_bb__maxY', 'producedBy_samplingSite_location_bb__minX', 'producedBy_samplingSite_location_bb__minY', 'producedBy_samplingSite_location_bb__xdl', 'producedBy_samplingSite_location_cesium_height', 'producedBy_samplingSite_location_cesium_height_2', 'producedBy_samplingSite_location_elevationInMeters', 'producedBy_samplingSite_location_h3', 'producedBy_samplingSite_location_h3_0', 'producedBy_samplingSite_location_h3_1', 'producedBy_samplingSite_location_h3_10', 'producedBy_samplingSite_location_h3_11', 'producedBy_samplingSite_location_h3_12', 'producedBy_samplingSite_location_h3_13', 'producedBy_samplingSite_location_h3_14', 'producedBy_samplingSite_location_h3_15', 'producedBy_samplingSite_location_h3_2', 'producedBy_samplingSite_location_h3_3', 'producedBy_samplingSite_location_h3_4', 'producedBy_samplingSite_location_h3_5', 'producedBy_samplingSite_location_h3_6', 'producedBy_samplingSite_location_h3_7', 'producedBy_samplingSite_location_h3_8', 'producedBy_samplingSite_location_h3_9', 'producedBy_samplingSite_location_latitude', 'producedBy_samplingSite_location_ll', 'producedBy_samplingSite_location_longitude', 'producedBy_samplingSite_location_rpt', 'producedBy_samplingSite_placeName', 'registrant', 'relatedResource_isb_core_id', 'relation_target', 'relation_type', 'relations', 'samplingPurpose', 'searchText', 'source', 'sourceUpdatedTime'])"
      ]
     },
     "execution_count": 17,
     "metadata": {},
     "output_type": "execute_result"
    }
   ],
   "source": [
    "r['schema']['fields'].keys()"
   ]
  },
  {
   "cell_type": "code",
   "execution_count": 18,
   "metadata": {},
   "outputs": [],
   "source": [
    "# timeout internal server error\n",
    "if False:\n",
    "    r = cli._request(\"thing/types\")"
   ]
  },
  {
   "cell_type": "code",
   "execution_count": 19,
   "metadata": {},
   "outputs": [
    {
     "data": {
      "text/plain": [
       "Counter({('string', 'org.apache.solr.schema.StrField'): 49,\n",
       "         ('pfloat', 'org.apache.solr.schema.FloatPointField'): 8,\n",
       "         ('text_en', 'org.apache.solr.schema.TextField'): 5,\n",
       "         ('pdouble', 'org.apache.solr.schema.DoublePointField'): 4,\n",
       "         ('pdate', 'org.apache.solr.schema.DatePointField'): 3,\n",
       "         ('text_general', 'org.apache.solr.schema.TextField'): 2,\n",
       "         ('_nest_path_', 'org.apache.solr.schema.NestPathField'): 1,\n",
       "         ('plong', 'org.apache.solr.schema.LongPointField'): 1,\n",
       "         ('date_range', 'org.apache.solr.schema.DateRangeField'): 1,\n",
       "         ('bbox', 'org.apache.solr.schema.BBoxField'): 1,\n",
       "         ('boolean', 'org.apache.solr.schema.BoolField'): 1,\n",
       "         ('location', 'org.apache.solr.schema.LatLonPointSpatialField'): 1,\n",
       "         ('location_rpt',\n",
       "          'org.apache.solr.schema.SpatialRecursivePrefixTreeFieldType'): 1})"
      ]
     },
     "execution_count": 19,
     "metadata": {},
     "output_type": "execute_result"
    }
   ],
   "source": [
    "# types and classnames for all the fields on the system\n",
    "Counter([(x['type'], r['schema']['types'][x['type']]['className']) for x in r['schema']['fields'].values()])"
   ]
  },
  {
   "cell_type": "code",
   "execution_count": 20,
   "metadata": {},
   "outputs": [
    {
     "name": "stderr",
     "output_type": "stream",
     "text": [
      "INFO:httpx:HTTP Request: GET https://central.isample.xyz/isamples_central/thing/select/info \"HTTP/1.1 200 OK\"\n",
      "INFO:root:url = https://central.isample.xyz/isamples_central/thing/select/info\n"
     ]
    },
    {
     "name": "stdout",
     "output_type": "stream",
     "text": [
      "number of fields 78\n",
      "number of field names (another way to access) 78\n",
      "types for the major fields\n"
     ]
    },
    {
     "data": {
      "text/plain": [
       "[('hasContextCategory', 'string', 'org.apache.solr.schema.StrField'),\n",
       " ('hasMaterialCategory', 'string', 'org.apache.solr.schema.StrField'),\n",
       " ('hasSpecimenCategory', 'string', 'org.apache.solr.schema.StrField'),\n",
       " ('id', 'string', 'org.apache.solr.schema.StrField'),\n",
       " ('keywords', 'string', 'org.apache.solr.schema.StrField'),\n",
       " ('label', 'string', 'org.apache.solr.schema.StrField'),\n",
       " ('producedBy_resultTime', 'pdate', 'org.apache.solr.schema.DatePointField'),\n",
       " ('producedBy_resultTimeRange',\n",
       "  'date_range',\n",
       "  'org.apache.solr.schema.DateRangeField'),\n",
       " ('producedBy_samplingSite_location_rpt',\n",
       "  'location_rpt',\n",
       "  'org.apache.solr.schema.SpatialRecursivePrefixTreeFieldType'),\n",
       " ('producedBy_samplingSite_placeName',\n",
       "  'string',\n",
       "  'org.apache.solr.schema.StrField'),\n",
       " ('registrant', 'string', 'org.apache.solr.schema.StrField'),\n",
       " ('searchText', 'text_en', 'org.apache.solr.schema.TextField'),\n",
       " ('source', 'string', 'org.apache.solr.schema.StrField'),\n",
       " ('sourceUpdatedTime', 'pdate', 'org.apache.solr.schema.DatePointField')]"
      ]
     },
     "execution_count": 20,
     "metadata": {},
     "output_type": "execute_result"
    }
   ],
   "source": [
    "# e.g, I for Indexed, T for Tokenized, S for Stored, etc.\n",
    "r['info']['key']\n",
    "\n",
    "# ['fields', 'dynamicFields', 'uniqueKeyField', 'similarity', 'types']\n",
    "r['schema'].keys()\n",
    "\n",
    "# get the fields -- 78 of them\n",
    "print (\"number of fields\", len(r['schema']['fields'].keys()))\n",
    "\n",
    "field_names = cli.field_names()\n",
    "print(\"number of field names (another way to access)\", len(field_names))\n",
    "\n",
    "print (\"types for the major fields\")\n",
    "[(k,v['type'], r['schema']['types'][v['type']]['className'] ) for (k,v) in r['schema']['fields'].items() if k in MAJOR_FIELDS.values()]"
   ]
  },
  {
   "cell_type": "code",
   "execution_count": 21,
   "metadata": {},
   "outputs": [
    {
     "name": "stdout",
     "output_type": "stream",
     "text": [
      "q: ['*:*']\n",
      "fl: ['searchText authorizedBy producedBy_resultTimeRange hasContextCategory curation_accessContraints curation_description_text curation_label curation_location curation_responsibility description_text id informalClassification keywords label hasMaterialCategory producedBy_description_text producedBy_hasFeatureOfInterest producedBy_label producedBy_responsibility producedBy_resultTime producedBy_samplingSite_description_text producedBy_samplingSite_label producedBy_samplingSite_location_elevationInMeters producedBy_samplingSite_location_latitude producedBy_samplingSite_location_longitude producedBy_samplingSite_placeName registrant samplingPurpose source sourceUpdatedTime producedBy_samplingSite_location_rpt hasSpecimenCategory']\n",
      "fq: ['producedBy_resultTimeRange:[1800 TO 2023]', 'source:(\"OPENCONTEXT\" OR \"SESAR\")', '-relation_target:*']\n",
      "facet.field: ['authorizedBy', 'hasContextCategory', 'hasMaterialCategory', 'registrant', 'source', 'hasSpecimenCategory']\n",
      "facet.range: ['producedBy_resultTimeRange']\n",
      "facet.range.gap: ['+1YEARS']\n",
      "facet.range.start: ['1800-01-01T00:00:00Z']\n",
      "facet.range.end: ['2023-01-01T00:00:00Z']\n",
      "f.registrant.facet.sort: ['count']\n",
      "f.source.facet.sort: ['index']\n",
      "rows: ['20']\n",
      "facet.limit: ['-1']\n",
      "facet.sort: ['index']\n",
      "start: ['0']\n",
      "facet: ['on']\n",
      "wt: ['json']\n",
      "{'q': '*:*', 'fl': 'searchText authorizedBy producedBy_resultTimeRange hasContextCategory curation_accessContraints curation_description_text curation_label curation_location curation_responsibility description_text id informalClassification keywords label hasMaterialCategory producedBy_description_text producedBy_hasFeatureOfInterest producedBy_label producedBy_responsibility producedBy_resultTime producedBy_samplingSite_description_text producedBy_samplingSite_label producedBy_samplingSite_location_elevationInMeters producedBy_samplingSite_location_latitude producedBy_samplingSite_location_longitude producedBy_samplingSite_placeName registrant samplingPurpose source sourceUpdatedTime producedBy_samplingSite_location_rpt hasSpecimenCategory', 'fq': 'producedBy_resultTimeRange:[1800 TO 2023]', 'facet.field': 'authorizedBy', 'facet.range': 'producedBy_resultTimeRange', 'facet.range.gap': '+1YEARS', 'facet.range.start': '1800-01-01T00:00:00Z', 'facet.range.end': '2023-01-01T00:00:00Z', 'f.registrant.facet.sort': 'count', 'f.source.facet.sort': 'index', 'rows': '20', 'facet.limit': '-1', 'facet.sort': 'index', 'start': '0', 'facet': 'on', 'wt': 'json'}\n"
     ]
    }
   ],
   "source": [
    "from urllib.parse import urlparse, parse_qs\n",
    "\n",
    "url = 'https://central.isample.xyz/isamples_central/thing/select?q=*:*&fl=searchText%20authorizedBy%20producedBy_resultTimeRange%20hasContextCategory%20curation_accessContraints%20curation_description_text%20curation_label%20curation_location%20curation_responsibility%20description_text%20id%20informalClassification%20keywords%20label%20hasMaterialCategory%20producedBy_description_text%20producedBy_hasFeatureOfInterest%20producedBy_label%20producedBy_responsibility%20producedBy_resultTime%20producedBy_samplingSite_description_text%20producedBy_samplingSite_label%20producedBy_samplingSite_location_elevationInMeters%20producedBy_samplingSite_location_latitude%20producedBy_samplingSite_location_longitude%20producedBy_samplingSite_placeName%20registrant%20samplingPurpose%20source%20sourceUpdatedTime%20producedBy_samplingSite_location_rpt%20hasSpecimenCategory&fq=producedBy_resultTimeRange%3A%5B1800%20TO%202023%5D&fq=source%3A(%22OPENCONTEXT%22%20OR%20%22SESAR%22)&fq=-relation_target%3A*&facet.field=authorizedBy&facet.field=hasContextCategory&facet.field=hasMaterialCategory&facet.field=registrant&facet.field=source&facet.field=hasSpecimenCategory&facet.range=producedBy_resultTimeRange&facet.range.gap=%2B1YEARS&facet.range.start=1800-01-01T00:00:00Z&facet.range.end=2023-01-01T00:00:00Z&f.registrant.facet.sort=count&f.source.facet.sort=index&rows=20&facet.limit=-1&facet.sort=index&&start=0&facet=on&wt=json'\n",
    "\n",
    "parsed_url = urlparse(url)\n",
    "query_params = parse_qs(parsed_url.query)\n",
    "\n",
    "# The result is a dictionary where each key is associated with a list of values.\n",
    "# You can iterate over this dictionary to process your parameters as needed.\n",
    "for key, values in query_params.items():\n",
    "    print(f\"{key}: {values}\")\n",
    "\n",
    "# If you need each key to have a single value (taking the first value if multiple are present),\n",
    "# you can do the following:\n",
    "single_value_params = {key: values[0] for key, values in query_params.items()}\n",
    "print(single_value_params)\n"
   ]
  },
  {
   "cell_type": "code",
   "execution_count": 22,
   "metadata": {},
   "outputs": [
    {
     "name": "stderr",
     "output_type": "stream",
     "text": [
      "INFO:httpx:HTTP Request: GET https://central.isample.xyz/isamples_central/thing/select?q=%2A%3A%2A&start=0&rows=10&fq=producedBy_resultTimeRange%3A%5B1800%20TO%202023%5D&fq=source%3A%28OPENCONTEXT%20or%20SESAR%29&fq=-relation_target%3A%2A&facet.field=authorizedBy&facet.field=hasContextCategory&facet.field=hasMaterialCategory&facet.field=registrant&facet.field=source&facet.field=hasSpecimenCategory&facet=on \"HTTP/1.1 200 OK\"\n",
      "INFO:root:url = https://central.isample.xyz/isamples_central/thing/select?q=%2A%3A%2A&start=0&rows=10&fq=producedBy_resultTimeRange%3A%5B1800%20TO%202023%5D&fq=source%3A%28OPENCONTEXT%20or%20SESAR%29&fq=-relation_target%3A%2A&facet.field=authorizedBy&facet.field=hasContextCategory&facet.field=hasMaterialCategory&facet.field=registrant&facet.field=source&facet.field=hasSpecimenCategory&facet=on\n"
     ]
    },
    {
     "data": {
      "text/plain": [
       "{'responseHeader': {'zkConnected': True,\n",
       "  'status': 0,\n",
       "  'QTime': 2244,\n",
       "  'params': {'q': '*:*',\n",
       "   'facet.field': ['authorizedBy',\n",
       "    'hasContextCategory',\n",
       "    'hasMaterialCategory',\n",
       "    'registrant',\n",
       "    'source',\n",
       "    'hasSpecimenCategory'],\n",
       "   'fl': 'id',\n",
       "   'start': '0',\n",
       "   'fq': ['producedBy_resultTimeRange:[1800 TO 2023]',\n",
       "    'source:(OPENCONTEXT or SESAR)',\n",
       "    '-relation_target:*'],\n",
       "   'rows': '10',\n",
       "   'facet': 'on',\n",
       "   'wt': 'json'}},\n",
       " 'response': {'numFound': 5540537,\n",
       "  'start': 0,\n",
       "  'numFoundExact': True,\n",
       "  'docs': [{'id': 'IGSN:IESER000J'},\n",
       "   {'id': 'IGSN:IESER000K'},\n",
       "   {'id': 'IGSN:IESER000L'},\n",
       "   {'id': 'IGSN:IELL10002'},\n",
       "   {'id': 'IGSN:IENWU0PBP'},\n",
       "   {'id': 'IGSN:IENWU0SDP'},\n",
       "   {'id': 'IGSN:IESER0009'},\n",
       "   {'id': 'IGSN:IESER0008'},\n",
       "   {'id': 'IGSN:IESER0006'},\n",
       "   {'id': 'IGSN:IESER000B'}]},\n",
       " 'facet_counts': {'facet_queries': {},\n",
       "  'facet_fields': {'authorizedBy': [],\n",
       "   'hasContextCategory': ['Not Provided',\n",
       "    3982952,\n",
       "    'Site of past human activities',\n",
       "    853229,\n",
       "    'Earth interior',\n",
       "    665758,\n",
       "    'Subaerial surface environment',\n",
       "    19490,\n",
       "    'Marine water body bottom',\n",
       "    8044,\n",
       "    'Terrestrial water body',\n",
       "    4754,\n",
       "    'Marine water body',\n",
       "    1999,\n",
       "    'Lake, river or stream bottom',\n",
       "    1697,\n",
       "    'Subsurface fluid reservoir',\n",
       "    1680,\n",
       "    'Marine biome',\n",
       "    1661,\n",
       "    'Subaerial terrestrial biome',\n",
       "    133,\n",
       "    'Active human occupation site',\n",
       "    0,\n",
       "    'Animalia',\n",
       "    0,\n",
       "    'Bacteria',\n",
       "    0,\n",
       "    'Chromista',\n",
       "    0,\n",
       "    'Fungi',\n",
       "    0,\n",
       "    'Lake river or stream bottom',\n",
       "    0,\n",
       "    'Marine environment',\n",
       "    0,\n",
       "    'Plantae',\n",
       "    0,\n",
       "    'Protozoa',\n",
       "    0],\n",
       "   'hasMaterialCategory': ['Natural Solid Material',\n",
       "    2233939,\n",
       "    'Rock',\n",
       "    913121,\n",
       "    ' rock',\n",
       "    838805,\n",
       "    ' sediment',\n",
       "    838805,\n",
       "    'Mixed soil',\n",
       "    838805,\n",
       "    'Biogenic non organic material',\n",
       "    484858,\n",
       "    'Material',\n",
       "    462472,\n",
       "    'Mineral',\n",
       "    391086,\n",
       "    'Biogenic non-organic material',\n",
       "    346242,\n",
       "    'Organic material',\n",
       "    340883,\n",
       "    'Anthropogenic metal',\n",
       "    184888,\n",
       "    'Natural solid material',\n",
       "    182909,\n",
       "    'Not Provided',\n",
       "    181260,\n",
       "    'Anthropogenic material',\n",
       "    177576,\n",
       "    'Sediment',\n",
       "    93014,\n",
       "    'Soil',\n",
       "    37153,\n",
       "    'Liquid water',\n",
       "    25777,\n",
       "    'Gaseous material',\n",
       "    1225,\n",
       "    'Particulate',\n",
       "    124,\n",
       "    'Non-aqueous liquid material',\n",
       "    46,\n",
       "    'Ice',\n",
       "    8],\n",
       "   'registrant': ['Curator Integrated Ocean Drilling Program (TAMU)',\n",
       "    3516905,\n",
       "    'Adam Mansur',\n",
       "    383835,\n",
       "    'Andrew Johnston',\n",
       "    131490,\n",
       "    'Edward Gilbert',\n",
       "    127290,\n",
       "    'Aaron Averett',\n",
       "    84251,\n",
       "    'Curator US Polar Rock Repository',\n",
       "    53343,\n",
       "    'Carl Francis',\n",
       "    46961,\n",
       "    'corelab repository',\n",
       "    38121,\n",
       "    'Charlotte Sjunneskog',\n",
       "    23996,\n",
       "    'Sam Kodama',\n",
       "    21421,\n",
       "    \"Nicole D'Entremont\",\n",
       "    17985,\n",
       "    'Denise Hills',\n",
       "    15629,\n",
       "    'Robert Arko',\n",
       "    15459,\n",
       "    'CyberCarotheque France',\n",
       "    11291,\n",
       "    'Science Base',\n",
       "    10270,\n",
       "    'Mark Schmitz',\n",
       "    9500,\n",
       "    'Matej Durcik',\n",
       "    8155,\n",
       "    'Anders Noren',\n",
       "    6707,\n",
       "    'Sarah Ramdeen',\n",
       "    6122,\n",
       "    'Susan Brantley',\n",
       "    6034,\n",
       "    'Javier Escartin',\n",
       "    5493,\n",
       "    'Carlos J. Garrido',\n",
       "    4576,\n",
       "    'Jeffrey Gee',\n",
       "    4354,\n",
       "    'Steve Carey',\n",
       "    3745,\n",
       "    'Allegra Hosford Scheirer',\n",
       "    3615,\n",
       "    'alan mackenzie',\n",
       "    3432,\n",
       "    'Katherine Kelley',\n",
       "    3271,\n",
       "    'Melbourne Thermochronology',\n",
       "    3227,\n",
       "    'Alexandra Hangsterfer',\n",
       "    2998,\n",
       "    'Alexandra Belinsky',\n",
       "    2911,\n",
       "    'william pearcy',\n",
       "    2898,\n",
       "    'George Gehrels',\n",
       "    2863,\n",
       "    'Rachelle Ruble',\n",
       "    2753,\n",
       "    'Stephanie Pennington',\n",
       "    2684,\n",
       "    'Sarah Brown',\n",
       "    2539,\n",
       "    'Richard Murray',\n",
       "    2517,\n",
       "    'Isabel A. Hohle',\n",
       "    2462,\n",
       "    'Justine Sauvage',\n",
       "    2363,\n",
       "    'Bernhard Peucker-Ehrenbrink',\n",
       "    2320,\n",
       "    'Gene Yogodzinski',\n",
       "    2085,\n",
       "    'Christoph Beier',\n",
       "    2002,\n",
       "    'Tyrone Rooney',\n",
       "    1945,\n",
       "    'Jie Zhang',\n",
       "    1813,\n",
       "    'Nanxi Lu',\n",
       "    1733,\n",
       "    'SLAC SFA',\n",
       "    1727,\n",
       "    'Vivien Rivera',\n",
       "    1659,\n",
       "    'Michael Perfit',\n",
       "    1638,\n",
       "    'Indiana Geological and Water Survey',\n",
       "    1574,\n",
       "    'Adam Brown',\n",
       "    1570,\n",
       "    'Kathleen  Lohse',\n",
       "    1568,\n",
       "    'Kevin Johnson',\n",
       "    1568,\n",
       "    'Amy Myrbo',\n",
       "    1456,\n",
       "    'Michael Carr',\n",
       "    1362,\n",
       "    'Tak Kunihiro',\n",
       "    1344,\n",
       "    'Ashlee Dere',\n",
       "    1330,\n",
       "    'Mike Jackson',\n",
       "    1294,\n",
       "    'Leslie Skibinski',\n",
       "    1243,\n",
       "    'Karin Block',\n",
       "    1143,\n",
       "    'Miguel Leon',\n",
       "    1113,\n",
       "    'Th Dhanakumar Singh',\n",
       "    1108,\n",
       "    'Megan Carter',\n",
       "    1102,\n",
       "    'Ken Rubin',\n",
       "    1041,\n",
       "    'Zarine Kakalia',\n",
       "    1002,\n",
       "    'Carla Moore',\n",
       "    968,\n",
       "    'Jim Gill',\n",
       "    929,\n",
       "    'Vicente Lopez Sanchez-Vizcaino',\n",
       "    898,\n",
       "    'Sheridan Ackiss',\n",
       "    888,\n",
       "    'Jane Selverstone',\n",
       "    879,\n",
       "    'Corey Lawrence',\n",
       "    830,\n",
       "    'Sam Pierce',\n",
       "    823,\n",
       "    'Nicholas Arndt',\n",
       "    799,\n",
       "    'Brian Buczkowski',\n",
       "    791,\n",
       "    'Deborah Eason',\n",
       "    762,\n",
       "    'Alexandra Noronha',\n",
       "    728,\n",
       "    'Evan Solomon',\n",
       "    719,\n",
       "    'YUE CAI',\n",
       "    697,\n",
       "    'Brian Dreyer',\n",
       "    682,\n",
       "    'Andra Bobbitt',\n",
       "    664,\n",
       "    'Sarah Penniston-Dorland',\n",
       "    649,\n",
       "    'Andrea Dutton',\n",
       "    642,\n",
       "    'Consuelo del Pilar Martínez Fontaine',\n",
       "    641,\n",
       "    'Mike Cheadle',\n",
       "    633,\n",
       "    'Robert Blackett',\n",
       "    623,\n",
       "    'Jason Austin',\n",
       "    612,\n",
       "    'Elizabeth Adams',\n",
       "    606,\n",
       "    'Amy Commendador',\n",
       "    599,\n",
       "    'Melanie Arnold',\n",
       "    589,\n",
       "    'Paul Schuster',\n",
       "    589,\n",
       "    'Amber Ciravolo',\n",
       "    583,\n",
       "    'Kelly Deuerling',\n",
       "    552,\n",
       "    'Sruti Devendran',\n",
       "    552,\n",
       "    'Courtney Creamer',\n",
       "    551,\n",
       "    'Marcella Redden',\n",
       "    501,\n",
       "    'Jonathan Nichols',\n",
       "    498,\n",
       "    'Adam Soule',\n",
       "    489,\n",
       "    'Harold Wilson Tumwitike Mapoma',\n",
       "    474,\n",
       "    'Lin Ma',\n",
       "    468,\n",
       "    'Chris Mattinson',\n",
       "    466,\n",
       "    'Julie Bowles',\n",
       "    464,\n",
       "    'Vanessa Garayburu-Caruso',\n",
       "    463],\n",
       "   'source': ['SESAR',\n",
       "    4687308,\n",
       "    'OPENCONTEXT',\n",
       "    853229,\n",
       "    'GEOME',\n",
       "    0,\n",
       "    'SMITHSONIAN',\n",
       "    0],\n",
       "   'hasSpecimenCategory': ['Other solid object',\n",
       "    4515453,\n",
       "    'Artifact',\n",
       "    585674,\n",
       "    'Organism product',\n",
       "    456923,\n",
       "    'Organism part',\n",
       "    456437,\n",
       "    'Physical specimen',\n",
       "    211304,\n",
       "    'Aggregation',\n",
       "    100796,\n",
       "    'Not Provided',\n",
       "    67172,\n",
       "    'Biological specimen',\n",
       "    34827,\n",
       "    'Analytical preparation',\n",
       "    15210,\n",
       "    'Fluid in container',\n",
       "    6082,\n",
       "    'Experiment product',\n",
       "    645,\n",
       "    'Biome aggregation',\n",
       "    230,\n",
       "    'Whole organism',\n",
       "    0,\n",
       "    'Whole organism specimen',\n",
       "    0]},\n",
       "  'facet_ranges': {},\n",
       "  'facet_intervals': {},\n",
       "  'facet_heatmaps': {}}}"
      ]
     },
     "execution_count": 22,
     "metadata": {},
     "output_type": "execute_result"
    }
   ],
   "source": [
    "# simplest query -- default\n",
    "\n",
    "cli._request(\"thing/select\", params={'q': '*:*', 'start':0, 'rows': 10, \n",
    "        'fq': ['producedBy_resultTimeRange:[1800 TO 2023]', 'source:(OPENCONTEXT or SESAR)', '-relation_target:*'],\n",
    "        'facet.field': ['authorizedBy', 'hasContextCategory', 'hasMaterialCategory', 'registrant', 'source', 'hasSpecimenCategory'],\n",
    "        'facet': 'on',\n",
    "        })"
   ]
  },
  {
   "cell_type": "markdown",
   "metadata": {},
   "source": [
    "\n",
    "\n",
    "Let's break down these parameters, which are used for querying a Solr search engine. Solr is an open-source search platform that provides a wide range of capabilities for text search and faceted search, among other features.\n",
    "\n",
    "q: This parameter specifies the query. Here, *:* is a wildcard query, meaning it matches all documents in the Solr index.\n",
    "\n",
    "\n",
    "[fl](https://solr.apache.org/guide/8_11/common-query-parameters.html#fl-field-list-parameter): This stands for \"field list\". It specifies the fields to return in the result. In your query, a long list of fields like searchText, authorizedBy, producedBy_resultTimeRange, etc., are included. Only these fields will be returned for each document in the search results.\n",
    "\n",
    "fq: This is the \"filter query\". It filters the results returned by the main query (q) without influencing the score. Here, there are three filters applied:\n",
    "\n",
    "> producedBy_resultTimeRange:[1800 TO 2023] filters documents to those produced between the years 1800 and 2023.\n",
    "source:(OPENCONTEXT) filters documents where the source field matches \"OPENCONTEXT\".\n",
    "-relation_target:* excludes documents where the relation_target field exists.\n",
    "facet.field: Faceting is used to aggregate data based on a field. This parameter specifies the fields for which you want to see facet counts. Facets on fields like authorizedBy, hasContextCategory, etc., are requested.\n",
    "\n",
    "\n",
    "facet.range, facet.range.gap, facet.range.start, and facet.range.end: These parameters are used for range faceting. You are faceting on the producedBy_resultTimeRange field, starting from \"1800-01-01T00:00:00Z\" to \"2023-01-01T00:00:00Z\", with a gap of \"+1YEARS\". This means it will provide counts for each year in this range.\n",
    "\n",
    "f.registrant.facet.sort and f.source.facet.sort: These are sorting instructions for the facets. The registrant facet is sorted by count, and the source facet is sorted by index.\n",
    "\n",
    "rows: This specifies the number of documents to return. In your query, it's set to 20.\n",
    "\n",
    "facet.limit: This limits the number of facet values returned for each facet field. -1 means no limit.\n",
    "\n",
    "facet.sort: It dictates how to sort the facet fields. Here, it's sorted by index.\n",
    "\n",
    "start: This is the offset in the complete result set for pagination. It tells Solr where to start in the list of results (useful for paging through results).\n",
    "\n",
    "facet: When set to 'on', it enables faceting.\n",
    "\n",
    "wt: This stands for \"writer type\" and specifies the output format. Here, 'json' indicates that the response should be in JSON format."
   ]
  },
  {
   "cell_type": "code",
   "execution_count": 23,
   "metadata": {},
   "outputs": [
    {
     "name": "stderr",
     "output_type": "stream",
     "text": [
      "INFO:httpx:HTTP Request: GET https://central.isample.xyz/isamples_central/thing/select?q=%2A%3A%2A&fl=searchText%20authorizedBy%20producedBy_resultTimeRange%20hasContextCategory%20curation_accessContraints%20curation_description_text%20curation_label%20curation_location%20curation_responsibility%20description_text%20id%20informalClassification%20keywords%20label%20hasMaterialCategory%20producedBy_description_text%20producedBy_hasFeatureOfInterest%20producedBy_label%20producedBy_responsibility%20producedBy_resultTime%20producedBy_samplingSite_description_text%20producedBy_samplingSite_label%20producedBy_samplingSite_location_elevationInMeters%20producedBy_samplingSite_location_latitude%20producedBy_samplingSite_location_longitude%20producedBy_samplingSite_placeName%20registrant%20samplingPurpose%20source%20sourceUpdatedTime%20producedBy_samplingSite_location_rpt%20hasSpecimenCategory&fq=producedBy_resultTimeRange%3A%5B1800%20TO%202023%5D&fq=source%3A%28OPENCONTEXT%29&fq=-relation_target%3A%2A&facet.field=authorizedBy&facet.field=hasContextCategory&facet.field=hasMaterialCategory&facet.field=registrant&facet.field=source&facet.field=hasSpecimenCategory&facet.range=producedBy_resultTimeRange&facet.range.gap=%2B1YEARS&facet.range.start=1800-01-01T00%3A00%3A00Z&facet.range.end=2023-01-01T00%3A00%3A00Z&f.registrant.facet.sort=count&f.source.facet.sort=index&rows=20&facet.limit=-1&facet.sort=index&start=20&facet=on&wt=json \"HTTP/1.1 200 OK\"\n"
     ]
    }
   ],
   "source": [
    "import httpx\n",
    "\n",
    "\n",
    "url = \"https://central.isample.xyz/isamples_central/thing/select\"\n",
    "params = {\n",
    "    'q': '*:*',\n",
    "    'fl': 'searchText authorizedBy producedBy_resultTimeRange hasContextCategory curation_accessContraints curation_description_text curation_label curation_location curation_responsibility description_text id informalClassification keywords label hasMaterialCategory producedBy_description_text producedBy_hasFeatureOfInterest producedBy_label producedBy_responsibility producedBy_resultTime producedBy_samplingSite_description_text producedBy_samplingSite_label producedBy_samplingSite_location_elevationInMeters producedBy_samplingSite_location_latitude producedBy_samplingSite_location_longitude producedBy_samplingSite_placeName registrant samplingPurpose source sourceUpdatedTime producedBy_samplingSite_location_rpt hasSpecimenCategory',\n",
    "    'fq': ['producedBy_resultTimeRange:[1800 TO 2023]', 'source:(OPENCONTEXT)', '-relation_target:*'],\n",
    "    'facet.field': ['authorizedBy', 'hasContextCategory', 'hasMaterialCategory', 'registrant', 'source', 'hasSpecimenCategory'],\n",
    "    'facet.range': 'producedBy_resultTimeRange',\n",
    "    'facet.range.gap': '+1YEARS',\n",
    "    'facet.range.start': '1800-01-01T00:00:00Z',\n",
    "    'facet.range.end': '2023-01-01T00:00:00Z',\n",
    "    'f.registrant.facet.sort': 'count',\n",
    "    'f.source.facet.sort': 'index',\n",
    "    'rows': '20',\n",
    "    'facet.limit': '-1',\n",
    "    'facet.sort': 'index',\n",
    "    'start': '20',\n",
    "    'facet': 'on',\n",
    "    'wt': 'json'\n",
    "}\n",
    "headers = {\n",
    "    'Accept': 'application/json',\n",
    "    'User-Agent': 'raymondyee.net'\n",
    "}\n",
    "\n",
    "# keys in response: 'responseHeader', 'response', 'facet_counts'\n",
    "response = httpx.get(url, params=params, headers=headers)\n"
   ]
  },
  {
   "cell_type": "code",
   "execution_count": 24,
   "metadata": {},
   "outputs": [
    {
     "data": {
      "text/plain": [
       "{'zkConnected': True,\n",
       " 'status': 0,\n",
       " 'QTime': 383,\n",
       " 'params': {'facet.range': 'producedBy_resultTimeRange',\n",
       "  'facet.field': ['authorizedBy',\n",
       "   'hasContextCategory',\n",
       "   'hasMaterialCategory',\n",
       "   'registrant',\n",
       "   'source',\n",
       "   'hasSpecimenCategory'],\n",
       "  'facet.range.gap': '+1YEARS',\n",
       "  'fl': 'searchText authorizedBy producedBy_resultTimeRange hasContextCategory curation_accessContraints curation_description_text curation_label curation_location curation_responsibility description_text id informalClassification keywords label hasMaterialCategory producedBy_description_text producedBy_hasFeatureOfInterest producedBy_label producedBy_responsibility producedBy_resultTime producedBy_samplingSite_description_text producedBy_samplingSite_label producedBy_samplingSite_location_elevationInMeters producedBy_samplingSite_location_latitude producedBy_samplingSite_location_longitude producedBy_samplingSite_placeName registrant samplingPurpose source sourceUpdatedTime producedBy_samplingSite_location_rpt hasSpecimenCategory',\n",
       "  'start': '20',\n",
       "  'f.registrant.facet.sort': 'count',\n",
       "  'fq': ['producedBy_resultTimeRange:[1800 TO 2023]',\n",
       "   'source:(OPENCONTEXT)',\n",
       "   '-relation_target:*'],\n",
       "  'rows': '20',\n",
       "  'q': '*:*',\n",
       "  'facet.limit': '-1',\n",
       "  'f.source.facet.sort': 'index',\n",
       "  'facet': 'on',\n",
       "  'wt': 'json',\n",
       "  'facet.range.start': '1800-01-01T00:00:00Z',\n",
       "  'facet.sort': 'index',\n",
       "  'facet.range.end': '2023-01-01T00:00:00Z'}}"
      ]
     },
     "execution_count": 24,
     "metadata": {},
     "output_type": "execute_result"
    }
   ],
   "source": [
    "# get back parameters that went into the query and some basic metadata\n",
    "response.json()['responseHeader']"
   ]
  },
  {
   "cell_type": "code",
   "execution_count": 25,
   "metadata": {},
   "outputs": [
    {
     "data": {
      "text/plain": [
       "(853229, True)"
      ]
     },
     "execution_count": 25,
     "metadata": {},
     "output_type": "execute_result"
    }
   ],
   "source": [
    "# 'numFound', 'start', 'numFoundExact', 'docs'\n",
    "response.json()['response'].keys()\n",
    "\n",
    "(response.json()['response']['numFound'], response.json()['response']['numFoundExact'])\n"
   ]
  },
  {
   "cell_type": "code",
   "execution_count": 26,
   "metadata": {},
   "outputs": [
    {
     "data": {
      "text/plain": [
       "dict_keys(['id', 'sourceUpdatedTime', 'label', 'searchText', 'description_text', 'hasContextCategory', 'hasMaterialCategory', 'hasSpecimenCategory', 'keywords', 'producedBy_label', 'producedBy_description_text', 'producedBy_responsibility', 'producedBy_resultTime', 'producedBy_resultTimeRange', 'producedBy_samplingSite_label', 'producedBy_samplingSite_placeName', 'producedBy_samplingSite_location_rpt', 'producedBy_samplingSite_location_latitude', 'producedBy_samplingSite_location_longitude', 'source'])"
      ]
     },
     "execution_count": 26,
     "metadata": {},
     "output_type": "execute_result"
    }
   ],
   "source": [
    "response.json()['response']['docs'][0].keys()"
   ]
  },
  {
   "cell_type": "markdown",
   "metadata": {},
   "source": [
    "# plotting the collection dates"
   ]
  },
  {
   "cell_type": "code",
   "execution_count": 31,
   "metadata": {},
   "outputs": [
    {
     "name": "stderr",
     "output_type": "stream",
     "text": [
      "INFO:httpx:HTTP Request: GET https://central.isample.xyz/isamples_central/thing/select?q=*:*&facet=true&facet.range=producedBy_resultTimeRange&facet.range.start=NOW%2FYEAR-200YEARS&facet.range.end=NOW%2FYEAR%252B1YEAR&facet.range.gap=%252B1YEAR \"HTTP/1.1 200 OK\"\n"
     ]
    },
    {
     "name": "stdout",
     "output_type": "stream",
     "text": [
      "{'responseHeader': {'zkConnected': True, 'status': 400, 'QTime': 1, 'params': {'facet.range': 'producedBy_resultTimeRange', 'q': '*:*', 'facet.range.gap': '%2B1YEAR', 'fl': 'id', 'start': '0', 'rows': '10', 'facet': 'true', 'wt': 'json', 'facet.range.start': 'NOW/YEAR-200YEARS', 'facet.range.end': 'NOW/YEAR%2B1YEAR'}}, 'error': {'metadata': ['error-class', 'org.apache.solr.common.SolrException', 'root-error-class', 'java.text.ParseException'], 'msg': \"Can't parse value NOW/YEAR%2B1YEAR for field: producedBy_resultTimeRange\", 'code': 400}}\n"
     ]
    }
   ],
   "source": [
    "import httpx\n",
    "\n",
    "url = 'https://central.isample.xyz/isamples_central/thing/select/info'\n",
    "url = 'https://central.isample.xyz/isamples_central/thing/select?q=*:*&facet=true&facet.range=producedBy_resultTimeRange&facet.range.start=NOW/YEAR-200YEARS&facet.range.end=NOW/YEAR%2B1YEAR&facet.range.gap=%2B1YEAR'\n",
    "\n",
    "\n",
    "headers = {\n",
    "    'accept': 'application/json'\n",
    "}\n",
    "\n",
    "response = httpx.get(url, headers=headers)\n",
    "\n",
    "print(response.json())\n"
   ]
  },
  {
   "cell_type": "code",
   "execution_count": 32,
   "metadata": {},
   "outputs": [
    {
     "ename": "KeyError",
     "evalue": "'facet_counts'",
     "output_type": "error",
     "traceback": [
      "\u001b[0;31m---------------------------------------------------------------------------\u001b[0m",
      "\u001b[0;31mKeyError\u001b[0m                                  Traceback (most recent call last)",
      "Cell \u001b[0;32mIn[32], line 1\u001b[0m\n\u001b[0;32m----> 1\u001b[0m \u001b[43mresponse\u001b[49m\u001b[38;5;241;43m.\u001b[39;49m\u001b[43mjson\u001b[49m\u001b[43m(\u001b[49m\u001b[43m)\u001b[49m\u001b[43m[\u001b[49m\u001b[38;5;124;43m'\u001b[39;49m\u001b[38;5;124;43mfacet_counts\u001b[39;49m\u001b[38;5;124;43m'\u001b[39;49m\u001b[43m]\u001b[49m[\u001b[38;5;124m'\u001b[39m\u001b[38;5;124mfacet_ranges\u001b[39m\u001b[38;5;124m'\u001b[39m][\u001b[38;5;124m'\u001b[39m\u001b[38;5;124mproducedBy_resultTimeRange\u001b[39m\u001b[38;5;124m'\u001b[39m][\u001b[38;5;124m'\u001b[39m\u001b[38;5;124mcounts\u001b[39m\u001b[38;5;124m'\u001b[39m]\n",
      "\u001b[0;31mKeyError\u001b[0m: 'facet_counts'"
     ]
    }
   ],
   "source": [
    "response.json()['facet_counts']['facet_ranges']['producedBy_resultTimeRange']['counts']"
   ]
  },
  {
   "cell_type": "code",
   "execution_count": 29,
   "metadata": {},
   "outputs": [
    {
     "ename": "KeyError",
     "evalue": "'facet_counts'",
     "output_type": "error",
     "traceback": [
      "\u001b[0;31m---------------------------------------------------------------------------\u001b[0m",
      "\u001b[0;31mKeyError\u001b[0m                                  Traceback (most recent call last)",
      "Cell \u001b[0;32mIn[29], line 1\u001b[0m\n\u001b[0;32m----> 1\u001b[0m k \u001b[38;5;241m=\u001b[39m \u001b[43mresponse\u001b[49m\u001b[38;5;241;43m.\u001b[39;49m\u001b[43mjson\u001b[49m\u001b[43m(\u001b[49m\u001b[43m)\u001b[49m\u001b[43m[\u001b[49m\u001b[38;5;124;43m'\u001b[39;49m\u001b[38;5;124;43mfacet_counts\u001b[39;49m\u001b[38;5;124;43m'\u001b[39;49m\u001b[43m]\u001b[49m[\u001b[38;5;124m'\u001b[39m\u001b[38;5;124mfacet_ranges\u001b[39m\u001b[38;5;124m'\u001b[39m][\u001b[38;5;124m'\u001b[39m\u001b[38;5;124mproducedBy_resultTimeRange\u001b[39m\u001b[38;5;124m'\u001b[39m][\u001b[38;5;124m'\u001b[39m\u001b[38;5;124mcounts\u001b[39m\u001b[38;5;124m'\u001b[39m]\n\u001b[1;32m      2\u001b[0m \u001b[38;5;28mdict\u001b[39m(\u001b[38;5;28mzip\u001b[39m(k[::\u001b[38;5;241m2\u001b[39m], k[\u001b[38;5;241m1\u001b[39m::\u001b[38;5;241m2\u001b[39m]))\n",
      "\u001b[0;31mKeyError\u001b[0m: 'facet_counts'"
     ]
    }
   ],
   "source": [
    "\n",
    "k = response.json()['facet_counts']['facet_ranges']['producedBy_resultTimeRange']['counts']\n",
    "dict(zip(k[::2], k[1::2]))\n",
    "\n"
   ]
  },
  {
   "cell_type": "code",
   "execution_count": 30,
   "metadata": {},
   "outputs": [
    {
     "ename": "KeyError",
     "evalue": "'facet_counts'",
     "output_type": "error",
     "traceback": [
      "\u001b[0;31m---------------------------------------------------------------------------\u001b[0m",
      "\u001b[0;31mKeyError\u001b[0m                                  Traceback (most recent call last)",
      "Cell \u001b[0;32mIn[30], line 5\u001b[0m\n\u001b[1;32m      2\u001b[0m \u001b[38;5;28;01mimport\u001b[39;00m \u001b[38;5;21;01mmatplotlib\u001b[39;00m\u001b[38;5;21;01m.\u001b[39;00m\u001b[38;5;21;01mpyplot\u001b[39;00m \u001b[38;5;28;01mas\u001b[39;00m \u001b[38;5;21;01mplt\u001b[39;00m\n\u001b[1;32m      4\u001b[0m \u001b[38;5;66;03m# Assuming data is your response.json()['facet_counts']['facet_ranges']['producedBy_resultTimeRange']['counts']\u001b[39;00m\n\u001b[0;32m----> 5\u001b[0m k \u001b[38;5;241m=\u001b[39m \u001b[43mresponse\u001b[49m\u001b[38;5;241;43m.\u001b[39;49m\u001b[43mjson\u001b[49m\u001b[43m(\u001b[49m\u001b[43m)\u001b[49m\u001b[43m[\u001b[49m\u001b[38;5;124;43m'\u001b[39;49m\u001b[38;5;124;43mfacet_counts\u001b[39;49m\u001b[38;5;124;43m'\u001b[39;49m\u001b[43m]\u001b[49m[\u001b[38;5;124m'\u001b[39m\u001b[38;5;124mfacet_ranges\u001b[39m\u001b[38;5;124m'\u001b[39m][\u001b[38;5;124m'\u001b[39m\u001b[38;5;124mproducedBy_resultTimeRange\u001b[39m\u001b[38;5;124m'\u001b[39m][\u001b[38;5;124m'\u001b[39m\u001b[38;5;124mcounts\u001b[39m\u001b[38;5;124m'\u001b[39m]\n\u001b[1;32m      6\u001b[0m data \u001b[38;5;241m=\u001b[39m \u001b[38;5;28mdict\u001b[39m(\u001b[38;5;28mzip\u001b[39m(k[::\u001b[38;5;241m2\u001b[39m], k[\u001b[38;5;241m1\u001b[39m::\u001b[38;5;241m2\u001b[39m]))\n\u001b[1;32m      9\u001b[0m \u001b[38;5;66;03m# Convert the dictionary to a DataFrame\u001b[39;00m\n",
      "\u001b[0;31mKeyError\u001b[0m: 'facet_counts'"
     ]
    }
   ],
   "source": [
    "import pandas as pd\n",
    "import matplotlib.pyplot as plt\n",
    "\n",
    "# Assuming data is your response.json()['facet_counts']['facet_ranges']['producedBy_resultTimeRange']['counts']\n",
    "k = response.json()['facet_counts']['facet_ranges']['producedBy_resultTimeRange']['counts']\n",
    "data = dict(zip(k[::2], k[1::2]))\n",
    "\n",
    "\n",
    "# Convert the dictionary to a DataFrame\n",
    "df = pd.DataFrame(list(data.items()), columns=['Date', 'Count'])\n",
    "\n",
    "# Convert the 'Date' column to datetime\n",
    "df['Date'] = pd.to_datetime(df['Date'])\n",
    "\n",
    "# Extract the year from the date\n",
    "df['Year'] = df['Date'].dt.year\n",
    "\n",
    "# Count the occurrences of each year\n",
    "year_counts = df['Year'].value_counts().sort_index()\n",
    "\n",
    "# Plot the counts vs year\n",
    "year_counts.plot(kind='line')\n",
    "plt.xlabel('Year')\n",
    "plt.ylabel('Count')\n",
    "plt.title('Count vs Year')\n",
    "plt.show()\n"
   ]
  },
  {
   "cell_type": "code",
   "execution_count": null,
   "metadata": {},
   "outputs": [],
   "source": [
    "k = response.json()['facet_counts']['facet_ranges']['producedBy_resultTimeRange']['counts']\n",
    "data = dict(zip(k[::2], k[1::2]))\n",
    "\n",
    "df = pd.DataFrame(list(data.items()), columns=['Date', 'Count'])\n",
    "df.plot()"
   ]
  },
  {
   "cell_type": "code",
   "execution_count": null,
   "metadata": {},
   "outputs": [],
   "source": [
    "import matplotlib.pyplot as plt\n",
    "import numpy as np\n",
    "\n",
    "# Assuming df is your DataFrame\n",
    "df['Date'] = pd.to_datetime(df['Date'])\n",
    "\n",
    "# deal with log scale\n",
    "df = df.loc[df['Count'] != 0]\n",
    "\n",
    "# df['Count'] = df['Count'].replace(0, np.nan)\n",
    "# df['Count'] = df['Count'].fillna(0.1)\n",
    "\n",
    "plt.figure(figsize=(10,6))\n",
    "plt.scatter(df['Date'], df['Count'], color='green', alpha=0.5, s=10)\n",
    "plt.yscale('log')\n",
    "\n",
    "plt.xlabel('Date')\n",
    "plt.ylabel('Count')\n",
    "plt.title('Count over Date')\n",
    "plt.show()"
   ]
  },
  {
   "cell_type": "code",
   "execution_count": null,
   "metadata": {},
   "outputs": [],
   "source": [
    "%%bash\n",
    "\n",
    "curl -X 'GET' \\\n",
    "  'https://central.isample.xyz/isamples_central/thing/select?facet=true&facet.mincount=0&facet.field=source' \\\n",
    "  -H 'accept: application/json'"
   ]
  },
  {
   "cell_type": "code",
   "execution_count": null,
   "metadata": {},
   "outputs": [],
   "source": []
  },
  {
   "cell_type": "code",
   "execution_count": null,
   "metadata": {},
   "outputs": [],
   "source": [
    "field_names = cli.field_names()\n"
   ]
  },
  {
   "cell_type": "code",
   "execution_count": null,
   "metadata": {},
   "outputs": [],
   "source": [
    "len(field_names)"
   ]
  },
  {
   "cell_type": "code",
   "execution_count": null,
   "metadata": {},
   "outputs": [],
   "source": [
    "fields = [\"source\", \"hasMaterialCategory\", \"hasContextCategory\"]\n",
    "facets = cli.facets(\"*:*\", fields)\n",
    "print(json.dumps(facets, indent=2))"
   ]
  },
  {
   "cell_type": "code",
   "execution_count": null,
   "metadata": {},
   "outputs": [],
   "source": [
    "# Get counts of values grouping by three dimsions: source, hasMaterialCategory, and hasContextCategory\n",
    "dimensions = [\"source\", \"hasMaterialCategory\", \"hasContextCategory\"]\n",
    "xd = cli.pivot(\"*:*\", dimensions)\n",
    "print(xd.loc[\"geome\", \"organic material\", \"bacteria\"].sum())"
   ]
  },
  {
   "cell_type": "code",
   "execution_count": null,
   "metadata": {},
   "outputs": [],
   "source": [
    "# Get counts of values grouping by three dimsions: source, hasMaterialCategory, and hasContextCategory\n",
    "dimensions = [\"source\", \"hasMaterialCategory\", \"hasContextCategory\"]\n",
    "xd = cli.pivot(\"*:*\", dimensions)\n",
    "print(xd.loc[\"geome\", \"organic material\", \"bacteria\"].sum())"
   ]
  },
  {
   "cell_type": "code",
   "execution_count": null,
   "metadata": {},
   "outputs": [],
   "source": [
    "# Sum by axis 2 (hasContextCategory) and print\n",
    "df = xd.sum(axis=2).to_pandas()\n",
    "# display transposed\n",
    "display(df.T)\n"
   ]
  },
  {
   "cell_type": "code",
   "execution_count": null,
   "metadata": {},
   "outputs": [],
   "source": [
    "print(xd.loc[\"sesar\", \"rock\"].sum())"
   ]
  },
  {
   "cell_type": "code",
   "execution_count": null,
   "metadata": {},
   "outputs": [],
   "source": [
    "# Field names in solr\n",
    "for name in cli.field_names():\n",
    "    print(name)"
   ]
  },
  {
   "cell_type": "code",
   "execution_count": null,
   "metadata": {},
   "outputs": [],
   "source": []
  }
 ],
 "metadata": {
  "kernelspec": {
   "display_name": "Python 3 (ipykernel)",
   "language": "python",
   "name": "python3"
  },
  "language_info": {
   "codemirror_mode": {
    "name": "ipython",
    "version": 3
   },
   "file_extension": ".py",
   "mimetype": "text/x-python",
   "name": "python",
   "nbconvert_exporter": "python",
   "pygments_lexer": "ipython3",
   "version": "3.11.7"
  }
 },
 "nbformat": 4,
 "nbformat_minor": 4
}
