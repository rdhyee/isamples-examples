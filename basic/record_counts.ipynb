{
 "cells": [
  {
   "cell_type": "code",
   "execution_count": 1,
   "metadata": {
    "ExecuteTime": {
     "end_time": "2023-10-28T13:01:34.491834Z",
     "start_time": "2023-10-28T13:01:34.342886Z"
    },
    "collapsed": false,
    "jupyter": {
     "outputs_hidden": false
    }
   },
   "outputs": [],
   "source": [
    "import json\n",
    "import logging\n",
    "import typing\n",
    "import urllib.parse\n",
    "import httpx\n",
    "import xarray\n",
    "\n",
    "from urllib.parse import quote\n",
    "\n",
    "import pandas as pd\n",
    "from pandas import DataFrame, Series\n",
    "import numpy as np\n",
    "\n",
    "\n",
    "from collections import Counter\n",
    "from isbclient import IsbClient\n"
   ]
  },
  {
   "cell_type": "markdown",
   "metadata": {},
   "source": [
    "# The overall iSamples API\n",
    "\n",
    "*  https://central.isample.xyz/isamples_central/ui is the swagger UI\n",
    "* https://central.isample.xyz/isamples_central/openapi.json is the swagger file\n"
   ]
  },
  {
   "cell_type": "code",
   "execution_count": 2,
   "metadata": {},
   "outputs": [
    {
     "name": "stderr",
     "output_type": "stream",
     "text": [
      "INFO:httpx:HTTP Request: GET https://central.isample.xyz/isamples_central/openapi.json \"HTTP/1.1 200 OK\"\n"
     ]
    },
    {
     "data": {
      "text/plain": [
       "dict_keys(['/metrics', '/metrics/', '/thing', '/thing/', '/thing/types', '/thing/select', '/thing/reliquery', '/thing/stream', '/thing/select/info', '/h3_counts/', '/things', '/thing/{identifier}', '/resolve/{identifier}', '/stac_item/{identifier}', '/stac_collection/{filename}', '/things_geojson_heatmap', '/things_leaflet_heatmap', '/related', '/related/'])"
      ]
     },
     "execution_count": 2,
     "metadata": {},
     "output_type": "execute_result"
    }
   ],
   "source": [
    "\n",
    "OPENAPI_URL = 'https://central.isample.xyz/isamples_central/openapi.json'\n",
    "r = httpx.get(OPENAPI_URL)\n",
    "r.json()['paths'].keys()"
   ]
  },
  {
   "cell_type": "markdown",
   "metadata": {},
   "source": [
    "# /thing/select: Solr-based select interface"
   ]
  },
  {
   "cell_type": "code",
   "execution_count": 3,
   "metadata": {},
   "outputs": [
    {
     "name": "stderr",
     "output_type": "stream",
     "text": [
      "INFO:httpx:HTTP Request: GET https://central.isample.xyz/isamples_central/openapi.json \"HTTP/1.1 200 OK\"\n"
     ]
    },
    {
     "data": {
      "text/plain": [
       "{'summary': 'Get Solr Select',\n",
       " 'description': 'Send select request to the Solr isb_core_records collection.\\n\\nSee https://solr.apache.org/guide/8_11/common-query-parameters.html',\n",
       " 'operationId': 'get_solr_select_thing_select_get',\n",
       " 'responses': {'200': {'description': 'Successful Response',\n",
       "   'content': {'application/json': {'schema': {'title': 'Response Get Solr Select Thing Select Get'}}}}}}"
      ]
     },
     "execution_count": 3,
     "metadata": {},
     "output_type": "execute_result"
    }
   ],
   "source": [
    "# focus on /thing/select endpoint\n",
    "r = httpx.get(OPENAPI_URL)\n",
    "r.json()['paths']['/thing/select']['get']"
   ]
  },
  {
   "cell_type": "code",
   "execution_count": 4,
   "metadata": {},
   "outputs": [],
   "source": [
    "# fields used in https://central.isample.xyz/isamples_central/ui\n",
    "\n",
    "MAJOR_FIELDS = dict([('All text fields', 'searchText'),\n",
    " ('Collection Date', 'producedBy_resultTimeRange'),\n",
    " ('Context', 'hasContextCategory'),\n",
    " ('Identifier', 'id'),\n",
    " ('Keywords', 'keywords'),\n",
    " ('Label', 'label'),\n",
    " ('Material', 'hasMaterialCategory'),\n",
    " ('ProducedBy ResultTime',  'producedBy_resultTime'),\n",
    " ('ProducedBy SamplingSite PlaceName', 'producedBy_samplingSite_placeName'),\n",
    " ('Registrant', 'registrant'),\n",
    " ('Source', 'source'),\n",
    " ('Source Updated Time', 'sourceUpdatedTime'),\n",
    " ('Spatial Query', 'producedBy_samplingSite_location_rpt'),\n",
    " ('Specimen', 'hasSpecimenCategory')])\n",
    "\n",
    "# default field list to return\n",
    "\n",
    "FL_DEFAULT = ('searchText',\n",
    " 'authorizedBy',\n",
    " 'producedBy_resultTimeRange',\n",
    " 'hasContextCategory',\n",
    " 'curation_accessContraints',\n",
    " 'curation_description_text',\n",
    " 'curation_label',\n",
    " 'curation_location',\n",
    " 'curation_responsibility',\n",
    " 'description_text',\n",
    " 'id',\n",
    " 'informalClassification',\n",
    " 'keywords',\n",
    " 'label',\n",
    " 'hasMaterialCategory',\n",
    " 'producedBy_description_text',\n",
    " 'producedBy_hasFeatureOfInterest',\n",
    " 'producedBy_label',\n",
    " 'producedBy_responsibility',\n",
    " 'producedBy_resultTime',\n",
    " 'producedBy_samplingSite_description_text',\n",
    " 'producedBy_samplingSite_label',\n",
    " 'producedBy_samplingSite_location_elevationInMeters',\n",
    " 'producedBy_samplingSite_location_latitude',\n",
    " 'producedBy_samplingSite_location_longitude',\n",
    " 'producedBy_samplingSite_placeName',\n",
    " 'registrant',\n",
    " 'samplingPurpose',\n",
    " 'source',\n",
    " 'sourceUpdatedTime',\n",
    " 'producedBy_samplingSite_location_rpt',\n",
    " 'hasSpecimenCategory')\n",
    "\n",
    "FACET_FIELDS_DEFAULT = ('authorizedBy', 'hasContextCategory', 'hasMaterialCategory', 'registrant', 'source', 'hasSpecimenCategory')\n",
    "\n",
    "# https://solr.apache.org/guide/8_11/faceting.html#range-faceting\n",
    "\n",
    "FACET_RANGE_FIELDS_DEFAULT = {\n",
    "    'facet.range': 'producedBy_resultTimeRange',\n",
    "    'f.producedBy_resultTimeRange.facet.range.gap': '+1YEARS',\n",
    "    'f.producedBy_resultTimeRange.facet.range.start': '1800-01-01T00:00:00Z',\n",
    "    'f.producedBy_resultTimeRange.facet.range.end': '2023-01-01T00:00:00Z',\n",
    "}\n"
   ]
  },
  {
   "cell_type": "code",
   "execution_count": 5,
   "metadata": {},
   "outputs": [],
   "source": [
    "from datetime import datetime\n",
    "\n",
    "def format_date_for_solr(date_str):\n",
    "    # Assuming the input is in a format like 'YYYY-MM-DD' or already in ISO 8601\n",
    "    # Modify this part if your input format is different\n",
    "    try:\n",
    "        # If the date is already in ISO 8601 format, return as is\n",
    "        datetime.fromisoformat(date_str)\n",
    "        return date_str\n",
    "    except ValueError:\n",
    "        # Convert from 'YYYY-MM-DD' to ISO 8601\n",
    "        return datetime.strptime(date_str, '%Y-%m-%d').isoformat() + 'Z'\n",
    "\n",
    "def create_date_range_query(start_str, end_str):\n",
    "    # If start_str or end_str is blank, use '*' for open-ended range\n",
    "    start_date = format_date_for_solr(start_str) if start_str else '*'\n",
    "    end_date = format_date_for_solr(end_str) if end_str else '*'\n",
    "    return f'[{start_date} TO {end_date}]'\n",
    "\n",
    "def filter_null_values(d):\n",
    "    return {k:v for k,v in d.items() if v is not None}\n",
    "\n",
    "ISAMPLES_SOURCES = ['SESAR',\n",
    "    'OPENCONTEXT',\n",
    "    'GEOME',\n",
    "    'SMITHSONIAN',\n",
    "]\n",
    "\n",
    "params = {\n",
    "    'q': '*:*',\n",
    "    'fl': 'searchText authorizedBy producedBy_resultTimeRange hasContextCategory curation_accessContraints curation_description_text curation_label curation_location curation_responsibility description_text id informalClassification keywords label hasMaterialCategory producedBy_description_text producedBy_hasFeatureOfInterest producedBy_label producedBy_responsibility producedBy_resultTime producedBy_samplingSite_description_text producedBy_samplingSite_label producedBy_samplingSite_location_elevationInMeters producedBy_samplingSite_location_latitude producedBy_samplingSite_location_longitude producedBy_samplingSite_placeName registrant samplingPurpose source sourceUpdatedTime producedBy_samplingSite_location_rpt hasSpecimenCategory',\n",
    "    'fq': ['producedBy_resultTimeRange:[1800 TO 2023]', 'source:(OPENCONTEXT)', '-relation_target:*'],\n",
    "    'facet.field': ['authorizedBy', 'hasContextCategory', 'hasMaterialCategory', 'registrant', 'source', 'hasSpecimenCategory'],\n",
    "    'facet.range': 'producedBy_resultTimeRange',\n",
    "    'facet.range.gap': '+1YEARS',\n",
    "    'facet.range.start': '1800-01-01T00:00:00Z',\n",
    "    'facet.range.end': '2023-01-01T00:00:00Z',\n",
    "    'f.registrant.facet.sort': 'count',\n",
    "    'f.source.facet.sort': 'index',\n",
    "    'rows': '20',\n",
    "    'facet.limit': '-1',\n",
    "    'facet.sort': 'index',\n",
    "    'start': '20',\n",
    "    'facet': 'on',\n",
    "    'wt': 'json'\n",
    "}\n",
    "\n",
    "class IsbClient2(IsbClient):\n",
    "    def default_search(self, q='*:*',\n",
    "                       fl = FL_DEFAULT, \n",
    "                        start=0, rows=20, collection_date_start=1800, collection_date_end='NOW', source=None,\n",
    "                       facet_field = FACET_FIELDS_DEFAULT,\n",
    "                       **kwargs):\n",
    "        \n",
    "        # build fq\n",
    "        # 'field1': quote('value with spaces and special characters like &'),\n",
    "\n",
    "        # source is a tuple drawing from ['SESAR', 'OPENCONTEXT', 'GEOME', 'SMITHSONIAN']\n",
    "        if source is not None:\n",
    "            source = \" or \".join([f'\"{s}\"' for s in source])\n",
    "\n",
    "        filter_conditions = {\n",
    "            \n",
    "            'producedBy_resultTimeRange': f'[{collection_date_start} TO {collection_date_end}]',  # Range query\n",
    "            'source': source,  # Boolean logic\n",
    "            '-relation_target':'*'\n",
    "        }\n",
    "\n",
    "        # Convert to list of fq strings\n",
    "        fq = [f'{field}:{value}' for field, value in filter_null_values(filter_conditions).items()]\n",
    "\n",
    "        # fq = ['producedBy_resultTimeRange:[1800 TO 2023]', 'source:(OPENCONTEXT or SESAR)', '-relation_target:*']\n",
    "\n",
    "        params={\n",
    "            'q': q, \n",
    "            'fl': fl,\n",
    "            'start':start, \n",
    "            'rows': rows, \n",
    "            'fq': fq,\n",
    "            'facet': 'on',\n",
    "            'facet.field': facet_field,\n",
    "        }\n",
    "\n",
    "        # update params with kwargs\n",
    "        params.update(kwargs)\n",
    "            \n",
    "        return self._request(\"thing/select\", params=params)\n",
    "\n"
   ]
  },
  {
   "cell_type": "code",
   "execution_count": 6,
   "metadata": {},
   "outputs": [],
   "source": [
    "# can we plugin pysolr here?\n",
    "import pysolr\n",
    "\n",
    "def my_select(self, params, handler=None):\n",
    "    \"\"\"\n",
    "    :param params:\n",
    "    :param handler: defaults to self.search_handler (fallback to 'select')\n",
    "    :return:\n",
    "    \"\"\"\n",
    "    # Returns json docs unless otherwise specified\n",
    "    params.setdefault(\"wt\", \"json\")\n",
    "    custom_handler = handler or self.search_handler\n",
    "    handler = \"select\"\n",
    "    if custom_handler:\n",
    "        if self.use_qt_param:\n",
    "            params[\"qt\"] = custom_handler\n",
    "        else:\n",
    "            handler = custom_handler\n",
    "\n",
    "    params_encoded = pysolr.safe_urlencode(params, True)\n",
    "\n",
    "    if len(params_encoded) < 1024:\n",
    "        # Typical case.\n",
    "        path = \"%s?%s\" % (handler, params_encoded)\n",
    "        return self._send_request(\"get\", path)\n",
    "    else:\n",
    "        # Handles very long queries by submitting as a POST.\n",
    "        path = \"%s\" % handler\n",
    "        headers = {\n",
    "            \"Content-type\": \"application/x-www-form-urlencoded; charset=utf-8\"\n",
    "        }\n",
    "        return self._send_request(\n",
    "            \"post\", path, body=params_encoded, headers=headers\n",
    "        )\n",
    "\n",
    "pysolr.Solr._select = my_select\n"
   ]
  },
  {
   "cell_type": "code",
   "execution_count": 7,
   "metadata": {},
   "outputs": [],
   "source": [
    "\n",
    "solr = pysolr.Solr('https://central.isample.xyz/isamples_central/thing')\n"
   ]
  },
  {
   "cell_type": "code",
   "execution_count": 8,
   "metadata": {},
   "outputs": [
    {
     "name": "stderr",
     "output_type": "stream",
     "text": [
      "INFO:pysolr:Finished 'https://central.isample.xyz/isamples_central/thing/select?q=%2A%3A%2A&fl=searchText&fl=authorizedBy&fl=producedBy_resultTimeRange&fl=hasContextCategory&fl=curation_accessContraints&fl=curation_description_text&fl=curation_label&fl=curation_location&fl=curation_responsibility&fl=description_text&fl=id&fl=informalClassification&fl=keywords&fl=label&fl=hasMaterialCategory&fl=producedBy_description_text&fl=producedBy_hasFeatureOfInterest&fl=producedBy_label&fl=producedBy_responsibility&fl=producedBy_resultTime&fl=producedBy_samplingSite_description_text&fl=producedBy_samplingSite_label&fl=producedBy_samplingSite_location_elevationInMeters&fl=producedBy_samplingSite_location_latitude&fl=producedBy_samplingSite_location_longitude&fl=producedBy_samplingSite_placeName&fl=registrant&fl=samplingPurpose&fl=source&fl=sourceUpdatedTime&fl=producedBy_samplingSite_location_rpt&fl=hasSpecimenCategory&sort=id+ASC&cursorMark=%2A&wt=json' (get) with body '' in 2.843 seconds, with status 200\n"
     ]
    },
    {
     "name": "stdout",
     "output_type": "stream",
     "text": [
      "0 {'id': 'IGSN:000000001', 'sourceUpdatedTime': '2009-10-09T04:03:11Z', 'label': 'india', 'searchText': ['india', 'Terrestrial Section', 'Not Provided', 'Bheemashankar Kodge', 'Bheemashankar Kodge,,Sample Owner', 'Delta', 'SESAR'], 'hasContextCategory': ['Earth interior'], 'hasMaterialCategory': ['Mineral'], 'hasSpecimenCategory': ['Not Provided'], 'keywords': ['Terrestrial Section'], 'informalClassification': ['Not Provided'], 'registrant': ['Bheemashankar Kodge'], 'producedBy_responsibility': ['Bheemashankar Kodge,,Sample Owner'], 'producedBy_hasFeatureOfInterest': 'Delta', 'producedBy_resultTime': '2009-10-09T04:03:11Z', 'producedBy_resultTimeRange': '2009-10-09T04:03:11Z', 'producedBy_samplingSite_location_elevationInMeters': 300.0, 'producedBy_samplingSite_location_rpt': 'POINT (76 18)', 'producedBy_samplingSite_location_latitude': 18.0, 'producedBy_samplingSite_location_longitude': 76.0, 'source': 'SESAR'}\n",
      "1 {'id': 'IGSN:001000001', 'sourceUpdatedTime': '2012-08-20T11:35:26Z', 'label': 'VM29-164PC-500-503cm', 'searchText': ['VM29-164PC-500-503cm', 'Core Piece', 'Not Provided', 'Nichole Anest', 'Coring>PistonCorer', 'Coring>PistonCorer', 'Nichole Anest,,Sample Owner', 'SESAR'], 'hasContextCategory': ['Not Provided'], 'hasMaterialCategory': ['Sediment'], 'hasSpecimenCategory': ['Other solid object'], 'keywords': ['Core Piece'], 'informalClassification': ['Not Provided'], 'registrant': ['Nichole Anest'], 'producedBy_label': 'Coring>PistonCorer', 'producedBy_description_text': 'Coring>PistonCorer', 'producedBy_responsibility': ['Nichole Anest,,Sample Owner'], 'producedBy_resultTime': '2012-08-01T00:00:00Z', 'producedBy_resultTimeRange': '2012-08-01T00:00:00Z', 'source': 'SESAR'}\n",
      "2 {'id': 'IGSN:001000002', 'sourceUpdatedTime': '2012-08-20T11:35:26Z', 'label': 'VM29-164PC-503-506cm', 'searchText': ['VM29-164PC-503-506cm', 'Core Piece', 'Not Provided', 'Nichole Anest', 'Coring>PistonCorer', 'Coring>PistonCorer', 'Nichole Anest,,Sample Owner', 'SESAR'], 'hasContextCategory': ['Not Provided'], 'hasMaterialCategory': ['Sediment'], 'hasSpecimenCategory': ['Other solid object'], 'keywords': ['Core Piece'], 'informalClassification': ['Not Provided'], 'registrant': ['Nichole Anest'], 'producedBy_label': 'Coring>PistonCorer', 'producedBy_description_text': 'Coring>PistonCorer', 'producedBy_responsibility': ['Nichole Anest,,Sample Owner'], 'producedBy_resultTime': '2012-08-01T00:00:00Z', 'producedBy_resultTimeRange': '2012-08-01T00:00:00Z', 'source': 'SESAR'}\n",
      "3 {'id': 'IGSN:001000003', 'sourceUpdatedTime': '2012-08-20T11:35:26Z', 'label': 'VM29-164PC-506-509cm', 'searchText': ['VM29-164PC-506-509cm', 'Core Piece', 'Not Provided', 'Nichole Anest', 'Coring>PistonCorer', 'Coring>PistonCorer', 'Nichole Anest,,Sample Owner', 'SESAR'], 'hasContextCategory': ['Not Provided'], 'hasMaterialCategory': ['Sediment'], 'hasSpecimenCategory': ['Other solid object'], 'keywords': ['Core Piece'], 'informalClassification': ['Not Provided'], 'registrant': ['Nichole Anest'], 'producedBy_label': 'Coring>PistonCorer', 'producedBy_description_text': 'Coring>PistonCorer', 'producedBy_responsibility': ['Nichole Anest,,Sample Owner'], 'producedBy_resultTime': '2012-08-01T00:00:00Z', 'producedBy_resultTimeRange': '2012-08-01T00:00:00Z', 'source': 'SESAR'}\n",
      "4 {'id': 'IGSN:001000004', 'sourceUpdatedTime': '2012-08-20T11:35:26Z', 'label': 'VM29-164PC-509-512cm', 'searchText': ['VM29-164PC-509-512cm', 'Core Piece', 'Not Provided', 'Nichole Anest', 'Coring>PistonCorer', 'Coring>PistonCorer', 'Nichole Anest,,Sample Owner', 'SESAR'], 'hasContextCategory': ['Not Provided'], 'hasMaterialCategory': ['Sediment'], 'hasSpecimenCategory': ['Other solid object'], 'keywords': ['Core Piece'], 'informalClassification': ['Not Provided'], 'registrant': ['Nichole Anest'], 'producedBy_label': 'Coring>PistonCorer', 'producedBy_description_text': 'Coring>PistonCorer', 'producedBy_responsibility': ['Nichole Anest,,Sample Owner'], 'producedBy_resultTime': '2012-08-01T00:00:00Z', 'producedBy_resultTimeRange': '2012-08-01T00:00:00Z', 'source': 'SESAR'}\n",
      "5 {'id': 'IGSN:001000005', 'sourceUpdatedTime': '2012-08-20T11:35:26Z', 'label': 'VM29-164PC-512-515cm', 'searchText': ['VM29-164PC-512-515cm', 'Core Piece', 'Not Provided', 'Nichole Anest', 'Coring>PistonCorer', 'Coring>PistonCorer', 'Nichole Anest,,Sample Owner', 'SESAR'], 'hasContextCategory': ['Not Provided'], 'hasMaterialCategory': ['Sediment'], 'hasSpecimenCategory': ['Other solid object'], 'keywords': ['Core Piece'], 'informalClassification': ['Not Provided'], 'registrant': ['Nichole Anest'], 'producedBy_label': 'Coring>PistonCorer', 'producedBy_description_text': 'Coring>PistonCorer', 'producedBy_responsibility': ['Nichole Anest,,Sample Owner'], 'producedBy_resultTime': '2012-08-01T00:00:00Z', 'producedBy_resultTimeRange': '2012-08-01T00:00:00Z', 'source': 'SESAR'}\n",
      "6 {'id': 'IGSN:001000006', 'sourceUpdatedTime': '2012-08-20T11:35:26Z', 'label': 'VM29-164PC-515-518cm', 'searchText': ['VM29-164PC-515-518cm', 'Core Piece', 'Not Provided', 'Nichole Anest', 'Coring>PistonCorer', 'Coring>PistonCorer', 'Nichole Anest,,Sample Owner', 'SESAR'], 'hasContextCategory': ['Not Provided'], 'hasMaterialCategory': ['Sediment'], 'hasSpecimenCategory': ['Other solid object'], 'keywords': ['Core Piece'], 'informalClassification': ['Not Provided'], 'registrant': ['Nichole Anest'], 'producedBy_label': 'Coring>PistonCorer', 'producedBy_description_text': 'Coring>PistonCorer', 'producedBy_responsibility': ['Nichole Anest,,Sample Owner'], 'producedBy_resultTime': '2012-08-01T00:00:00Z', 'producedBy_resultTimeRange': '2012-08-01T00:00:00Z', 'source': 'SESAR'}\n",
      "7 {'id': 'IGSN:001000007', 'sourceUpdatedTime': '2012-08-20T11:35:26Z', 'label': 'VM29-164PC-518-521cm', 'searchText': ['VM29-164PC-518-521cm', 'Core Piece', 'Not Provided', 'Nichole Anest', 'Coring>PistonCorer', 'Coring>PistonCorer', 'Nichole Anest,,Sample Owner', 'SESAR'], 'hasContextCategory': ['Not Provided'], 'hasMaterialCategory': ['Sediment'], 'hasSpecimenCategory': ['Other solid object'], 'keywords': ['Core Piece'], 'informalClassification': ['Not Provided'], 'registrant': ['Nichole Anest'], 'producedBy_label': 'Coring>PistonCorer', 'producedBy_description_text': 'Coring>PistonCorer', 'producedBy_responsibility': ['Nichole Anest,,Sample Owner'], 'producedBy_resultTime': '2012-08-01T00:00:00Z', 'producedBy_resultTimeRange': '2012-08-01T00:00:00Z', 'source': 'SESAR'}\n",
      "8 {'id': 'IGSN:001000008', 'sourceUpdatedTime': '2012-08-20T11:35:26Z', 'label': 'VM29-164PC-521-524cm', 'searchText': ['VM29-164PC-521-524cm', 'Core Piece', 'Not Provided', 'Nichole Anest', 'Coring>PistonCorer', 'Coring>PistonCorer', 'Nichole Anest,,Sample Owner', 'SESAR'], 'hasContextCategory': ['Not Provided'], 'hasMaterialCategory': ['Sediment'], 'hasSpecimenCategory': ['Other solid object'], 'keywords': ['Core Piece'], 'informalClassification': ['Not Provided'], 'registrant': ['Nichole Anest'], 'producedBy_label': 'Coring>PistonCorer', 'producedBy_description_text': 'Coring>PistonCorer', 'producedBy_responsibility': ['Nichole Anest,,Sample Owner'], 'producedBy_resultTime': '2012-08-01T00:00:00Z', 'producedBy_resultTimeRange': '2012-08-01T00:00:00Z', 'source': 'SESAR'}\n",
      "9 {'id': 'IGSN:001000009', 'sourceUpdatedTime': '2012-08-20T11:35:26Z', 'label': 'VM29-164PC-524-527cm', 'searchText': ['VM29-164PC-524-527cm', 'Core Piece', 'Not Provided', 'Nichole Anest', 'Coring>PistonCorer', 'Coring>PistonCorer', 'Nichole Anest,,Sample Owner', 'SESAR'], 'hasContextCategory': ['Not Provided'], 'hasMaterialCategory': ['Sediment'], 'hasSpecimenCategory': ['Other solid object'], 'keywords': ['Core Piece'], 'informalClassification': ['Not Provided'], 'registrant': ['Nichole Anest'], 'producedBy_label': 'Coring>PistonCorer', 'producedBy_description_text': 'Coring>PistonCorer', 'producedBy_responsibility': ['Nichole Anest,,Sample Owner'], 'producedBy_resultTime': '2012-08-01T00:00:00Z', 'producedBy_resultTimeRange': '2012-08-01T00:00:00Z', 'source': 'SESAR'}\n"
     ]
    },
    {
     "name": "stderr",
     "output_type": "stream",
     "text": [
      "INFO:pysolr:Finished 'https://central.isample.xyz/isamples_central/thing/select?q=%2A%3A%2A&fl=searchText&fl=authorizedBy&fl=producedBy_resultTimeRange&fl=hasContextCategory&fl=curation_accessContraints&fl=curation_description_text&fl=curation_label&fl=curation_location&fl=curation_responsibility&fl=description_text&fl=id&fl=informalClassification&fl=keywords&fl=label&fl=hasMaterialCategory&fl=producedBy_description_text&fl=producedBy_hasFeatureOfInterest&fl=producedBy_label&fl=producedBy_responsibility&fl=producedBy_resultTime&fl=producedBy_samplingSite_description_text&fl=producedBy_samplingSite_label&fl=producedBy_samplingSite_location_elevationInMeters&fl=producedBy_samplingSite_location_latitude&fl=producedBy_samplingSite_location_longitude&fl=producedBy_samplingSite_placeName&fl=registrant&fl=samplingPurpose&fl=source&fl=sourceUpdatedTime&fl=producedBy_samplingSite_location_rpt&fl=hasSpecimenCategory&sort=id+ASC&cursorMark=AoEuSUdTTjowMDEwMDAwMDk%3D&wt=json' (get) with body '' in 1.454 seconds, with status 200\n"
     ]
    },
    {
     "name": "stdout",
     "output_type": "stream",
     "text": [
      "10 {'id': 'IGSN:001000010', 'sourceUpdatedTime': '2012-08-20T11:35:27Z', 'label': 'VM29-164PC-605-608cm', 'searchText': ['VM29-164PC-605-608cm', 'Core Piece', 'Not Provided', 'Nichole Anest', 'Coring>PistonCorer', 'Coring>PistonCorer', 'Nichole Anest,,Sample Owner', 'SESAR'], 'hasContextCategory': ['Not Provided'], 'hasMaterialCategory': ['Sediment'], 'hasSpecimenCategory': ['Other solid object'], 'keywords': ['Core Piece'], 'informalClassification': ['Not Provided'], 'registrant': ['Nichole Anest'], 'producedBy_label': 'Coring>PistonCorer', 'producedBy_description_text': 'Coring>PistonCorer', 'producedBy_responsibility': ['Nichole Anest,,Sample Owner'], 'producedBy_resultTime': '2012-08-01T00:00:00Z', 'producedBy_resultTimeRange': '2012-08-01T00:00:00Z', 'source': 'SESAR'}\n",
      "11 {'id': 'IGSN:001000011', 'sourceUpdatedTime': '2012-08-20T11:35:27Z', 'label': 'VM29-164PC-608-611cm', 'searchText': ['VM29-164PC-608-611cm', 'Core Piece', 'Not Provided', 'Nichole Anest', 'Coring>PistonCorer', 'Coring>PistonCorer', 'Nichole Anest,,Sample Owner', 'SESAR'], 'hasContextCategory': ['Not Provided'], 'hasMaterialCategory': ['Sediment'], 'hasSpecimenCategory': ['Other solid object'], 'keywords': ['Core Piece'], 'informalClassification': ['Not Provided'], 'registrant': ['Nichole Anest'], 'producedBy_label': 'Coring>PistonCorer', 'producedBy_description_text': 'Coring>PistonCorer', 'producedBy_responsibility': ['Nichole Anest,,Sample Owner'], 'producedBy_resultTime': '2012-08-01T00:00:00Z', 'producedBy_resultTimeRange': '2012-08-01T00:00:00Z', 'source': 'SESAR'}\n",
      "12 {'id': 'IGSN:001000012', 'sourceUpdatedTime': '2012-08-20T11:35:27Z', 'label': 'VM29-164PC-611-614cm', 'searchText': ['VM29-164PC-611-614cm', 'Core Piece', 'Not Provided', 'Nichole Anest', 'Coring>PistonCorer', 'Coring>PistonCorer', 'Nichole Anest,,Sample Owner', 'SESAR'], 'hasContextCategory': ['Not Provided'], 'hasMaterialCategory': ['Sediment'], 'hasSpecimenCategory': ['Other solid object'], 'keywords': ['Core Piece'], 'informalClassification': ['Not Provided'], 'registrant': ['Nichole Anest'], 'producedBy_label': 'Coring>PistonCorer', 'producedBy_description_text': 'Coring>PistonCorer', 'producedBy_responsibility': ['Nichole Anest,,Sample Owner'], 'producedBy_resultTime': '2012-08-01T00:00:00Z', 'producedBy_resultTimeRange': '2012-08-01T00:00:00Z', 'source': 'SESAR'}\n",
      "13 {'id': 'IGSN:001000013', 'sourceUpdatedTime': '2012-08-20T11:35:27Z', 'label': 'VM29-164PC-614-617cm', 'searchText': ['VM29-164PC-614-617cm', 'Core Piece', 'Not Provided', 'Nichole Anest', 'Coring>PistonCorer', 'Coring>PistonCorer', 'Nichole Anest,,Sample Owner', 'SESAR'], 'hasContextCategory': ['Not Provided'], 'hasMaterialCategory': ['Sediment'], 'hasSpecimenCategory': ['Other solid object'], 'keywords': ['Core Piece'], 'informalClassification': ['Not Provided'], 'registrant': ['Nichole Anest'], 'producedBy_label': 'Coring>PistonCorer', 'producedBy_description_text': 'Coring>PistonCorer', 'producedBy_responsibility': ['Nichole Anest,,Sample Owner'], 'producedBy_resultTime': '2012-08-01T00:00:00Z', 'producedBy_resultTimeRange': '2012-08-01T00:00:00Z', 'source': 'SESAR'}\n",
      "14 {'id': 'IGSN:001000014', 'sourceUpdatedTime': '2012-08-20T11:35:27Z', 'label': 'VM29-164PC-617-620cm', 'searchText': ['VM29-164PC-617-620cm', 'Core Piece', 'Not Provided', 'Nichole Anest', 'Coring>PistonCorer', 'Coring>PistonCorer', 'Nichole Anest,,Sample Owner', 'SESAR'], 'hasContextCategory': ['Not Provided'], 'hasMaterialCategory': ['Sediment'], 'hasSpecimenCategory': ['Other solid object'], 'keywords': ['Core Piece'], 'informalClassification': ['Not Provided'], 'registrant': ['Nichole Anest'], 'producedBy_label': 'Coring>PistonCorer', 'producedBy_description_text': 'Coring>PistonCorer', 'producedBy_responsibility': ['Nichole Anest,,Sample Owner'], 'producedBy_resultTime': '2012-08-01T00:00:00Z', 'producedBy_resultTimeRange': '2012-08-01T00:00:00Z', 'source': 'SESAR'}\n",
      "15 {'id': 'IGSN:001000015', 'sourceUpdatedTime': '2012-08-20T11:35:27Z', 'label': 'VM29-164PC-620-623cm', 'searchText': ['VM29-164PC-620-623cm', 'Core Piece', 'Not Provided', 'Nichole Anest', 'Coring>PistonCorer', 'Coring>PistonCorer', 'Nichole Anest,,Sample Owner', 'SESAR'], 'hasContextCategory': ['Not Provided'], 'hasMaterialCategory': ['Sediment'], 'hasSpecimenCategory': ['Other solid object'], 'keywords': ['Core Piece'], 'informalClassification': ['Not Provided'], 'registrant': ['Nichole Anest'], 'producedBy_label': 'Coring>PistonCorer', 'producedBy_description_text': 'Coring>PistonCorer', 'producedBy_responsibility': ['Nichole Anest,,Sample Owner'], 'producedBy_resultTime': '2012-08-01T00:00:00Z', 'producedBy_resultTimeRange': '2012-08-01T00:00:00Z', 'source': 'SESAR'}\n",
      "16 {'id': 'IGSN:001000016', 'sourceUpdatedTime': '2012-08-20T11:35:27Z', 'label': 'VM29-164PC-623-626cm', 'searchText': ['VM29-164PC-623-626cm', 'Core Piece', 'Not Provided', 'Nichole Anest', 'Coring>PistonCorer', 'Coring>PistonCorer', 'Nichole Anest,,Sample Owner', 'SESAR'], 'hasContextCategory': ['Not Provided'], 'hasMaterialCategory': ['Sediment'], 'hasSpecimenCategory': ['Other solid object'], 'keywords': ['Core Piece'], 'informalClassification': ['Not Provided'], 'registrant': ['Nichole Anest'], 'producedBy_label': 'Coring>PistonCorer', 'producedBy_description_text': 'Coring>PistonCorer', 'producedBy_responsibility': ['Nichole Anest,,Sample Owner'], 'producedBy_resultTime': '2012-08-01T00:00:00Z', 'producedBy_resultTimeRange': '2012-08-01T00:00:00Z', 'source': 'SESAR'}\n",
      "17 {'id': 'IGSN:001000017', 'sourceUpdatedTime': '2012-08-20T11:35:27Z', 'label': 'VM29-164PC-626-629cm', 'searchText': ['VM29-164PC-626-629cm', 'Core Piece', 'Not Provided', 'Nichole Anest', 'Coring>PistonCorer', 'Coring>PistonCorer', 'Nichole Anest,,Sample Owner', 'SESAR'], 'hasContextCategory': ['Not Provided'], 'hasMaterialCategory': ['Sediment'], 'hasSpecimenCategory': ['Other solid object'], 'keywords': ['Core Piece'], 'informalClassification': ['Not Provided'], 'registrant': ['Nichole Anest'], 'producedBy_label': 'Coring>PistonCorer', 'producedBy_description_text': 'Coring>PistonCorer', 'producedBy_responsibility': ['Nichole Anest,,Sample Owner'], 'producedBy_resultTime': '2012-08-01T00:00:00Z', 'producedBy_resultTimeRange': '2012-08-01T00:00:00Z', 'source': 'SESAR'}\n",
      "18 {'id': 'IGSN:001000018', 'sourceUpdatedTime': '2012-08-20T11:35:27Z', 'label': 'VM29-164PC-629-632cm', 'searchText': ['VM29-164PC-629-632cm', 'Core Piece', 'Not Provided', 'Nichole Anest', 'Coring>PistonCorer', 'Coring>PistonCorer', 'Nichole Anest,,Sample Owner', 'SESAR'], 'hasContextCategory': ['Not Provided'], 'hasMaterialCategory': ['Sediment'], 'hasSpecimenCategory': ['Other solid object'], 'keywords': ['Core Piece'], 'informalClassification': ['Not Provided'], 'registrant': ['Nichole Anest'], 'producedBy_label': 'Coring>PistonCorer', 'producedBy_description_text': 'Coring>PistonCorer', 'producedBy_responsibility': ['Nichole Anest,,Sample Owner'], 'producedBy_resultTime': '2012-08-01T00:00:00Z', 'producedBy_resultTimeRange': '2012-08-01T00:00:00Z', 'source': 'SESAR'}\n",
      "19 {'id': 'IGSN:001000019', 'sourceUpdatedTime': '2012-08-20T11:35:27Z', 'label': 'VM29-164PC-632-635cm', 'searchText': ['VM29-164PC-632-635cm', 'Core Piece', 'Not Provided', 'Nichole Anest', 'Coring>PistonCorer', 'Coring>PistonCorer', 'Nichole Anest,,Sample Owner', 'SESAR'], 'hasContextCategory': ['Not Provided'], 'hasMaterialCategory': ['Sediment'], 'hasSpecimenCategory': ['Other solid object'], 'keywords': ['Core Piece'], 'informalClassification': ['Not Provided'], 'registrant': ['Nichole Anest'], 'producedBy_label': 'Coring>PistonCorer', 'producedBy_description_text': 'Coring>PistonCorer', 'producedBy_responsibility': ['Nichole Anest,,Sample Owner'], 'producedBy_resultTime': '2012-08-01T00:00:00Z', 'producedBy_resultTimeRange': '2012-08-01T00:00:00Z', 'source': 'SESAR'}\n"
     ]
    },
    {
     "name": "stderr",
     "output_type": "stream",
     "text": [
      "INFO:pysolr:Finished 'https://central.isample.xyz/isamples_central/thing/select?q=%2A%3A%2A&fl=searchText&fl=authorizedBy&fl=producedBy_resultTimeRange&fl=hasContextCategory&fl=curation_accessContraints&fl=curation_description_text&fl=curation_label&fl=curation_location&fl=curation_responsibility&fl=description_text&fl=id&fl=informalClassification&fl=keywords&fl=label&fl=hasMaterialCategory&fl=producedBy_description_text&fl=producedBy_hasFeatureOfInterest&fl=producedBy_label&fl=producedBy_responsibility&fl=producedBy_resultTime&fl=producedBy_samplingSite_description_text&fl=producedBy_samplingSite_label&fl=producedBy_samplingSite_location_elevationInMeters&fl=producedBy_samplingSite_location_latitude&fl=producedBy_samplingSite_location_longitude&fl=producedBy_samplingSite_placeName&fl=registrant&fl=samplingPurpose&fl=source&fl=sourceUpdatedTime&fl=producedBy_samplingSite_location_rpt&fl=hasSpecimenCategory&sort=id+ASC&cursorMark=AoEuSUdTTjowMDEwMDAwMTk%3D&wt=json' (get) with body '' in 0.687 seconds, with status 200\n"
     ]
    },
    {
     "name": "stdout",
     "output_type": "stream",
     "text": [
      "20 {'id': 'IGSN:00100001K', 'sourceUpdatedTime': '2012-08-20T11:35:27Z', 'label': 'VM29-164PC-665-668cm', 'searchText': ['VM29-164PC-665-668cm', 'Core Piece', 'Not Provided', 'Nichole Anest', 'Coring>PistonCorer', 'Coring>PistonCorer', 'Nichole Anest,,Sample Owner', 'SESAR'], 'hasContextCategory': ['Not Provided'], 'hasMaterialCategory': ['Sediment'], 'hasSpecimenCategory': ['Other solid object'], 'keywords': ['Core Piece'], 'informalClassification': ['Not Provided'], 'registrant': ['Nichole Anest'], 'producedBy_label': 'Coring>PistonCorer', 'producedBy_description_text': 'Coring>PistonCorer', 'producedBy_responsibility': ['Nichole Anest,,Sample Owner'], 'producedBy_resultTime': '2012-08-01T00:00:00Z', 'producedBy_resultTimeRange': '2012-08-01T00:00:00Z', 'source': 'SESAR'}\n",
      "21 {'id': 'IGSN:00100001L', 'sourceUpdatedTime': '2012-08-20T11:35:27Z', 'label': 'VM29-164PC-668-671cm', 'searchText': ['VM29-164PC-668-671cm', 'Core Piece', 'Not Provided', 'Nichole Anest', 'Coring>PistonCorer', 'Coring>PistonCorer', 'Nichole Anest,,Sample Owner', 'SESAR'], 'hasContextCategory': ['Not Provided'], 'hasMaterialCategory': ['Sediment'], 'hasSpecimenCategory': ['Other solid object'], 'keywords': ['Core Piece'], 'informalClassification': ['Not Provided'], 'registrant': ['Nichole Anest'], 'producedBy_label': 'Coring>PistonCorer', 'producedBy_description_text': 'Coring>PistonCorer', 'producedBy_responsibility': ['Nichole Anest,,Sample Owner'], 'producedBy_resultTime': '2012-08-01T00:00:00Z', 'producedBy_resultTimeRange': '2012-08-01T00:00:00Z', 'source': 'SESAR'}\n",
      "22 {'id': 'IGSN:00100001M', 'sourceUpdatedTime': '2012-08-20T11:35:28Z', 'label': 'VM29-164PC-671-674cm', 'searchText': ['VM29-164PC-671-674cm', 'Core Piece', 'Not Provided', 'Nichole Anest', 'Coring>PistonCorer', 'Coring>PistonCorer', 'Nichole Anest,,Sample Owner', 'SESAR'], 'hasContextCategory': ['Not Provided'], 'hasMaterialCategory': ['Sediment'], 'hasSpecimenCategory': ['Other solid object'], 'keywords': ['Core Piece'], 'informalClassification': ['Not Provided'], 'registrant': ['Nichole Anest'], 'producedBy_label': 'Coring>PistonCorer', 'producedBy_description_text': 'Coring>PistonCorer', 'producedBy_responsibility': ['Nichole Anest,,Sample Owner'], 'producedBy_resultTime': '2012-08-01T00:00:00Z', 'producedBy_resultTimeRange': '2012-08-01T00:00:00Z', 'source': 'SESAR'}\n",
      "23 {'id': 'IGSN:00100001N', 'sourceUpdatedTime': '2012-08-20T11:35:28Z', 'label': 'VM29-164PC-674-677cm', 'searchText': ['VM29-164PC-674-677cm', 'Core Piece', 'Not Provided', 'Nichole Anest', 'Coring>PistonCorer', 'Coring>PistonCorer', 'Nichole Anest,,Sample Owner', 'SESAR'], 'hasContextCategory': ['Not Provided'], 'hasMaterialCategory': ['Sediment'], 'hasSpecimenCategory': ['Other solid object'], 'keywords': ['Core Piece'], 'informalClassification': ['Not Provided'], 'registrant': ['Nichole Anest'], 'producedBy_label': 'Coring>PistonCorer', 'producedBy_description_text': 'Coring>PistonCorer', 'producedBy_responsibility': ['Nichole Anest,,Sample Owner'], 'producedBy_resultTime': '2012-08-01T00:00:00Z', 'producedBy_resultTimeRange': '2012-08-01T00:00:00Z', 'source': 'SESAR'}\n",
      "24 {'id': 'IGSN:00100001O', 'sourceUpdatedTime': '2012-08-20T11:35:28Z', 'label': 'VM29-164PC-677-680cm', 'searchText': ['VM29-164PC-677-680cm', 'Core Piece', 'Not Provided', 'Nichole Anest', 'Coring>PistonCorer', 'Coring>PistonCorer', 'Nichole Anest,,Sample Owner', 'SESAR'], 'hasContextCategory': ['Not Provided'], 'hasMaterialCategory': ['Sediment'], 'hasSpecimenCategory': ['Other solid object'], 'keywords': ['Core Piece'], 'informalClassification': ['Not Provided'], 'registrant': ['Nichole Anest'], 'producedBy_label': 'Coring>PistonCorer', 'producedBy_description_text': 'Coring>PistonCorer', 'producedBy_responsibility': ['Nichole Anest,,Sample Owner'], 'producedBy_resultTime': '2012-08-01T00:00:00Z', 'producedBy_resultTimeRange': '2012-08-01T00:00:00Z', 'source': 'SESAR'}\n",
      "25 {'id': 'IGSN:00100001P', 'sourceUpdatedTime': '2012-08-20T11:35:28Z', 'label': 'VM29-164PC-680-683cm', 'searchText': ['VM29-164PC-680-683cm', 'Core Piece', 'Not Provided', 'Nichole Anest', 'Coring>PistonCorer', 'Coring>PistonCorer', 'Nichole Anest,,Sample Owner', 'SESAR'], 'hasContextCategory': ['Not Provided'], 'hasMaterialCategory': ['Sediment'], 'hasSpecimenCategory': ['Other solid object'], 'keywords': ['Core Piece'], 'informalClassification': ['Not Provided'], 'registrant': ['Nichole Anest'], 'producedBy_label': 'Coring>PistonCorer', 'producedBy_description_text': 'Coring>PistonCorer', 'producedBy_responsibility': ['Nichole Anest,,Sample Owner'], 'producedBy_resultTime': '2012-08-01T00:00:00Z', 'producedBy_resultTimeRange': '2012-08-01T00:00:00Z', 'source': 'SESAR'}\n",
      "26 {'id': 'IGSN:00100001Q', 'sourceUpdatedTime': '2012-08-20T11:35:28Z', 'label': 'VM29-164PC-683-686cm', 'searchText': ['VM29-164PC-683-686cm', 'Core Piece', 'Not Provided', 'Nichole Anest', 'Coring>PistonCorer', 'Coring>PistonCorer', 'Nichole Anest,,Sample Owner', 'SESAR'], 'hasContextCategory': ['Not Provided'], 'hasMaterialCategory': ['Sediment'], 'hasSpecimenCategory': ['Other solid object'], 'keywords': ['Core Piece'], 'informalClassification': ['Not Provided'], 'registrant': ['Nichole Anest'], 'producedBy_label': 'Coring>PistonCorer', 'producedBy_description_text': 'Coring>PistonCorer', 'producedBy_responsibility': ['Nichole Anest,,Sample Owner'], 'producedBy_resultTime': '2012-08-01T00:00:00Z', 'producedBy_resultTimeRange': '2012-08-01T00:00:00Z', 'source': 'SESAR'}\n",
      "27 {'id': 'IGSN:00100001R', 'sourceUpdatedTime': '2012-08-20T11:35:28Z', 'label': 'VM29-164PC-686-689cm', 'searchText': ['VM29-164PC-686-689cm', 'Core Piece', 'Not Provided', 'Nichole Anest', 'Coring>PistonCorer', 'Coring>PistonCorer', 'Nichole Anest,,Sample Owner', 'SESAR'], 'hasContextCategory': ['Not Provided'], 'hasMaterialCategory': ['Sediment'], 'hasSpecimenCategory': ['Other solid object'], 'keywords': ['Core Piece'], 'informalClassification': ['Not Provided'], 'registrant': ['Nichole Anest'], 'producedBy_label': 'Coring>PistonCorer', 'producedBy_description_text': 'Coring>PistonCorer', 'producedBy_responsibility': ['Nichole Anest,,Sample Owner'], 'producedBy_resultTime': '2012-08-01T00:00:00Z', 'producedBy_resultTimeRange': '2012-08-01T00:00:00Z', 'source': 'SESAR'}\n",
      "28 {'id': 'IGSN:00100001S', 'sourceUpdatedTime': '2012-08-20T11:35:28Z', 'label': 'VM29-164PC-689-692cm', 'searchText': ['VM29-164PC-689-692cm', 'Core Piece', 'Not Provided', 'Nichole Anest', 'Coring>PistonCorer', 'Coring>PistonCorer', 'Nichole Anest,,Sample Owner', 'SESAR'], 'hasContextCategory': ['Not Provided'], 'hasMaterialCategory': ['Sediment'], 'hasSpecimenCategory': ['Other solid object'], 'keywords': ['Core Piece'], 'informalClassification': ['Not Provided'], 'registrant': ['Nichole Anest'], 'producedBy_label': 'Coring>PistonCorer', 'producedBy_description_text': 'Coring>PistonCorer', 'producedBy_responsibility': ['Nichole Anest,,Sample Owner'], 'producedBy_resultTime': '2012-08-01T00:00:00Z', 'producedBy_resultTimeRange': '2012-08-01T00:00:00Z', 'source': 'SESAR'}\n",
      "29 {'id': 'IGSN:00100001T', 'sourceUpdatedTime': '2012-08-20T11:35:28Z', 'label': 'VM29-164PC-692-695cm', 'searchText': ['VM29-164PC-692-695cm', 'Core Piece', 'Not Provided', 'Nichole Anest', 'Coring>PistonCorer', 'Coring>PistonCorer', 'Nichole Anest,,Sample Owner', 'SESAR'], 'hasContextCategory': ['Not Provided'], 'hasMaterialCategory': ['Sediment'], 'hasSpecimenCategory': ['Other solid object'], 'keywords': ['Core Piece'], 'informalClassification': ['Not Provided'], 'registrant': ['Nichole Anest'], 'producedBy_label': 'Coring>PistonCorer', 'producedBy_description_text': 'Coring>PistonCorer', 'producedBy_responsibility': ['Nichole Anest,,Sample Owner'], 'producedBy_resultTime': '2012-08-01T00:00:00Z', 'producedBy_resultTimeRange': '2012-08-01T00:00:00Z', 'source': 'SESAR'}\n"
     ]
    }
   ],
   "source": [
    "from itertools import islice\n",
    "\n",
    "for (i, doc) in enumerate(islice(solr.search(q='*:*', fl=FL_DEFAULT, sort='id ASC',cursorMark='*'), 30)):\n",
    "    print(i, doc)"
   ]
  },
  {
   "cell_type": "code",
   "execution_count": null,
   "metadata": {},
   "outputs": [],
   "source": [
    "import pandas as pd\n",
    "from pandas import DataFrame, Series\n",
    "\n",
    "df = DataFrame(islice(solr.search(q='*:*', fl=FL_DEFAULT, sort='id ASC',cursorMark='*'), 30))\n",
    "df.head()"
   ]
  },
  {
   "cell_type": "code",
   "execution_count": null,
   "metadata": {},
   "outputs": [],
   "source": [
    "\n",
    "cli = IsbClient2()\n",
    "cli.record_count(\"*:*\")\n"
   ]
  },
  {
   "cell_type": "code",
   "execution_count": null,
   "metadata": {},
   "outputs": [],
   "source": [
    "r = cli.default_search(source=('SESAR', 'OPENCONTEXT'), **FACET_RANGE_FIELDS_DEFAULT)"
   ]
  },
  {
   "cell_type": "code",
   "execution_count": null,
   "metadata": {},
   "outputs": [],
   "source": [
    "# keys: dict_keys(['facet_queries', 'facet_fields', 'facet_ranges', 'facet_intervals', 'facet_heatmaps'])\n",
    "r['facet_counts']['facet_ranges'].keys()"
   ]
  },
  {
   "cell_type": "code",
   "execution_count": null,
   "metadata": {},
   "outputs": [],
   "source": [
    "# 'responseHeader', 'index', 'schema', 'info'\n",
    "r = cli._request(\"thing/select/info\")\n",
    "r.keys()"
   ]
  },
  {
   "cell_type": "code",
   "execution_count": null,
   "metadata": {},
   "outputs": [],
   "source": [
    "r['schema']['fields'].keys()"
   ]
  },
  {
   "cell_type": "code",
   "execution_count": null,
   "metadata": {},
   "outputs": [],
   "source": [
    "# timeout internal server error\n",
    "if False:\n",
    "    r = cli._request(\"thing/types\")"
   ]
  },
  {
   "cell_type": "code",
   "execution_count": null,
   "metadata": {},
   "outputs": [],
   "source": [
    "# types and classnames for all the fields on the system\n",
    "Counter([(x['type'], r['schema']['types'][x['type']]['className']) for x in r['schema']['fields'].values()])"
   ]
  },
  {
   "cell_type": "code",
   "execution_count": null,
   "metadata": {},
   "outputs": [],
   "source": [
    "# e.g, I for Indexed, T for Tokenized, S for Stored, etc.\n",
    "r['info']['key']\n",
    "\n",
    "# ['fields', 'dynamicFields', 'uniqueKeyField', 'similarity', 'types']\n",
    "r['schema'].keys()\n",
    "\n",
    "# get the fields -- 78 of them\n",
    "print (\"number of fields\", len(r['schema']['fields'].keys()))\n",
    "\n",
    "field_names = cli.field_names()\n",
    "print(\"number of field names (another way to access)\", len(field_names))\n",
    "\n",
    "print (\"types for the major fields\")\n",
    "[(k,v['type'], r['schema']['types'][v['type']]['className'] ) for (k,v) in r['schema']['fields'].items() if k in MAJOR_FIELDS.values()]"
   ]
  },
  {
   "cell_type": "code",
   "execution_count": null,
   "metadata": {},
   "outputs": [],
   "source": [
    "from urllib.parse import urlparse, parse_qs\n",
    "\n",
    "url = 'https://central.isample.xyz/isamples_central/thing/select?q=*:*&fl=searchText%20authorizedBy%20producedBy_resultTimeRange%20hasContextCategory%20curation_accessContraints%20curation_description_text%20curation_label%20curation_location%20curation_responsibility%20description_text%20id%20informalClassification%20keywords%20label%20hasMaterialCategory%20producedBy_description_text%20producedBy_hasFeatureOfInterest%20producedBy_label%20producedBy_responsibility%20producedBy_resultTime%20producedBy_samplingSite_description_text%20producedBy_samplingSite_label%20producedBy_samplingSite_location_elevationInMeters%20producedBy_samplingSite_location_latitude%20producedBy_samplingSite_location_longitude%20producedBy_samplingSite_placeName%20registrant%20samplingPurpose%20source%20sourceUpdatedTime%20producedBy_samplingSite_location_rpt%20hasSpecimenCategory&fq=producedBy_resultTimeRange%3A%5B1800%20TO%202023%5D&fq=source%3A(%22OPENCONTEXT%22%20OR%20%22SESAR%22)&fq=-relation_target%3A*&facet.field=authorizedBy&facet.field=hasContextCategory&facet.field=hasMaterialCategory&facet.field=registrant&facet.field=source&facet.field=hasSpecimenCategory&facet.range=producedBy_resultTimeRange&facet.range.gap=%2B1YEARS&facet.range.start=1800-01-01T00:00:00Z&facet.range.end=2023-01-01T00:00:00Z&f.registrant.facet.sort=count&f.source.facet.sort=index&rows=20&facet.limit=-1&facet.sort=index&&start=0&facet=on&wt=json'\n",
    "\n",
    "parsed_url = urlparse(url)\n",
    "query_params = parse_qs(parsed_url.query)\n",
    "\n",
    "# The result is a dictionary where each key is associated with a list of values.\n",
    "# You can iterate over this dictionary to process your parameters as needed.\n",
    "for key, values in query_params.items():\n",
    "    print(f\"{key}: {values}\")\n",
    "\n",
    "# If you need each key to have a single value (taking the first value if multiple are present),\n",
    "# you can do the following:\n",
    "single_value_params = {key: values[0] for key, values in query_params.items()}\n",
    "print(single_value_params)\n"
   ]
  },
  {
   "cell_type": "code",
   "execution_count": null,
   "metadata": {},
   "outputs": [],
   "source": [
    "# simplest query -- default\n",
    "\n",
    "cli._request(\"thing/select\", params={'q': '*:*', 'start':0, 'rows': 10, \n",
    "        'fq': ['producedBy_resultTimeRange:[1800 TO 2023]', 'source:(OPENCONTEXT or SESAR)', '-relation_target:*'],\n",
    "        'facet.field': ['authorizedBy', 'hasContextCategory', 'hasMaterialCategory', 'registrant', 'source', 'hasSpecimenCategory'],\n",
    "        'facet': 'on',\n",
    "        })"
   ]
  },
  {
   "cell_type": "markdown",
   "metadata": {},
   "source": [
    "\n",
    "\n",
    "Let's break down these parameters, which are used for querying a Solr search engine. Solr is an open-source search platform that provides a wide range of capabilities for text search and faceted search, among other features.\n",
    "\n",
    "q: This parameter specifies the query. Here, *:* is a wildcard query, meaning it matches all documents in the Solr index.\n",
    "\n",
    "\n",
    "[fl](https://solr.apache.org/guide/8_11/common-query-parameters.html#fl-field-list-parameter): This stands for \"field list\". It specifies the fields to return in the result. In your query, a long list of fields like searchText, authorizedBy, producedBy_resultTimeRange, etc., are included. Only these fields will be returned for each document in the search results.\n",
    "\n",
    "fq: This is the \"filter query\". It filters the results returned by the main query (q) without influencing the score. Here, there are three filters applied:\n",
    "\n",
    "> producedBy_resultTimeRange:[1800 TO 2023] filters documents to those produced between the years 1800 and 2023.\n",
    "source:(OPENCONTEXT) filters documents where the source field matches \"OPENCONTEXT\".\n",
    "-relation_target:* excludes documents where the relation_target field exists.\n",
    "facet.field: Faceting is used to aggregate data based on a field. This parameter specifies the fields for which you want to see facet counts. Facets on fields like authorizedBy, hasContextCategory, etc., are requested.\n",
    "\n",
    "\n",
    "facet.range, facet.range.gap, facet.range.start, and facet.range.end: These parameters are used for range faceting. You are faceting on the producedBy_resultTimeRange field, starting from \"1800-01-01T00:00:00Z\" to \"2023-01-01T00:00:00Z\", with a gap of \"+1YEARS\". This means it will provide counts for each year in this range.\n",
    "\n",
    "f.registrant.facet.sort and f.source.facet.sort: These are sorting instructions for the facets. The registrant facet is sorted by count, and the source facet is sorted by index.\n",
    "\n",
    "rows: This specifies the number of documents to return. In your query, it's set to 20.\n",
    "\n",
    "facet.limit: This limits the number of facet values returned for each facet field. -1 means no limit.\n",
    "\n",
    "facet.sort: It dictates how to sort the facet fields. Here, it's sorted by index.\n",
    "\n",
    "start: This is the offset in the complete result set for pagination. It tells Solr where to start in the list of results (useful for paging through results).\n",
    "\n",
    "facet: When set to 'on', it enables faceting.\n",
    "\n",
    "wt: This stands for \"writer type\" and specifies the output format. Here, 'json' indicates that the response should be in JSON format."
   ]
  },
  {
   "cell_type": "code",
   "execution_count": null,
   "metadata": {},
   "outputs": [],
   "source": [
    "import httpx\n",
    "\n",
    "\n",
    "url = \"https://central.isample.xyz/isamples_central/thing/select\"\n",
    "params = {\n",
    "    'q': '*:*',\n",
    "    'fl': 'searchText authorizedBy producedBy_resultTimeRange hasContextCategory curation_accessContraints curation_description_text curation_label curation_location curation_responsibility description_text id informalClassification keywords label hasMaterialCategory producedBy_description_text producedBy_hasFeatureOfInterest producedBy_label producedBy_responsibility producedBy_resultTime producedBy_samplingSite_description_text producedBy_samplingSite_label producedBy_samplingSite_location_elevationInMeters producedBy_samplingSite_location_latitude producedBy_samplingSite_location_longitude producedBy_samplingSite_placeName registrant samplingPurpose source sourceUpdatedTime producedBy_samplingSite_location_rpt hasSpecimenCategory',\n",
    "    'fq': ['producedBy_resultTimeRange:[1800 TO 2023]', 'source:(OPENCONTEXT)', '-relation_target:*'],\n",
    "    'facet.field': ['authorizedBy', 'hasContextCategory', 'hasMaterialCategory', 'registrant', 'source', 'hasSpecimenCategory'],\n",
    "    'facet.range': 'producedBy_resultTimeRange',\n",
    "    'facet.range.gap': '+1YEARS',\n",
    "    'facet.range.start': '1800-01-01T00:00:00Z',\n",
    "    'facet.range.end': '2023-01-01T00:00:00Z',\n",
    "    'f.registrant.facet.sort': 'count',\n",
    "    'f.source.facet.sort': 'index',\n",
    "    'rows': '20',\n",
    "    'facet.limit': '-1',\n",
    "    'facet.sort': 'index',\n",
    "    'start': '20',\n",
    "    'facet': 'on',\n",
    "    'wt': 'json'\n",
    "}\n",
    "headers = {\n",
    "    'Accept': 'application/json',\n",
    "    'User-Agent': 'raymondyee.net'\n",
    "}\n",
    "\n",
    "# keys in response: 'responseHeader', 'response', 'facet_counts'\n",
    "response = httpx.get(url, params=params, headers=headers)\n"
   ]
  },
  {
   "cell_type": "code",
   "execution_count": null,
   "metadata": {},
   "outputs": [],
   "source": [
    "# get back parameters that went into the query and some basic metadata\n",
    "response.json()['responseHeader']"
   ]
  },
  {
   "cell_type": "code",
   "execution_count": null,
   "metadata": {},
   "outputs": [],
   "source": [
    "# 'numFound', 'start', 'numFoundExact', 'docs'\n",
    "response.json()['response'].keys()\n",
    "\n",
    "(response.json()['response']['numFound'], response.json()['response']['numFoundExact'])\n"
   ]
  },
  {
   "cell_type": "code",
   "execution_count": null,
   "metadata": {},
   "outputs": [],
   "source": [
    "response.json()['response']['docs'][0].keys()"
   ]
  },
  {
   "cell_type": "markdown",
   "metadata": {},
   "source": [
    "# plotting the collection dates"
   ]
  },
  {
   "cell_type": "code",
   "execution_count": null,
   "metadata": {},
   "outputs": [],
   "source": [
    "import httpx\n",
    "\n",
    "url = 'https://central.isample.xyz/isamples_central/thing/select/info'\n",
    "url = 'https://central.isample.xyz/isamples_central/thing/select?q=*:*&facet=true&facet.range=producedBy_resultTimeRange&facet.range.start=NOW/YEAR-200YEARS&facet.range.end=NOW/YEAR%2B1YEAR&facet.range.gap=%2B1YEAR'\n",
    "\n",
    "\n",
    "headers = {\n",
    "    'accept': 'application/json'\n",
    "}\n",
    "\n",
    "response = httpx.get(url, headers=headers)\n",
    "\n",
    "print(response.json())\n"
   ]
  },
  {
   "cell_type": "code",
   "execution_count": null,
   "metadata": {},
   "outputs": [],
   "source": [
    "response.json()['facet_counts']['facet_ranges']['producedBy_resultTimeRange']['counts']"
   ]
  },
  {
   "cell_type": "code",
   "execution_count": null,
   "metadata": {},
   "outputs": [],
   "source": [
    "\n",
    "k = response.json()['facet_counts']['facet_ranges']['producedBy_resultTimeRange']['counts']\n",
    "dict(zip(k[::2], k[1::2]))\n",
    "\n"
   ]
  },
  {
   "cell_type": "code",
   "execution_count": null,
   "metadata": {},
   "outputs": [],
   "source": [
    "import pandas as pd\n",
    "import matplotlib.pyplot as plt\n",
    "\n",
    "# Assuming data is your response.json()['facet_counts']['facet_ranges']['producedBy_resultTimeRange']['counts']\n",
    "k = response.json()['facet_counts']['facet_ranges']['producedBy_resultTimeRange']['counts']\n",
    "data = dict(zip(k[::2], k[1::2]))\n",
    "\n",
    "\n",
    "# Convert the dictionary to a DataFrame\n",
    "df = pd.DataFrame(list(data.items()), columns=['Date', 'Count'])\n",
    "\n",
    "# Convert the 'Date' column to datetime\n",
    "df['Date'] = pd.to_datetime(df['Date'])\n",
    "\n",
    "# Extract the year from the date\n",
    "df['Year'] = df['Date'].dt.year\n",
    "\n",
    "# Count the occurrences of each year\n",
    "year_counts = df['Year'].value_counts().sort_index()\n",
    "\n",
    "# Plot the counts vs year\n",
    "year_counts.plot(kind='line')\n",
    "plt.xlabel('Year')\n",
    "plt.ylabel('Count')\n",
    "plt.title('Count vs Year')\n",
    "plt.show()\n"
   ]
  },
  {
   "cell_type": "code",
   "execution_count": null,
   "metadata": {},
   "outputs": [],
   "source": [
    "k = response.json()['facet_counts']['facet_ranges']['producedBy_resultTimeRange']['counts']\n",
    "data = dict(zip(k[::2], k[1::2]))\n",
    "\n",
    "df = pd.DataFrame(list(data.items()), columns=['Date', 'Count'])\n",
    "df.plot()"
   ]
  },
  {
   "cell_type": "code",
   "execution_count": null,
   "metadata": {},
   "outputs": [],
   "source": [
    "import matplotlib.pyplot as plt\n",
    "import numpy as np\n",
    "\n",
    "# Assuming df is your DataFrame\n",
    "df['Date'] = pd.to_datetime(df['Date'])\n",
    "\n",
    "# deal with log scale\n",
    "df = df.loc[df['Count'] != 0]\n",
    "\n",
    "# df['Count'] = df['Count'].replace(0, np.nan)\n",
    "# df['Count'] = df['Count'].fillna(0.1)\n",
    "\n",
    "plt.figure(figsize=(10,6))\n",
    "plt.scatter(df['Date'], df['Count'], color='green', alpha=0.5, s=10)\n",
    "plt.yscale('log')\n",
    "\n",
    "plt.xlabel('Date')\n",
    "plt.ylabel('Count')\n",
    "plt.title('Count over Date')\n",
    "plt.show()"
   ]
  },
  {
   "cell_type": "code",
   "execution_count": null,
   "metadata": {},
   "outputs": [],
   "source": [
    "%%bash\n",
    "\n",
    "curl -X 'GET' \\\n",
    "  'https://central.isample.xyz/isamples_central/thing/select?facet=true&facet.mincount=0&facet.field=source' \\\n",
    "  -H 'accept: application/json'"
   ]
  },
  {
   "cell_type": "code",
   "execution_count": null,
   "metadata": {},
   "outputs": [],
   "source": []
  },
  {
   "cell_type": "code",
   "execution_count": null,
   "metadata": {},
   "outputs": [],
   "source": [
    "field_names = cli.field_names()\n"
   ]
  },
  {
   "cell_type": "code",
   "execution_count": null,
   "metadata": {},
   "outputs": [],
   "source": [
    "len(field_names)"
   ]
  },
  {
   "cell_type": "code",
   "execution_count": null,
   "metadata": {},
   "outputs": [],
   "source": [
    "fields = [\"source\", \"hasMaterialCategory\", \"hasContextCategory\"]\n",
    "facets = cli.facets(\"*:*\", fields)\n",
    "print(json.dumps(facets, indent=2))"
   ]
  },
  {
   "cell_type": "code",
   "execution_count": null,
   "metadata": {},
   "outputs": [],
   "source": [
    "# Get counts of values grouping by three dimsions: source, hasMaterialCategory, and hasContextCategory\n",
    "dimensions = [\"source\", \"hasMaterialCategory\", \"hasContextCategory\"]\n",
    "xd = cli.pivot(\"*:*\", dimensions)\n",
    "print(xd.loc[\"geome\", \"organic material\", \"bacteria\"].sum())"
   ]
  },
  {
   "cell_type": "code",
   "execution_count": null,
   "metadata": {},
   "outputs": [],
   "source": [
    "# Get counts of values grouping by three dimsions: source, hasMaterialCategory, and hasContextCategory\n",
    "dimensions = [\"source\", \"hasMaterialCategory\", \"hasContextCategory\"]\n",
    "xd = cli.pivot(\"*:*\", dimensions)\n",
    "print(xd.loc[\"geome\", \"organic material\", \"bacteria\"].sum())"
   ]
  },
  {
   "cell_type": "code",
   "execution_count": null,
   "metadata": {},
   "outputs": [],
   "source": [
    "# Sum by axis 2 (hasContextCategory) and print\n",
    "df = xd.sum(axis=2).to_pandas()\n",
    "# display transposed\n",
    "display(df.T)\n"
   ]
  },
  {
   "cell_type": "code",
   "execution_count": null,
   "metadata": {},
   "outputs": [],
   "source": [
    "print(xd.loc[\"sesar\", \"rock\"].sum())"
   ]
  },
  {
   "cell_type": "code",
   "execution_count": null,
   "metadata": {},
   "outputs": [],
   "source": [
    "# Field names in solr\n",
    "for name in cli.field_names():\n",
    "    print(name)"
   ]
  },
  {
   "cell_type": "code",
   "execution_count": null,
   "metadata": {},
   "outputs": [],
   "source": []
  }
 ],
 "metadata": {
  "kernelspec": {
   "display_name": "Python 3 (ipykernel)",
   "language": "python",
   "name": "python3"
  },
  "language_info": {
   "codemirror_mode": {
    "name": "ipython",
    "version": 3
   },
   "file_extension": ".py",
   "mimetype": "text/x-python",
   "name": "python",
   "nbconvert_exporter": "python",
   "pygments_lexer": "ipython3",
   "version": "3.11.3"
  }
 },
 "nbformat": 4,
 "nbformat_minor": 4
}
