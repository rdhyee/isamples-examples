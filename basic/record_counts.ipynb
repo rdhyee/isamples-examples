{
 "cells": [
  {
   "cell_type": "code",
   "execution_count": 1,
   "metadata": {
    "ExecuteTime": {
     "end_time": "2023-10-28T13:01:34.491834Z",
     "start_time": "2023-10-28T13:01:34.342886Z"
    },
    "collapsed": false,
    "jupyter": {
     "outputs_hidden": false
    }
   },
   "outputs": [],
   "source": [
    "import json\n",
    "import logging\n",
    "import typing\n",
    "import urllib.parse\n",
    "# import httpx\n",
    "# import xarray\n",
    "\n",
    "from isbclient import IsbClient"
   ]
  },
  {
   "cell_type": "code",
   "execution_count": 2,
   "metadata": {},
   "outputs": [
    {
     "name": "stderr",
     "output_type": "stream",
     "text": [
      "INFO:httpx:HTTP Request: GET https://central.isample.xyz/isamples_central/thing/select?rows=0&q=%2A%3A%2A \"HTTP/1.1 200 OK\"\n",
      "INFO:root:url = https://central.isample.xyz/isamples_central/thing/select?rows=0&q=%2A%3A%2A\n"
     ]
    },
    {
     "data": {
      "text/plain": [
       "6347972"
      ]
     },
     "execution_count": 2,
     "metadata": {},
     "output_type": "execute_result"
    }
   ],
   "source": [
    "\n",
    "cli = IsbClient()\n",
    "cli.record_count(\"*:*\")"
   ]
  },
  {
   "cell_type": "code",
   "execution_count": 10,
   "metadata": {},
   "outputs": [
    {
     "name": "stderr",
     "output_type": "stream",
     "text": [
      "INFO:httpx:HTTP Request: GET https://central.isample.xyz/isamples_central/thing/select/info \"HTTP/1.1 200 OK\"\n",
      "INFO:root:url = https://central.isample.xyz/isamples_central/thing/select/info\n"
     ]
    },
    {
     "data": {
      "text/plain": [
       "78"
      ]
     },
     "execution_count": 10,
     "metadata": {},
     "output_type": "execute_result"
    }
   ],
   "source": [
    "field_names = cli.field_names()\n",
    "len(field_names)"
   ]
  },
  {
   "cell_type": "code",
   "execution_count": 3,
   "metadata": {},
   "outputs": [
    {
     "name": "stderr",
     "output_type": "stream",
     "text": [
      "INFO:httpx:HTTP Request: GET https://central.isample.xyz/isamples_central/thing/select?rows=0&q=%2A%3A%2A&facet=true&facet.mincount=0&facet.field=source&facet.field=hasMaterialCategory&facet.field=hasContextCategory \"HTTP/1.1 200 OK\"\n",
      "INFO:root:url = https://central.isample.xyz/isamples_central/thing/select?rows=0&q=%2A%3A%2A&facet=true&facet.mincount=0&facet.field=source&facet.field=hasMaterialCategory&facet.field=hasContextCategory\n"
     ]
    },
    {
     "name": "stdout",
     "output_type": "stream",
     "text": [
      "{\n",
      "  \"source\": {\n",
      "    \"SESAR\": 4688386,\n",
      "    \"OPENCONTEXT\": 853229,\n",
      "    \"GEOME\": 554320,\n",
      "    \"SMITHSONIAN\": 213411\n",
      "  },\n",
      "  \"hasMaterialCategory\": {\n",
      "    \"Natural Solid Material\": 2233939,\n",
      "    \"Organic material\": 1108614,\n",
      "    \"Rock\": 913127,\n",
      "    \" rock\": 838805,\n",
      "    \" sediment\": 838805,\n",
      "    \"Mixed soil\": 838805,\n",
      "    \"Biogenic non organic material\": 484858,\n",
      "    \"Material\": 462472,\n",
      "    \"Mineral\": 391088,\n",
      "    \"Biogenic non-organic material\": 346242,\n",
      "    \"Anthropogenic metal\": 184888,\n",
      "    \"Natural solid material\": 182909,\n",
      "    \"Not Provided\": 181260,\n",
      "    \"Anthropogenic material\": 177576,\n",
      "    \"Sediment\": 94084,\n",
      "    \"Soil\": 37153,\n",
      "    \"Liquid water\": 25777,\n",
      "    \"Gaseous material\": 1225,\n",
      "    \"Particulate\": 124,\n",
      "    \"Non-aqueous liquid material\": 46,\n",
      "    \"Ice\": 8\n",
      "  },\n",
      "  \"hasContextCategory\": {\n",
      "    \"Not Provided\": 3984022,\n",
      "    \"Site of past human activities\": 853229,\n",
      "    \"Earth interior\": 665766,\n",
      "    \"Animalia\": 391448,\n",
      "    \"Subaerial surface environment\": 108123,\n",
      "    \"Marine water body\": 56520,\n",
      "    \"Marine water body bottom\": 53641,\n",
      "    \"Lake river or stream bottom\": 14582,\n",
      "    \"Terrestrial water body\": 10792,\n",
      "    \"Plantae\": 9417,\n",
      "    \"Active human occupation site\": 4040,\n",
      "    \"Fungi\": 3793,\n",
      "    \"Lake, river or stream bottom\": 1697,\n",
      "    \"Subsurface fluid reservoir\": 1680,\n",
      "    \"Marine biome\": 1661,\n",
      "    \"Chromista\": 1184,\n",
      "    \"Subaerial terrestrial biome\": 133,\n",
      "    \"Marine environment\": 5,\n",
      "    \"Bacteria\": 4,\n",
      "    \"Protozoa\": 4\n",
      "  }\n",
      "}\n"
     ]
    }
   ],
   "source": [
    "fields = [\"source\", \"hasMaterialCategory\", \"hasContextCategory\"]\n",
    "facets = cli.facets(\"*:*\", fields)\n",
    "print(json.dumps(facets, indent=2))"
   ]
  },
  {
   "cell_type": "code",
   "execution_count": 4,
   "metadata": {},
   "outputs": [
    {
     "name": "stderr",
     "output_type": "stream",
     "text": [
      "INFO:httpx:HTTP Request: GET https://central.isample.xyz/isamples_central/thing/select?rows=0&q=%2A%3A%2A&facet=true&facet.mincount=0&facet.pivot=source%2ChasMaterialCategory%2ChasContextCategory \"HTTP/1.1 200 OK\"\n",
      "INFO:root:url = https://central.isample.xyz/isamples_central/thing/select?rows=0&q=%2A%3A%2A&facet=true&facet.mincount=0&facet.pivot=source%2ChasMaterialCategory%2ChasContextCategory\n"
     ]
    },
    {
     "name": "stdout",
     "output_type": "stream",
     "text": [
      "<xarray.DataArray ()>\n",
      "array(4)\n",
      "Coordinates:\n",
      "    source               <U11 'geome'\n",
      "    hasMaterialCategory  <U29 'organic material'\n",
      "    hasContextCategory   <U29 'bacteria'\n"
     ]
    }
   ],
   "source": [
    "# Get counts of values grouping by three dimsions: source, hasMaterialCategory, and hasContextCategory\n",
    "dimensions = [\"source\", \"hasMaterialCategory\", \"hasContextCategory\"]\n",
    "xd = cli.pivot(\"*:*\", dimensions)\n",
    "print(xd.loc[\"geome\", \"organic material\", \"bacteria\"].sum())"
   ]
  },
  {
   "cell_type": "code",
   "execution_count": 5,
   "metadata": {},
   "outputs": [
    {
     "name": "stderr",
     "output_type": "stream",
     "text": [
      "INFO:httpx:HTTP Request: GET https://central.isample.xyz/isamples_central/thing/select?rows=0&q=%2A%3A%2A&facet=true&facet.mincount=0&facet.pivot=source%2ChasMaterialCategory%2ChasContextCategory \"HTTP/1.1 200 OK\"\n",
      "INFO:root:url = https://central.isample.xyz/isamples_central/thing/select?rows=0&q=%2A%3A%2A&facet=true&facet.mincount=0&facet.pivot=source%2ChasMaterialCategory%2ChasContextCategory\n"
     ]
    },
    {
     "name": "stdout",
     "output_type": "stream",
     "text": [
      "<xarray.DataArray ()>\n",
      "array(4)\n",
      "Coordinates:\n",
      "    source               <U11 'geome'\n",
      "    hasMaterialCategory  <U29 'organic material'\n",
      "    hasContextCategory   <U29 'bacteria'\n"
     ]
    }
   ],
   "source": [
    "# Get counts of values grouping by three dimsions: source, hasMaterialCategory, and hasContextCategory\n",
    "dimensions = [\"source\", \"hasMaterialCategory\", \"hasContextCategory\"]\n",
    "xd = cli.pivot(\"*:*\", dimensions)\n",
    "print(xd.loc[\"geome\", \"organic material\", \"bacteria\"].sum())"
   ]
  },
  {
   "cell_type": "code",
   "execution_count": 6,
   "metadata": {},
   "outputs": [
    {
     "data": {
      "text/html": [
       "<div>\n",
       "<style scoped>\n",
       "    .dataframe tbody tr th:only-of-type {\n",
       "        vertical-align: middle;\n",
       "    }\n",
       "\n",
       "    .dataframe tbody tr th {\n",
       "        vertical-align: top;\n",
       "    }\n",
       "\n",
       "    .dataframe thead th {\n",
       "        text-align: right;\n",
       "    }\n",
       "</style>\n",
       "<table border=\"1\" class=\"dataframe\">\n",
       "  <thead>\n",
       "    <tr style=\"text-align: right;\">\n",
       "      <th>source</th>\n",
       "      <th>sesar</th>\n",
       "      <th>opencontext</th>\n",
       "      <th>geome</th>\n",
       "      <th>smithsonian</th>\n",
       "    </tr>\n",
       "    <tr>\n",
       "      <th>hasMaterialCategory</th>\n",
       "      <th></th>\n",
       "      <th></th>\n",
       "      <th></th>\n",
       "      <th></th>\n",
       "    </tr>\n",
       "  </thead>\n",
       "  <tbody>\n",
       "    <tr>\n",
       "      <th>natural solid material</th>\n",
       "      <td>2233939</td>\n",
       "      <td>182909</td>\n",
       "      <td>0</td>\n",
       "      <td>0</td>\n",
       "    </tr>\n",
       "    <tr>\n",
       "      <th>rock</th>\n",
       "      <td>1752520</td>\n",
       "      <td>272</td>\n",
       "      <td>0</td>\n",
       "      <td>0</td>\n",
       "    </tr>\n",
       "    <tr>\n",
       "      <th>sediment</th>\n",
       "      <td>932889</td>\n",
       "      <td>0</td>\n",
       "      <td>0</td>\n",
       "      <td>0</td>\n",
       "    </tr>\n",
       "    <tr>\n",
       "      <th>mixed soil</th>\n",
       "      <td>838805</td>\n",
       "      <td>0</td>\n",
       "      <td>0</td>\n",
       "      <td>0</td>\n",
       "    </tr>\n",
       "    <tr>\n",
       "      <th>material</th>\n",
       "      <td>462472</td>\n",
       "      <td>0</td>\n",
       "      <td>0</td>\n",
       "      <td>0</td>\n",
       "    </tr>\n",
       "    <tr>\n",
       "      <th>mineral</th>\n",
       "      <td>390797</td>\n",
       "      <td>291</td>\n",
       "      <td>0</td>\n",
       "      <td>0</td>\n",
       "    </tr>\n",
       "    <tr>\n",
       "      <th>biogenic non-organic material</th>\n",
       "      <td>346242</td>\n",
       "      <td>0</td>\n",
       "      <td>0</td>\n",
       "      <td>0</td>\n",
       "    </tr>\n",
       "    <tr>\n",
       "      <th>organic material</th>\n",
       "      <td>281834</td>\n",
       "      <td>59049</td>\n",
       "      <td>405855</td>\n",
       "      <td>213411</td>\n",
       "    </tr>\n",
       "    <tr>\n",
       "      <th>not provided</th>\n",
       "      <td>47173</td>\n",
       "      <td>134087</td>\n",
       "      <td>0</td>\n",
       "      <td>0</td>\n",
       "    </tr>\n",
       "    <tr>\n",
       "      <th>soil</th>\n",
       "      <td>37153</td>\n",
       "      <td>0</td>\n",
       "      <td>0</td>\n",
       "      <td>0</td>\n",
       "    </tr>\n",
       "    <tr>\n",
       "      <th>liquid water</th>\n",
       "      <td>25777</td>\n",
       "      <td>0</td>\n",
       "      <td>0</td>\n",
       "      <td>0</td>\n",
       "    </tr>\n",
       "    <tr>\n",
       "      <th>gaseous material</th>\n",
       "      <td>1225</td>\n",
       "      <td>0</td>\n",
       "      <td>0</td>\n",
       "      <td>0</td>\n",
       "    </tr>\n",
       "    <tr>\n",
       "      <th>anthropogenic material</th>\n",
       "      <td>301</td>\n",
       "      <td>177275</td>\n",
       "      <td>0</td>\n",
       "      <td>0</td>\n",
       "    </tr>\n",
       "    <tr>\n",
       "      <th>particulate</th>\n",
       "      <td>124</td>\n",
       "      <td>0</td>\n",
       "      <td>0</td>\n",
       "      <td>0</td>\n",
       "    </tr>\n",
       "    <tr>\n",
       "      <th>non-aqueous liquid material</th>\n",
       "      <td>46</td>\n",
       "      <td>0</td>\n",
       "      <td>0</td>\n",
       "      <td>0</td>\n",
       "    </tr>\n",
       "    <tr>\n",
       "      <th>ice</th>\n",
       "      <td>8</td>\n",
       "      <td>0</td>\n",
       "      <td>0</td>\n",
       "      <td>0</td>\n",
       "    </tr>\n",
       "    <tr>\n",
       "      <th>biogenic non organic material</th>\n",
       "      <td>0</td>\n",
       "      <td>484858</td>\n",
       "      <td>0</td>\n",
       "      <td>0</td>\n",
       "    </tr>\n",
       "    <tr>\n",
       "      <th>anthropogenic metal</th>\n",
       "      <td>0</td>\n",
       "      <td>184888</td>\n",
       "      <td>0</td>\n",
       "      <td>0</td>\n",
       "    </tr>\n",
       "  </tbody>\n",
       "</table>\n",
       "</div>"
      ],
      "text/plain": [
       "source                           sesar  opencontext   geome  smithsonian\n",
       "hasMaterialCategory                                                     \n",
       "natural solid material         2233939       182909       0            0\n",
       "rock                           1752520          272       0            0\n",
       "sediment                        932889            0       0            0\n",
       "mixed soil                      838805            0       0            0\n",
       "material                        462472            0       0            0\n",
       "mineral                         390797          291       0            0\n",
       "biogenic non-organic material   346242            0       0            0\n",
       "organic material                281834        59049  405855       213411\n",
       "not provided                     47173       134087       0            0\n",
       "soil                             37153            0       0            0\n",
       "liquid water                     25777            0       0            0\n",
       "gaseous material                  1225            0       0            0\n",
       "anthropogenic material             301       177275       0            0\n",
       "particulate                        124            0       0            0\n",
       "non-aqueous liquid material         46            0       0            0\n",
       "ice                                  8            0       0            0\n",
       "biogenic non organic material        0       484858       0            0\n",
       "anthropogenic metal                  0       184888       0            0"
      ]
     },
     "metadata": {},
     "output_type": "display_data"
    }
   ],
   "source": [
    "# Sum by axis 2 (hasContextCategory) and print\n",
    "df = xd.sum(axis=2).to_pandas()\n",
    "# display transposed\n",
    "display(df.T)\n"
   ]
  },
  {
   "cell_type": "code",
   "execution_count": 7,
   "metadata": {},
   "outputs": [
    {
     "name": "stdout",
     "output_type": "stream",
     "text": [
      "<xarray.DataArray ()>\n",
      "array(1752520)\n",
      "Coordinates:\n",
      "    source               <U11 'sesar'\n",
      "    hasMaterialCategory  <U29 'rock'\n"
     ]
    }
   ],
   "source": [
    "print(xd.loc[\"sesar\", \"rock\"].sum())"
   ]
  },
  {
   "cell_type": "code",
   "execution_count": 8,
   "metadata": {},
   "outputs": [
    {
     "name": "stderr",
     "output_type": "stream",
     "text": [
      "INFO:httpx:HTTP Request: GET https://central.isample.xyz/isamples_central/thing/select/info \"HTTP/1.1 200 OK\"\n",
      "INFO:root:url = https://central.isample.xyz/isamples_central/thing/select/info\n"
     ]
    },
    {
     "name": "stdout",
     "output_type": "stream",
     "text": [
      "_nest_parent_\n",
      "_nest_path_\n",
      "_root_\n",
      "_text_\n",
      "_version_\n",
      "authorizedBy\n",
      "compliesWith\n",
      "curation_accessContraints\n",
      "curation_description\n",
      "curation_description_text\n",
      "curation_label\n",
      "curation_location\n",
      "curation_responsibility\n",
      "description\n",
      "description_text\n",
      "hasContextCategory\n",
      "hasContextCategoryConfidence\n",
      "hasMaterialCategory\n",
      "hasMaterialCategoryConfidence\n",
      "hasSpecimenCategory\n",
      "hasSpecimenCategoryConfidence\n",
      "id\n",
      "indexUpdatedTime\n",
      "informalClassification\n",
      "isb_core_id\n",
      "keywords\n",
      "label\n",
      "producedBy_description\n",
      "producedBy_description_text\n",
      "producedBy_hasFeatureOfInterest\n",
      "producedBy_isb_core_id\n",
      "producedBy_label\n",
      "producedBy_responsibility\n",
      "producedBy_resultTime\n",
      "producedBy_resultTimeRange\n",
      "producedBy_samplingSite_description\n",
      "producedBy_samplingSite_description_text\n",
      "producedBy_samplingSite_label\n",
      "producedBy_samplingSite_location_bb\n",
      "producedBy_samplingSite_location_bb__maxX\n",
      "producedBy_samplingSite_location_bb__maxY\n",
      "producedBy_samplingSite_location_bb__minX\n",
      "producedBy_samplingSite_location_bb__minY\n",
      "producedBy_samplingSite_location_bb__xdl\n",
      "producedBy_samplingSite_location_cesium_height\n",
      "producedBy_samplingSite_location_cesium_height_2\n",
      "producedBy_samplingSite_location_elevationInMeters\n",
      "producedBy_samplingSite_location_h3\n",
      "producedBy_samplingSite_location_h3_0\n",
      "producedBy_samplingSite_location_h3_1\n",
      "producedBy_samplingSite_location_h3_10\n",
      "producedBy_samplingSite_location_h3_11\n",
      "producedBy_samplingSite_location_h3_12\n",
      "producedBy_samplingSite_location_h3_13\n",
      "producedBy_samplingSite_location_h3_14\n",
      "producedBy_samplingSite_location_h3_15\n",
      "producedBy_samplingSite_location_h3_2\n",
      "producedBy_samplingSite_location_h3_3\n",
      "producedBy_samplingSite_location_h3_4\n",
      "producedBy_samplingSite_location_h3_5\n",
      "producedBy_samplingSite_location_h3_6\n",
      "producedBy_samplingSite_location_h3_7\n",
      "producedBy_samplingSite_location_h3_8\n",
      "producedBy_samplingSite_location_h3_9\n",
      "producedBy_samplingSite_location_latitude\n",
      "producedBy_samplingSite_location_ll\n",
      "producedBy_samplingSite_location_longitude\n",
      "producedBy_samplingSite_location_rpt\n",
      "producedBy_samplingSite_placeName\n",
      "registrant\n",
      "relatedResource_isb_core_id\n",
      "relation_target\n",
      "relation_type\n",
      "relations\n",
      "samplingPurpose\n",
      "searchText\n",
      "source\n",
      "sourceUpdatedTime\n"
     ]
    }
   ],
   "source": [
    "# Field names in solr\n",
    "for name in cli.field_names():\n",
    "    print(name)"
   ]
  },
  {
   "cell_type": "code",
   "execution_count": null,
   "metadata": {},
   "outputs": [],
   "source": []
  }
 ],
 "metadata": {
  "kernelspec": {
   "display_name": "Python 3 (ipykernel)",
   "language": "python",
   "name": "python3"
  },
  "language_info": {
   "codemirror_mode": {
    "name": "ipython",
    "version": 3
   },
   "file_extension": ".py",
   "mimetype": "text/x-python",
   "name": "python",
   "nbconvert_exporter": "python",
   "pygments_lexer": "ipython3",
   "version": "3.11.3"
  }
 },
 "nbformat": 4,
 "nbformat_minor": 4
}
