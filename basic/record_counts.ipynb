{
 "cells": [
  {
   "cell_type": "code",
   "execution_count": 1,
   "metadata": {
    "ExecuteTime": {
     "end_time": "2023-10-28T13:01:34.491834Z",
     "start_time": "2023-10-28T13:01:34.342886Z"
    },
    "collapsed": false,
    "jupyter": {
     "outputs_hidden": false
    }
   },
   "outputs": [],
   "source": [
    "import json\n",
    "import logging\n",
    "import typing\n",
    "import urllib.parse\n",
    "import httpx\n",
    "import xarray\n",
    "import pysolr\n",
    "\n",
    "from urllib.parse import quote\n",
    "\n",
    "import pandas as pd\n",
    "from pandas import DataFrame, Series\n",
    "import numpy as np\n",
    "\n",
    "import matplotlib.pyplot as plt\n",
    "\n",
    "from collections import Counter\n",
    "from isbclient import IsbClient, MAJOR_FIELDS, FL_DEFAULT, FACET_FIELDS_DEFAULT, FACET_RANGE_FIELDS_DEFAULT, ISAMPLES_SOURCES\n",
    "from isbclient import format_date_for_solr, create_date_range_query, filter_null_values\n",
    "from isbclient import monkey_patch_select, SWITCH_TO_POST\n",
    "\n",
    "\n",
    "from itertools import islice\n",
    "\n",
    "logging.getLogger().setLevel(logging.INFO)\n",
    "\n",
    "# monkeypatch pysolr?\n",
    "monkey_patch_select(active=True)\n",
    "SWITCH_TO_POST = 10000\n"
   ]
  },
  {
   "cell_type": "markdown",
   "metadata": {},
   "source": [
    "# The overall iSamples API\n",
    "\n",
    "*  https://central.isample.xyz/isamples_central/ui is the swagger UI\n",
    "* https://central.isample.xyz/isamples_central/openapi.json is the swagger file\n"
   ]
  },
  {
   "cell_type": "code",
   "execution_count": 2,
   "metadata": {},
   "outputs": [
    {
     "name": "stderr",
     "output_type": "stream",
     "text": [
      "INFO:httpx:HTTP Request: GET https://central.isample.xyz/isamples_central/openapi.json \"HTTP/1.1 200 OK\"\n"
     ]
    },
    {
     "data": {
      "text/plain": [
       "dict_keys(['/metrics', '/metrics/', '/thing', '/thing/', '/thing/types', '/thing/select/', '/thing/select', '/thing/reliquery', '/thing/stream', '/thing/select/info', '/h3_counts/', '/things', '/thing/{identifier}', '/resolve/{identifier}', '/stac_item/{identifier}', '/stac_collection/{filename}', '/things_geojson_heatmap', '/things_leaflet_heatmap', '/related', '/related/'])"
      ]
     },
     "execution_count": 2,
     "metadata": {},
     "output_type": "execute_result"
    }
   ],
   "source": [
    "\n",
    "OPENAPI_URL = 'https://central.isample.xyz/isamples_central/openapi.json'\n",
    "r = httpx.get(OPENAPI_URL)\n",
    "r.json()['paths'].keys()"
   ]
  },
  {
   "cell_type": "markdown",
   "metadata": {},
   "source": [
    "# /thing/select: Solr-based select interface"
   ]
  },
  {
   "cell_type": "code",
   "execution_count": 3,
   "metadata": {},
   "outputs": [
    {
     "name": "stderr",
     "output_type": "stream",
     "text": [
      "INFO:httpx:HTTP Request: GET https://central.isample.xyz/isamples_central/openapi.json \"HTTP/1.1 200 OK\"\n"
     ]
    },
    {
     "data": {
      "text/plain": [
       "{'summary': 'Get Solr Select',\n",
       " 'operationId': 'get_solr_select_thing_select_get',\n",
       " 'responses': {'200': {'description': 'Successful Response',\n",
       "   'content': {'application/json': {'schema': {'title': 'Response Get Solr Select Thing Select Get'}}}}}}"
      ]
     },
     "execution_count": 3,
     "metadata": {},
     "output_type": "execute_result"
    }
   ],
   "source": [
    "# focus on /thing/select endpoint\n",
    "r = httpx.get(OPENAPI_URL)\n",
    "r.json()['paths']['/thing/select']['get']"
   ]
  },
  {
   "cell_type": "code",
   "execution_count": 4,
   "metadata": {},
   "outputs": [],
   "source": [
    "class IsbClient2(IsbClient):\n",
    "    def __init__(self, url='https://central.isample.xyz/isamples_central/thing'):\n",
    "        super().__init__()\n",
    "        self.url = url\n",
    "        self.solr = pysolr.Solr(self.url, always_commit=True)\n",
    "\n",
    "    def _fq_from_kwargs(self, collection_date_start=1800, collection_date_end='NOW', source=None, **kwargs):\n",
    "        \"\"\" \n",
    "        builds fq from a set of defaults and kwargs\n",
    "        TO DO: incorporate kwargs into fq -- kwargs are essentially ignored right now\n",
    "        # https://github.com/django-haystack/pysolr/issues/58\n",
    "        Also, we need to be able to handle multiple values for a single key and clarify what this function should return -- a tuple or a list (and not dict)\n",
    "        \"\"\"\n",
    "        # build fq\n",
    "        # 'field1': quote('value with spaces and special characters like &'),\n",
    "\n",
    "        # source is a tuple drawing from ['SESAR', 'OPENCONTEXT', 'GEOME', 'SMITHSONIAN']\n",
    "        if source is not None:\n",
    "            source = \" or \".join([f'\"{s}\"' for s in source])\n",
    "\n",
    "        filter_conditions = {\n",
    "            \n",
    "            'producedBy_resultTimeRange': f'[{collection_date_start} TO {collection_date_end}]',  # Range query\n",
    "            'source': source,  # Boolean logic\n",
    "            '-relation_target':'*'\n",
    "        }\n",
    "\n",
    "        filter_conditions.update(kwargs)\n",
    "\n",
    "        # Convert to list of fq strings\n",
    "        fq = [f'{field}:{value}' for field, value in filter_null_values(filter_conditions).items()]\n",
    "\n",
    "        # fq = ['producedBy_resultTimeRange:[1800 TO 2023]', 'source:(OPENCONTEXT or SESAR)', '-relation_target:*']\n",
    "        return fq\n",
    "\n",
    "    def default_search_params(self, q='*:*',\n",
    "                       fl = FL_DEFAULT,\n",
    "                       fq = None,\n",
    "                       start=0, rows=20, \n",
    "                       facet_field = FACET_FIELDS_DEFAULT,\n",
    "                       sort =  'id ASC',\n",
    "                       **kwargs):\n",
    "        \n",
    "        if fq is None:\n",
    "            fq = self._fq_from_kwargs()\n",
    "    \n",
    "        params={\n",
    "            'q': q, \n",
    "            'fl': fl,\n",
    "            'start':start, \n",
    "            'rows': rows, \n",
    "            'fq': fq,\n",
    "            'facet': 'on',\n",
    "            'facet.field': facet_field,\n",
    "            'cursorMark': '*',\n",
    "            'sort': sort,\n",
    "        }\n",
    "\n",
    "        # update params with kwargs\n",
    "        params.update(kwargs)\n",
    "        return params\n",
    "                \n",
    "    def search(self, params=None, **kwargs):\n",
    "        if params is None:\n",
    "            params = self.default_search_params(**kwargs)\n",
    "\n",
    "        # give an option to pick how to do the search\n",
    "        if kwargs.get('thingselect', False):\n",
    "            return self._request(\"thing/select\", params)\n",
    "        else:\n",
    "            return self.solr.search(**params)\n",
    "\n"
   ]
  },
  {
   "cell_type": "markdown",
   "metadata": {},
   "source": [
    "widgetized forms to formulate query\n",
    "\n",
    "display number of hits\n",
    "display facets\n",
    "\n",
    "map\n",
    "dataframe\n"
   ]
  },
  {
   "cell_type": "code",
   "execution_count": 5,
   "metadata": {},
   "outputs": [
    {
     "name": "stderr",
     "output_type": "stream",
     "text": [
      "INFO:httpx:HTTP Request: GET https://central.isample.xyz/isamples_central/thing/select?q=%2A%3A%2A&fl=searchText&fl=authorizedBy&fl=producedBy_resultTimeRange&fl=hasContextCategory&fl=curation_accessContraints&fl=curation_description_text&fl=curation_label&fl=curation_location&fl=curation_responsibility&fl=description_text&fl=id&fl=informalClassification&fl=keywords&fl=label&fl=hasMaterialCategory&fl=producedBy_description_text&fl=producedBy_hasFeatureOfInterest&fl=producedBy_label&fl=producedBy_responsibility&fl=producedBy_resultTime&fl=producedBy_samplingSite_description_text&fl=producedBy_samplingSite_label&fl=producedBy_samplingSite_location_elevationInMeters&fl=producedBy_samplingSite_location_latitude&fl=producedBy_samplingSite_location_longitude&fl=producedBy_samplingSite_placeName&fl=registrant&fl=samplingPurpose&fl=source&fl=sourceUpdatedTime&fl=producedBy_samplingSite_location_rpt&fl=hasSpecimenCategory&start=0&rows=100&fq=producedBy_resultTimeRange%3A%5B1800%20TO%20NOW%5D&fq=source%3A%22OPENCONTEXT%22&fq=-relation_target%3A%2A&facet=on&facet.field=authorizedBy&facet.field=hasContextCategory&facet.field=hasMaterialCategory&facet.field=registrant&facet.field=source&facet.field=hasSpecimenCategory&cursorMark=%2A&sort=id%20ASC&facet.range=producedBy_resultTimeRange&f.producedBy_resultTimeRange.facet.range.gap=%2B1YEARS&f.producedBy_resultTimeRange.facet.range.start=1800-01-01T00%3A00%3A00Z&f.producedBy_resultTimeRange.facet.range.end=2023-01-01T00%3A00%3A00Z \"HTTP/1.1 200 OK\"\n",
      "INFO:root:url = https://central.isample.xyz/isamples_central/thing/select?q=%2A%3A%2A&fl=searchText&fl=authorizedBy&fl=producedBy_resultTimeRange&fl=hasContextCategory&fl=curation_accessContraints&fl=curation_description_text&fl=curation_label&fl=curation_location&fl=curation_responsibility&fl=description_text&fl=id&fl=informalClassification&fl=keywords&fl=label&fl=hasMaterialCategory&fl=producedBy_description_text&fl=producedBy_hasFeatureOfInterest&fl=producedBy_label&fl=producedBy_responsibility&fl=producedBy_resultTime&fl=producedBy_samplingSite_description_text&fl=producedBy_samplingSite_label&fl=producedBy_samplingSite_location_elevationInMeters&fl=producedBy_samplingSite_location_latitude&fl=producedBy_samplingSite_location_longitude&fl=producedBy_samplingSite_placeName&fl=registrant&fl=samplingPurpose&fl=source&fl=sourceUpdatedTime&fl=producedBy_samplingSite_location_rpt&fl=hasSpecimenCategory&start=0&rows=100&fq=producedBy_resultTimeRange%3A%5B1800%20TO%20NOW%5D&fq=source%3A%22OPENCONTEXT%22&fq=-relation_target%3A%2A&facet=on&facet.field=authorizedBy&facet.field=hasContextCategory&facet.field=hasMaterialCategory&facet.field=registrant&facet.field=source&facet.field=hasSpecimenCategory&cursorMark=%2A&sort=id%20ASC&facet.range=producedBy_resultTimeRange&f.producedBy_resultTimeRange.facet.range.gap=%2B1YEARS&f.producedBy_resultTimeRange.facet.range.start=1800-01-01T00%3A00%3A00Z&f.producedBy_resultTimeRange.facet.range.end=2023-01-01T00%3A00%3A00Z\n"
     ]
    },
    {
     "name": "stdout",
     "output_type": "stream",
     "text": [
      "4\n"
     ]
    },
    {
     "data": {
      "text/html": [
       "<div>\n",
       "<style scoped>\n",
       "    .dataframe tbody tr th:only-of-type {\n",
       "        vertical-align: middle;\n",
       "    }\n",
       "\n",
       "    .dataframe tbody tr th {\n",
       "        vertical-align: top;\n",
       "    }\n",
       "\n",
       "    .dataframe thead th {\n",
       "        text-align: right;\n",
       "    }\n",
       "</style>\n",
       "<table border=\"1\" class=\"dataframe\">\n",
       "  <thead>\n",
       "    <tr style=\"text-align: right;\">\n",
       "      <th></th>\n",
       "      <th>0</th>\n",
       "    </tr>\n",
       "  </thead>\n",
       "  <tbody>\n",
       "    <tr>\n",
       "      <th>0</th>\n",
       "      <td>responseHeader</td>\n",
       "    </tr>\n",
       "    <tr>\n",
       "      <th>1</th>\n",
       "      <td>response</td>\n",
       "    </tr>\n",
       "    <tr>\n",
       "      <th>2</th>\n",
       "      <td>nextCursorMark</td>\n",
       "    </tr>\n",
       "    <tr>\n",
       "      <th>3</th>\n",
       "      <td>facet_counts</td>\n",
       "    </tr>\n",
       "  </tbody>\n",
       "</table>\n",
       "</div>"
      ],
      "text/plain": [
       "                0\n",
       "0  responseHeader\n",
       "1        response\n",
       "2  nextCursorMark\n",
       "3    facet_counts"
      ]
     },
     "execution_count": 5,
     "metadata": {},
     "output_type": "execute_result"
    }
   ],
   "source": [
    "cli = IsbClient2()\n",
    "fq = cli._fq_from_kwargs(source=('OPENCONTEXT',))\n",
    "params = cli.default_search_params(fq=fq, fl=FL_DEFAULT, rows=100, **FACET_RANGE_FIELDS_DEFAULT)\n",
    "\n",
    "# use the /thing/select endpoint directly\n",
    "\n",
    "query = cli.search(params=params, thingselect=True)\n",
    "# print number of hits\n",
    "print (len(query))\n",
    "results = islice(query, 300)\n",
    "\n",
    "df = DataFrame(results)\n",
    "df.head()"
   ]
  },
  {
   "cell_type": "code",
   "execution_count": 6,
   "metadata": {},
   "outputs": [
    {
     "name": "stderr",
     "output_type": "stream",
     "text": [
      "INFO:pysolr:Finished 'https://central.isample.xyz/isamples_central/thing/select?q=%2A%3A%2A&fl=searchText&fl=authorizedBy&fl=producedBy_resultTimeRange&fl=hasContextCategory&fl=curation_accessContraints&fl=curation_description_text&fl=curation_label&fl=curation_location&fl=curation_responsibility&fl=description_text&fl=id&fl=informalClassification&fl=keywords&fl=label&fl=hasMaterialCategory&fl=producedBy_description_text&fl=producedBy_hasFeatureOfInterest&fl=producedBy_label&fl=producedBy_responsibility&fl=producedBy_resultTime&fl=producedBy_samplingSite_description_text&fl=producedBy_samplingSite_label&fl=producedBy_samplingSite_location_elevationInMeters&fl=producedBy_samplingSite_location_latitude&fl=producedBy_samplingSite_location_longitude&fl=producedBy_samplingSite_placeName&fl=registrant&fl=samplingPurpose&fl=source&fl=sourceUpdatedTime&fl=producedBy_samplingSite_location_rpt&fl=hasSpecimenCategory&start=0&rows=100&fq=producedBy_resultTimeRange%3A%5B1800+TO+NOW%5D&fq=source%3A%22OPENCONTEXT%22&fq=-relation_target%3A%2A&facet=on&facet.field=authorizedBy&facet.field=hasContextCategory&facet.field=hasMaterialCategory&facet.field=registrant&facet.field=source&facet.field=hasSpecimenCategory&cursorMark=%2A&sort=id+ASC&facet.range=producedBy_resultTimeRange&f.producedBy_resultTimeRange.facet.range.gap=%2B1YEARS&f.producedBy_resultTimeRange.facet.range.start=1800-01-01T00%3A00%3A00Z&f.producedBy_resultTimeRange.facet.range.end=2023-01-01T00%3A00%3A00Z&wt=json' (get) with body '' in 1.148 seconds, with status 200\n"
     ]
    },
    {
     "name": "stdout",
     "output_type": "stream",
     "text": [
      "882128\n"
     ]
    },
    {
     "name": "stderr",
     "output_type": "stream",
     "text": [
      "INFO:pysolr:Finished 'https://central.isample.xyz/isamples_central/thing/select?q=%2A%3A%2A&fl=searchText&fl=authorizedBy&fl=producedBy_resultTimeRange&fl=hasContextCategory&fl=curation_accessContraints&fl=curation_description_text&fl=curation_label&fl=curation_location&fl=curation_responsibility&fl=description_text&fl=id&fl=informalClassification&fl=keywords&fl=label&fl=hasMaterialCategory&fl=producedBy_description_text&fl=producedBy_hasFeatureOfInterest&fl=producedBy_label&fl=producedBy_responsibility&fl=producedBy_resultTime&fl=producedBy_samplingSite_description_text&fl=producedBy_samplingSite_label&fl=producedBy_samplingSite_location_elevationInMeters&fl=producedBy_samplingSite_location_latitude&fl=producedBy_samplingSite_location_longitude&fl=producedBy_samplingSite_placeName&fl=registrant&fl=samplingPurpose&fl=source&fl=sourceUpdatedTime&fl=producedBy_samplingSite_location_rpt&fl=hasSpecimenCategory&start=0&rows=100&fq=producedBy_resultTimeRange%3A%5B1800+TO+NOW%5D&fq=source%3A%22OPENCONTEXT%22&fq=-relation_target%3A%2A&facet=on&facet.field=authorizedBy&facet.field=hasContextCategory&facet.field=hasMaterialCategory&facet.field=registrant&facet.field=source&facet.field=hasSpecimenCategory&cursorMark=AoE0YXJrOi8yODcyMi9rMjAwMDBmMmQ%3D&sort=id+ASC&facet.range=producedBy_resultTimeRange&f.producedBy_resultTimeRange.facet.range.gap=%2B1YEARS&f.producedBy_resultTimeRange.facet.range.start=1800-01-01T00%3A00%3A00Z&f.producedBy_resultTimeRange.facet.range.end=2023-01-01T00%3A00%3A00Z&wt=json' (get) with body '' in 1.025 seconds, with status 200\n",
      "INFO:pysolr:Finished 'https://central.isample.xyz/isamples_central/thing/select?q=%2A%3A%2A&fl=searchText&fl=authorizedBy&fl=producedBy_resultTimeRange&fl=hasContextCategory&fl=curation_accessContraints&fl=curation_description_text&fl=curation_label&fl=curation_location&fl=curation_responsibility&fl=description_text&fl=id&fl=informalClassification&fl=keywords&fl=label&fl=hasMaterialCategory&fl=producedBy_description_text&fl=producedBy_hasFeatureOfInterest&fl=producedBy_label&fl=producedBy_responsibility&fl=producedBy_resultTime&fl=producedBy_samplingSite_description_text&fl=producedBy_samplingSite_label&fl=producedBy_samplingSite_location_elevationInMeters&fl=producedBy_samplingSite_location_latitude&fl=producedBy_samplingSite_location_longitude&fl=producedBy_samplingSite_placeName&fl=registrant&fl=samplingPurpose&fl=source&fl=sourceUpdatedTime&fl=producedBy_samplingSite_location_rpt&fl=hasSpecimenCategory&start=0&rows=100&fq=producedBy_resultTimeRange%3A%5B1800+TO+NOW%5D&fq=source%3A%22OPENCONTEXT%22&fq=-relation_target%3A%2A&facet=on&facet.field=authorizedBy&facet.field=hasContextCategory&facet.field=hasMaterialCategory&facet.field=registrant&facet.field=source&facet.field=hasSpecimenCategory&cursorMark=AoE0YXJrOi8yODcyMi9rMjAwMDFzODY%3D&sort=id+ASC&facet.range=producedBy_resultTimeRange&f.producedBy_resultTimeRange.facet.range.gap=%2B1YEARS&f.producedBy_resultTimeRange.facet.range.start=1800-01-01T00%3A00%3A00Z&f.producedBy_resultTimeRange.facet.range.end=2023-01-01T00%3A00%3A00Z&wt=json' (get) with body '' in 0.820 seconds, with status 200\n"
     ]
    },
    {
     "data": {
      "text/html": [
       "<div>\n",
       "<style scoped>\n",
       "    .dataframe tbody tr th:only-of-type {\n",
       "        vertical-align: middle;\n",
       "    }\n",
       "\n",
       "    .dataframe tbody tr th {\n",
       "        vertical-align: top;\n",
       "    }\n",
       "\n",
       "    .dataframe thead th {\n",
       "        text-align: right;\n",
       "    }\n",
       "</style>\n",
       "<table border=\"1\" class=\"dataframe\">\n",
       "  <thead>\n",
       "    <tr style=\"text-align: right;\">\n",
       "      <th></th>\n",
       "      <th>id</th>\n",
       "      <th>sourceUpdatedTime</th>\n",
       "      <th>label</th>\n",
       "      <th>searchText</th>\n",
       "      <th>description_text</th>\n",
       "      <th>hasContextCategory</th>\n",
       "      <th>hasMaterialCategory</th>\n",
       "      <th>hasSpecimenCategory</th>\n",
       "      <th>keywords</th>\n",
       "      <th>registrant</th>\n",
       "      <th>...</th>\n",
       "      <th>producedBy_resultTime</th>\n",
       "      <th>producedBy_resultTimeRange</th>\n",
       "      <th>producedBy_samplingSite_description_text</th>\n",
       "      <th>producedBy_samplingSite_label</th>\n",
       "      <th>producedBy_samplingSite_location_rpt</th>\n",
       "      <th>producedBy_samplingSite_location_latitude</th>\n",
       "      <th>producedBy_samplingSite_location_longitude</th>\n",
       "      <th>source</th>\n",
       "      <th>producedBy_label</th>\n",
       "      <th>producedBy_samplingSite_placeName</th>\n",
       "    </tr>\n",
       "  </thead>\n",
       "  <tbody>\n",
       "    <tr>\n",
       "      <th>0</th>\n",
       "      <td>ark:/28722/k2000024f</td>\n",
       "      <td>2023-10-07T07:53:03Z</td>\n",
       "      <td>Object VdM20060209</td>\n",
       "      <td>[Object VdM20060209, 'early bce/ce': -535.0 | ...</td>\n",
       "      <td>'early bce/ce': -535.0 | 'late bce/ce': -50.0 ...</td>\n",
       "      <td>[Site of past human activities]</td>\n",
       "      <td>[mat:rock, mat:anthropogenicmetal, mat:biogeni...</td>\n",
       "      <td>[physicalspecimen]</td>\n",
       "      <td>[Architecture, Human settlements, Subsistence ...</td>\n",
       "      <td>[]</td>\n",
       "      <td>...</td>\n",
       "      <td>2012-12-28T00:00:00Z</td>\n",
       "      <td>2012-12-28T00:00:00Z</td>\n",
       "      <td>https://opencontext.org/subjects/167674e7-1eda...</td>\n",
       "      <td>Vescovado di Murlo</td>\n",
       "      <td>POINT (11.391122443138563 43.171122385167024)</td>\n",
       "      <td>43.171124</td>\n",
       "      <td>11.391123</td>\n",
       "      <td>OPENCONTEXT</td>\n",
       "      <td>NaN</td>\n",
       "      <td>NaN</td>\n",
       "    </tr>\n",
       "    <tr>\n",
       "      <th>1</th>\n",
       "      <td>ark:/28722/k2000025x</td>\n",
       "      <td>2023-10-07T06:55:40Z</td>\n",
       "      <td>Architectural Element PC 19680385</td>\n",
       "      <td>[Architectural Element PC 19680385, 'early bce...</td>\n",
       "      <td>'early bce/ce': -700.0 | 'late bce/ce': -535.0...</td>\n",
       "      <td>[Site of past human activities]</td>\n",
       "      <td>[anyanthropogenicmaterial]</td>\n",
       "      <td>[artifact]</td>\n",
       "      <td>[Architecture, Human settlements, Subsistence ...</td>\n",
       "      <td>[]</td>\n",
       "      <td>...</td>\n",
       "      <td>2012-12-28T00:00:00Z</td>\n",
       "      <td>2012-12-28T00:00:00Z</td>\n",
       "      <td>https://opencontext.org/subjects/871b9ef8-bc68...</td>\n",
       "      <td>Poggio Civitate</td>\n",
       "      <td>POINT (11.400837596717457 43.15319356129963)</td>\n",
       "      <td>43.153194</td>\n",
       "      <td>11.400838</td>\n",
       "      <td>OPENCONTEXT</td>\n",
       "      <td>NaN</td>\n",
       "      <td>NaN</td>\n",
       "    </tr>\n",
       "    <tr>\n",
       "      <th>2</th>\n",
       "      <td>ark:/28722/k2000027w</td>\n",
       "      <td>2023-10-04T06:00:39Z</td>\n",
       "      <td>Animal Bone Bone Ref# 3008</td>\n",
       "      <td>[Animal Bone Bone Ref# 3008, 'early bce/ce': -...</td>\n",
       "      <td>'early bce/ce': -6700.0 | 'late bce/ce': -6000...</td>\n",
       "      <td>[Site of past human activities]</td>\n",
       "      <td>[biogenicnonorganicmaterial]</td>\n",
       "      <td>[ornament, container, architectural element]</td>\n",
       "      <td>[Agriculture, Animal remains (Archaeology), Ar...</td>\n",
       "      <td>[]</td>\n",
       "      <td>...</td>\n",
       "      <td>2013-03-04T00:00:00Z</td>\n",
       "      <td>2013-03-04T00:00:00Z</td>\n",
       "      <td>https://opencontext.org/subjects/2767a2d2-a050...</td>\n",
       "      <td>Pınarbaşı</td>\n",
       "      <td>POINT (33.018551 37.49432)</td>\n",
       "      <td>37.494320</td>\n",
       "      <td>33.018550</td>\n",
       "      <td>OPENCONTEXT</td>\n",
       "      <td>NaN</td>\n",
       "      <td>NaN</td>\n",
       "    </tr>\n",
       "    <tr>\n",
       "      <th>3</th>\n",
       "      <td>ark:/28722/k2000028c</td>\n",
       "      <td>2023-10-04T05:58:40Z</td>\n",
       "      <td>Animal Bone Bone Ref# 2237</td>\n",
       "      <td>[Animal Bone Bone Ref# 2237, 'early bce/ce': -...</td>\n",
       "      <td>'early bce/ce': -6700.0 | 'late bce/ce': -6000...</td>\n",
       "      <td>[Site of past human activities]</td>\n",
       "      <td>[biogenicnonorganicmaterial]</td>\n",
       "      <td>[container, ornament, architectural element]</td>\n",
       "      <td>[Agriculture, Animal remains (Archaeology), Ar...</td>\n",
       "      <td>[]</td>\n",
       "      <td>...</td>\n",
       "      <td>2013-03-04T00:00:00Z</td>\n",
       "      <td>2013-03-04T00:00:00Z</td>\n",
       "      <td>https://opencontext.org/subjects/2767a2d2-a050...</td>\n",
       "      <td>Pınarbaşı</td>\n",
       "      <td>POINT (33.018551 37.49432)</td>\n",
       "      <td>37.494320</td>\n",
       "      <td>33.018550</td>\n",
       "      <td>OPENCONTEXT</td>\n",
       "      <td>NaN</td>\n",
       "      <td>NaN</td>\n",
       "    </tr>\n",
       "    <tr>\n",
       "      <th>4</th>\n",
       "      <td>ark:/28722/k2000029v</td>\n",
       "      <td>2023-10-04T05:55:15Z</td>\n",
       "      <td>Animal Bone Bone Ref# 991</td>\n",
       "      <td>[Animal Bone Bone Ref# 991, 'early bce/ce': -6...</td>\n",
       "      <td>'early bce/ce': -6700.0 | 'late bce/ce': -6000...</td>\n",
       "      <td>[Site of past human activities]</td>\n",
       "      <td>[biogenicnonorganicmaterial]</td>\n",
       "      <td>[container, ornament, architectural element]</td>\n",
       "      <td>[Agriculture, Animal remains (Archaeology), Ar...</td>\n",
       "      <td>[]</td>\n",
       "      <td>...</td>\n",
       "      <td>2013-03-04T00:00:00Z</td>\n",
       "      <td>2013-03-04T00:00:00Z</td>\n",
       "      <td>https://opencontext.org/subjects/2767a2d2-a050...</td>\n",
       "      <td>Pınarbaşı</td>\n",
       "      <td>POINT (33.018551 37.49432)</td>\n",
       "      <td>37.494320</td>\n",
       "      <td>33.018550</td>\n",
       "      <td>OPENCONTEXT</td>\n",
       "      <td>NaN</td>\n",
       "      <td>NaN</td>\n",
       "    </tr>\n",
       "  </tbody>\n",
       "</table>\n",
       "<p>5 rows × 21 columns</p>\n",
       "</div>"
      ],
      "text/plain": [
       "                     id     sourceUpdatedTime  \\\n",
       "0  ark:/28722/k2000024f  2023-10-07T07:53:03Z   \n",
       "1  ark:/28722/k2000025x  2023-10-07T06:55:40Z   \n",
       "2  ark:/28722/k2000027w  2023-10-04T06:00:39Z   \n",
       "3  ark:/28722/k2000028c  2023-10-04T05:58:40Z   \n",
       "4  ark:/28722/k2000029v  2023-10-04T05:55:15Z   \n",
       "\n",
       "                               label  \\\n",
       "0                 Object VdM20060209   \n",
       "1  Architectural Element PC 19680385   \n",
       "2         Animal Bone Bone Ref# 3008   \n",
       "3         Animal Bone Bone Ref# 2237   \n",
       "4          Animal Bone Bone Ref# 991   \n",
       "\n",
       "                                          searchText  \\\n",
       "0  [Object VdM20060209, 'early bce/ce': -535.0 | ...   \n",
       "1  [Architectural Element PC 19680385, 'early bce...   \n",
       "2  [Animal Bone Bone Ref# 3008, 'early bce/ce': -...   \n",
       "3  [Animal Bone Bone Ref# 2237, 'early bce/ce': -...   \n",
       "4  [Animal Bone Bone Ref# 991, 'early bce/ce': -6...   \n",
       "\n",
       "                                    description_text  \\\n",
       "0  'early bce/ce': -535.0 | 'late bce/ce': -50.0 ...   \n",
       "1  'early bce/ce': -700.0 | 'late bce/ce': -535.0...   \n",
       "2  'early bce/ce': -6700.0 | 'late bce/ce': -6000...   \n",
       "3  'early bce/ce': -6700.0 | 'late bce/ce': -6000...   \n",
       "4  'early bce/ce': -6700.0 | 'late bce/ce': -6000...   \n",
       "\n",
       "                hasContextCategory  \\\n",
       "0  [Site of past human activities]   \n",
       "1  [Site of past human activities]   \n",
       "2  [Site of past human activities]   \n",
       "3  [Site of past human activities]   \n",
       "4  [Site of past human activities]   \n",
       "\n",
       "                                 hasMaterialCategory  \\\n",
       "0  [mat:rock, mat:anthropogenicmetal, mat:biogeni...   \n",
       "1                         [anyanthropogenicmaterial]   \n",
       "2                       [biogenicnonorganicmaterial]   \n",
       "3                       [biogenicnonorganicmaterial]   \n",
       "4                       [biogenicnonorganicmaterial]   \n",
       "\n",
       "                            hasSpecimenCategory  \\\n",
       "0                            [physicalspecimen]   \n",
       "1                                    [artifact]   \n",
       "2  [ornament, container, architectural element]   \n",
       "3  [container, ornament, architectural element]   \n",
       "4  [container, ornament, architectural element]   \n",
       "\n",
       "                                            keywords registrant  ...  \\\n",
       "0  [Architecture, Human settlements, Subsistence ...         []  ...   \n",
       "1  [Architecture, Human settlements, Subsistence ...         []  ...   \n",
       "2  [Agriculture, Animal remains (Archaeology), Ar...         []  ...   \n",
       "3  [Agriculture, Animal remains (Archaeology), Ar...         []  ...   \n",
       "4  [Agriculture, Animal remains (Archaeology), Ar...         []  ...   \n",
       "\n",
       "  producedBy_resultTime producedBy_resultTimeRange  \\\n",
       "0  2012-12-28T00:00:00Z       2012-12-28T00:00:00Z   \n",
       "1  2012-12-28T00:00:00Z       2012-12-28T00:00:00Z   \n",
       "2  2013-03-04T00:00:00Z       2013-03-04T00:00:00Z   \n",
       "3  2013-03-04T00:00:00Z       2013-03-04T00:00:00Z   \n",
       "4  2013-03-04T00:00:00Z       2013-03-04T00:00:00Z   \n",
       "\n",
       "            producedBy_samplingSite_description_text  \\\n",
       "0  https://opencontext.org/subjects/167674e7-1eda...   \n",
       "1  https://opencontext.org/subjects/871b9ef8-bc68...   \n",
       "2  https://opencontext.org/subjects/2767a2d2-a050...   \n",
       "3  https://opencontext.org/subjects/2767a2d2-a050...   \n",
       "4  https://opencontext.org/subjects/2767a2d2-a050...   \n",
       "\n",
       "  producedBy_samplingSite_label  \\\n",
       "0            Vescovado di Murlo   \n",
       "1               Poggio Civitate   \n",
       "2                     Pınarbaşı   \n",
       "3                     Pınarbaşı   \n",
       "4                     Pınarbaşı   \n",
       "\n",
       "            producedBy_samplingSite_location_rpt  \\\n",
       "0  POINT (11.391122443138563 43.171122385167024)   \n",
       "1   POINT (11.400837596717457 43.15319356129963)   \n",
       "2                     POINT (33.018551 37.49432)   \n",
       "3                     POINT (33.018551 37.49432)   \n",
       "4                     POINT (33.018551 37.49432)   \n",
       "\n",
       "  producedBy_samplingSite_location_latitude  \\\n",
       "0                                 43.171124   \n",
       "1                                 43.153194   \n",
       "2                                 37.494320   \n",
       "3                                 37.494320   \n",
       "4                                 37.494320   \n",
       "\n",
       "   producedBy_samplingSite_location_longitude       source producedBy_label  \\\n",
       "0                                   11.391123  OPENCONTEXT              NaN   \n",
       "1                                   11.400838  OPENCONTEXT              NaN   \n",
       "2                                   33.018550  OPENCONTEXT              NaN   \n",
       "3                                   33.018550  OPENCONTEXT              NaN   \n",
       "4                                   33.018550  OPENCONTEXT              NaN   \n",
       "\n",
       "  producedBy_samplingSite_placeName  \n",
       "0                               NaN  \n",
       "1                               NaN  \n",
       "2                               NaN  \n",
       "3                               NaN  \n",
       "4                               NaN  \n",
       "\n",
       "[5 rows x 21 columns]"
      ]
     },
     "execution_count": 6,
     "metadata": {},
     "output_type": "execute_result"
    }
   ],
   "source": [
    "cli = IsbClient2()\n",
    "fq = cli._fq_from_kwargs(source=('OPENCONTEXT',))\n",
    "params = cli.default_search_params(fq=fq, fl=FL_DEFAULT, rows=100, **FACET_RANGE_FIELDS_DEFAULT)\n",
    "\n",
    "# use pysolr to get the results\n",
    "query = cli.search(params=params)\n",
    "# print number of hits\n",
    "print (len(query))\n",
    "results = islice(query, 300)\n",
    "\n",
    "df = DataFrame(results)\n",
    "df.head()"
   ]
  },
  {
   "cell_type": "code",
   "execution_count": 7,
   "metadata": {},
   "outputs": [
    {
     "data": {
      "text/plain": [
       "{'q': '*:*',\n",
       " 'fl': ('searchText',\n",
       "  'authorizedBy',\n",
       "  'producedBy_resultTimeRange',\n",
       "  'hasContextCategory',\n",
       "  'curation_accessContraints',\n",
       "  'curation_description_text',\n",
       "  'curation_label',\n",
       "  'curation_location',\n",
       "  'curation_responsibility',\n",
       "  'description_text',\n",
       "  'id',\n",
       "  'informalClassification',\n",
       "  'keywords',\n",
       "  'label',\n",
       "  'hasMaterialCategory',\n",
       "  'producedBy_description_text',\n",
       "  'producedBy_hasFeatureOfInterest',\n",
       "  'producedBy_label',\n",
       "  'producedBy_responsibility',\n",
       "  'producedBy_resultTime',\n",
       "  'producedBy_samplingSite_description_text',\n",
       "  'producedBy_samplingSite_label',\n",
       "  'producedBy_samplingSite_location_elevationInMeters',\n",
       "  'producedBy_samplingSite_location_latitude',\n",
       "  'producedBy_samplingSite_location_longitude',\n",
       "  'producedBy_samplingSite_placeName',\n",
       "  'registrant',\n",
       "  'samplingPurpose',\n",
       "  'source',\n",
       "  'sourceUpdatedTime',\n",
       "  'producedBy_samplingSite_location_rpt',\n",
       "  'hasSpecimenCategory'),\n",
       " 'start': 0,\n",
       " 'rows': 100,\n",
       " 'fq': ['producedBy_resultTimeRange:[1800 TO NOW]',\n",
       "  'source:\"OPENCONTEXT\"',\n",
       "  '-relation_target:*'],\n",
       " 'facet': 'on',\n",
       " 'facet.field': ('authorizedBy',\n",
       "  'hasContextCategory',\n",
       "  'hasMaterialCategory',\n",
       "  'registrant',\n",
       "  'source',\n",
       "  'hasSpecimenCategory'),\n",
       " 'cursorMark': '*',\n",
       " 'sort': 'id ASC',\n",
       " 'facet.range': 'producedBy_resultTimeRange',\n",
       " 'f.producedBy_resultTimeRange.facet.range.gap': '+1YEARS',\n",
       " 'f.producedBy_resultTimeRange.facet.range.start': '1800-01-01T00:00:00Z',\n",
       " 'f.producedBy_resultTimeRange.facet.range.end': '2023-01-01T00:00:00Z'}"
      ]
     },
     "execution_count": 7,
     "metadata": {},
     "output_type": "execute_result"
    }
   ],
   "source": [
    "params"
   ]
  },
  {
   "cell_type": "code",
   "execution_count": 8,
   "metadata": {},
   "outputs": [
    {
     "name": "stderr",
     "output_type": "stream",
     "text": [
      "INFO:httpx:HTTP Request: GET https://central.isample.xyz/isamples_central//thing/select?q=%2A%3A%2A&fl=searchText&fl=authorizedBy&fl=producedBy_resultTimeRange&fl=hasContextCategory&fl=curation_accessContraints&fl=curation_description_text&fl=curation_label&fl=curation_location&fl=curation_responsibility&fl=description_text&fl=id&fl=informalClassification&fl=keywords&fl=label&fl=hasMaterialCategory&fl=producedBy_description_text&fl=producedBy_hasFeatureOfInterest&fl=producedBy_label&fl=producedBy_responsibility&fl=producedBy_resultTime&fl=producedBy_samplingSite_description_text&fl=producedBy_samplingSite_label&fl=producedBy_samplingSite_location_elevationInMeters&fl=producedBy_samplingSite_location_latitude&fl=producedBy_samplingSite_location_longitude&fl=producedBy_samplingSite_placeName&fl=registrant&fl=samplingPurpose&fl=source&fl=sourceUpdatedTime&fl=producedBy_samplingSite_location_rpt&fl=hasSpecimenCategory&start=0&rows=100&fq=producedBy_resultTimeRange%3A%5B1800%20TO%20NOW%5D&fq=source%3A%22OPENCONTEXT%22&fq=-relation_target%3A%2A&facet=on&facet.field=authorizedBy&facet.field=hasContextCategory&facet.field=hasMaterialCategory&facet.field=registrant&facet.field=source&facet.field=hasSpecimenCategory&cursorMark=%2A&sort=id%20ASC&facet.range=producedBy_resultTimeRange&f.producedBy_resultTimeRange.facet.range.gap=%2B1YEARS&f.producedBy_resultTimeRange.facet.range.start=1800-01-01T00%3A00%3A00Z&f.producedBy_resultTimeRange.facet.range.end=2023-01-01T00%3A00%3A00Z \"HTTP/1.1 200 OK\"\n"
     ]
    },
    {
     "data": {
      "text/plain": [
       "882128"
      ]
     },
     "execution_count": 8,
     "metadata": {},
     "output_type": "execute_result"
    }
   ],
   "source": [
    "# write out the call to iSamples using httpx to compare get vs post\n",
    "\n",
    "import httpx\n",
    "ISB_SERVER = \"https://central.isample.xyz/isamples_central/\"\n",
    "\n",
    "r = httpx.request('GET', f'{ISB_SERVER}/thing/select', params=params)\n",
    "r.json()['response']['numFound']"
   ]
  },
  {
   "cell_type": "code",
   "execution_count": 9,
   "metadata": {},
   "outputs": [
    {
     "name": "stderr",
     "output_type": "stream",
     "text": [
      "INFO:httpx:HTTP Request: POST https://central.isample.xyz/isamples_central//thing/select \"HTTP/1.1 200 OK\"\n"
     ]
    },
    {
     "data": {
      "text/plain": [
       "<Response [200 OK]>"
      ]
     },
     "execution_count": 9,
     "metadata": {},
     "output_type": "execute_result"
    }
   ],
   "source": [
    "# make a post request version\n",
    "\n",
    "from urllib.parse import urlencode\n",
    "\n",
    "headers = {\n",
    "    \"Content-type\": \"application/x-www-form-urlencoded; charset=utf-8\"\n",
    "}\n",
    "\n",
    "params_encoded = urlencode(params)\n",
    "r = httpx.post(f'{ISB_SERVER}/thing/select', data=params_encoded, headers=headers)\n",
    "r"
   ]
  },
  {
   "cell_type": "code",
   "execution_count": 10,
   "metadata": {},
   "outputs": [
    {
     "data": {
      "text/plain": [
       "{'responseHeader': {'zkConnected': True,\n",
       "  'status': 0,\n",
       "  'QTime': 0,\n",
       "  'params': {'q': '*:*',\n",
       "   'fl': 'id',\n",
       "   'start': '0',\n",
       "   'rows': '10',\n",
       "   'wt': 'json'}},\n",
       " 'response': {'numFound': 6387537,\n",
       "  'start': 0,\n",
       "  'numFoundExact': True,\n",
       "  'docs': [{'id': 'IGSN:IESER000J'},\n",
       "   {'id': 'IGSN:IESER000K'},\n",
       "   {'id': 'IGSN:IESER000L'},\n",
       "   {'id': 'IGSN:IELL10002'},\n",
       "   {'id': 'IGSN:IENWU0PBP'},\n",
       "   {'id': 'IGSN:IENWU0SDP'},\n",
       "   {'id': 'IGSN:IESER0009'},\n",
       "   {'id': 'IGSN:IESER0008'},\n",
       "   {'id': 'IGSN:IESER0006'},\n",
       "   {'id': 'IGSN:IESER000B'}]}}"
      ]
     },
     "execution_count": 10,
     "metadata": {},
     "output_type": "execute_result"
    }
   ],
   "source": [
    "r.json()"
   ]
  },
  {
   "cell_type": "code",
   "execution_count": null,
   "metadata": {},
   "outputs": [],
   "source": [
    "assert set(query.raw_response.keys()) == set(['responseHeader', 'response', 'nextCursorMark', 'facet_counts'])"
   ]
  },
  {
   "cell_type": "code",
   "execution_count": null,
   "metadata": {},
   "outputs": [],
   "source": [
    "# dict_keys(['facet_queries', 'facet_fields', 'facet_ranges', 'facet_intervals', 'facet_heatmaps'])\n",
    "query.raw_response['facet_counts'].keys()\n",
    "\n",
    "query.raw_response['facet_counts']['facet_fields'].keys()"
   ]
  },
  {
   "cell_type": "code",
   "execution_count": null,
   "metadata": {},
   "outputs": [],
   "source": [
    "query.raw_response['facet_counts']['facet_fields']['source']"
   ]
  },
  {
   "cell_type": "code",
   "execution_count": null,
   "metadata": {},
   "outputs": [],
   "source": [
    "from ipytree import Tree, Node\n",
    "from ipyleaflet import Map, Marker\n",
    "from ipywidgets import HBox, link, Layout\n",
    "\n",
    "m = Map(center=[47.51, 4.04], zoom=4, layout=Layout(height='400px'))\n",
    "tree = Tree()\n",
    "tree.layout.width = '40%'\n",
    "box = HBox([tree, m])\n",
    "\n",
    "markers_node = Node('Markers')\n",
    "tree.add_node(markers_node)\n",
    "\n",
    "layers_node = Node('Layers', icon='map')\n",
    "tree.add_node(layers_node)\n",
    "\n",
    "cities = [\n",
    "    {'name': 'London', 'location': [51.5074, 0.1278]},\n",
    "    {'name': 'Paris', 'location': [48.8566, 2.3522]},\n",
    "    {'name': 'Barcelona', 'location': [41.31, 2.109]}\n",
    "]\n",
    "\n",
    "for city in cities:\n",
    "    marker = Marker(location=city.get('location'))\n",
    "    node = Node(city.get('name'), icon='map-marker')\n",
    "\n",
    "    link((marker, 'visible'), (node, 'selected'))\n",
    "\n",
    "    m.add_layer(marker)\n",
    "    markers_node.add_node(node)\n",
    "\n",
    "box"
   ]
  },
  {
   "cell_type": "code",
   "execution_count": null,
   "metadata": {},
   "outputs": [],
   "source": [
    "# query.raw_response.keys() --> dict_keys(['responseHeader', 'response', 'nextCursorMark', 'facet_counts'])\n",
    "query.raw_response['facet_counts']['facet_ranges'].keys()"
   ]
  },
  {
   "cell_type": "code",
   "execution_count": null,
   "metadata": {},
   "outputs": [],
   "source": [
    "# keys: dict_keys(['facet_queries', 'facet_fields', 'facet_ranges', 'facet_intervals', 'facet_heatmaps'])\n",
    "query.raw_response['facet_counts']['facet_ranges'].keys()"
   ]
  },
  {
   "cell_type": "code",
   "execution_count": null,
   "metadata": {},
   "outputs": [],
   "source": [
    "# 'responseHeader', 'index', 'schema', 'info'\n",
    "r = cli._request(\"thing/select/info\")\n",
    "r.keys()"
   ]
  },
  {
   "cell_type": "code",
   "execution_count": null,
   "metadata": {},
   "outputs": [],
   "source": [
    "r['schema']['fields'].keys()"
   ]
  },
  {
   "cell_type": "code",
   "execution_count": null,
   "metadata": {},
   "outputs": [],
   "source": [
    "# timeout internal server error\n",
    "if False:\n",
    "    r = cli._request(\"thing/types\")"
   ]
  },
  {
   "cell_type": "code",
   "execution_count": null,
   "metadata": {},
   "outputs": [],
   "source": [
    "# types and classnames for all the fields on the system\n",
    "Counter([(x['type'], r['schema']['types'][x['type']]['className']) for x in r['schema']['fields'].values()])"
   ]
  },
  {
   "cell_type": "code",
   "execution_count": null,
   "metadata": {},
   "outputs": [],
   "source": [
    "# e.g, I for Indexed, T for Tokenized, S for Stored, etc.\n",
    "r['info']['key']\n",
    "\n",
    "# ['fields', 'dynamicFields', 'uniqueKeyField', 'similarity', 'types']\n",
    "r['schema'].keys()\n",
    "\n",
    "# get the fields -- 78 of them\n",
    "print (\"number of fields\", len(r['schema']['fields'].keys()))\n",
    "\n",
    "field_names = cli.field_names()\n",
    "print(\"number of field names (another way to access)\", len(field_names))\n",
    "\n",
    "print (\"types for the major fields\")\n",
    "[(k,v['type'], r['schema']['types'][v['type']]['className'] ) for (k,v) in r['schema']['fields'].items() if k in MAJOR_FIELDS.values()]"
   ]
  },
  {
   "cell_type": "code",
   "execution_count": null,
   "metadata": {},
   "outputs": [],
   "source": [
    "from urllib.parse import urlparse, parse_qs\n",
    "\n",
    "url = 'https://central.isample.xyz/isamples_central/thing/select?q=*:*&fl=searchText%20authorizedBy%20producedBy_resultTimeRange%20hasContextCategory%20curation_accessContraints%20curation_description_text%20curation_label%20curation_location%20curation_responsibility%20description_text%20id%20informalClassification%20keywords%20label%20hasMaterialCategory%20producedBy_description_text%20producedBy_hasFeatureOfInterest%20producedBy_label%20producedBy_responsibility%20producedBy_resultTime%20producedBy_samplingSite_description_text%20producedBy_samplingSite_label%20producedBy_samplingSite_location_elevationInMeters%20producedBy_samplingSite_location_latitude%20producedBy_samplingSite_location_longitude%20producedBy_samplingSite_placeName%20registrant%20samplingPurpose%20source%20sourceUpdatedTime%20producedBy_samplingSite_location_rpt%20hasSpecimenCategory&fq=producedBy_resultTimeRange%3A%5B1800%20TO%202023%5D&fq=source%3A(%22OPENCONTEXT%22%20OR%20%22SESAR%22)&fq=-relation_target%3A*&facet.field=authorizedBy&facet.field=hasContextCategory&facet.field=hasMaterialCategory&facet.field=registrant&facet.field=source&facet.field=hasSpecimenCategory&facet.range=producedBy_resultTimeRange&facet.range.gap=%2B1YEARS&facet.range.start=1800-01-01T00:00:00Z&facet.range.end=2023-01-01T00:00:00Z&f.registrant.facet.sort=count&f.source.facet.sort=index&rows=20&facet.limit=-1&facet.sort=index&&start=0&facet=on&wt=json'\n",
    "\n",
    "parsed_url = urlparse(url)\n",
    "query_params = parse_qs(parsed_url.query)\n",
    "\n",
    "# The result is a dictionary where each key is associated with a list of values.\n",
    "# You can iterate over this dictionary to process your parameters as needed.\n",
    "for key, values in query_params.items():\n",
    "    print(f\"{key}: {values}\")\n",
    "\n",
    "# If you need each key to have a single value (taking the first value if multiple are present),\n",
    "# you can do the following:\n",
    "single_value_params = {key: values[0] for key, values in query_params.items()}\n",
    "print(single_value_params)\n"
   ]
  },
  {
   "cell_type": "code",
   "execution_count": null,
   "metadata": {},
   "outputs": [],
   "source": [
    "# simplest query -- default\n",
    "\n",
    "cli._request(\"thing/select\", params={'q': '*:*', 'start':0, 'rows': 10, \n",
    "        'fq': ['producedBy_resultTimeRange:[1800 TO 2023]', 'source:(OPENCONTEXT or SESAR)', '-relation_target:*'],\n",
    "        'facet.field': ['authorizedBy', 'hasContextCategory', 'hasMaterialCategory', 'registrant', 'source', 'hasSpecimenCategory'],\n",
    "        'facet': 'on',\n",
    "        })"
   ]
  },
  {
   "cell_type": "markdown",
   "metadata": {},
   "source": [
    "\n",
    "\n",
    "Let's break down these parameters, which are used for querying a Solr search engine. Solr is an open-source search platform that provides a wide range of capabilities for text search and faceted search, among other features.\n",
    "\n",
    "q: This parameter specifies the query. Here, *:* is a wildcard query, meaning it matches all documents in the Solr index.\n",
    "\n",
    "\n",
    "[fl](https://solr.apache.org/guide/8_11/common-query-parameters.html#fl-field-list-parameter): This stands for \"field list\". It specifies the fields to return in the result. In your query, a long list of fields like searchText, authorizedBy, producedBy_resultTimeRange, etc., are included. Only these fields will be returned for each document in the search results.\n",
    "\n",
    "fq: This is the \"filter query\". It filters the results returned by the main query (q) without influencing the score. Here, there are three filters applied:\n",
    "\n",
    "> producedBy_resultTimeRange:[1800 TO 2023] filters documents to those produced between the years 1800 and 2023.\n",
    "source:(OPENCONTEXT) filters documents where the source field matches \"OPENCONTEXT\".\n",
    "-relation_target:* excludes documents where the relation_target field exists.\n",
    "facet.field: Faceting is used to aggregate data based on a field. This parameter specifies the fields for which you want to see facet counts. Facets on fields like authorizedBy, hasContextCategory, etc., are requested.\n",
    "\n",
    "\n",
    "facet.range, facet.range.gap, facet.range.start, and facet.range.end: These parameters are used for range faceting. You are faceting on the producedBy_resultTimeRange field, starting from \"1800-01-01T00:00:00Z\" to \"2023-01-01T00:00:00Z\", with a gap of \"+1YEARS\". This means it will provide counts for each year in this range.\n",
    "\n",
    "f.registrant.facet.sort and f.source.facet.sort: These are sorting instructions for the facets. The registrant facet is sorted by count, and the source facet is sorted by index.\n",
    "\n",
    "rows: This specifies the number of documents to return. In your query, it's set to 20.\n",
    "\n",
    "facet.limit: This limits the number of facet values returned for each facet field. -1 means no limit.\n",
    "\n",
    "facet.sort: It dictates how to sort the facet fields. Here, it's sorted by index.\n",
    "\n",
    "start: This is the offset in the complete result set for pagination. It tells Solr where to start in the list of results (useful for paging through results).\n",
    "\n",
    "facet: When set to 'on', it enables faceting.\n",
    "\n",
    "wt: This stands for \"writer type\" and specifies the output format. Here, 'json' indicates that the response should be in JSON format."
   ]
  },
  {
   "cell_type": "code",
   "execution_count": null,
   "metadata": {},
   "outputs": [],
   "source": [
    "import httpx\n",
    "\n",
    "\n",
    "url = \"https://central.isample.xyz/isamples_central/thing/select\"\n",
    "params = {\n",
    "    'q': '*:*',\n",
    "    'fl': 'searchText authorizedBy producedBy_resultTimeRange hasContextCategory curation_accessContraints curation_description_text curation_label curation_location curation_responsibility description_text id informalClassification keywords label hasMaterialCategory producedBy_description_text producedBy_hasFeatureOfInterest producedBy_label producedBy_responsibility producedBy_resultTime producedBy_samplingSite_description_text producedBy_samplingSite_label producedBy_samplingSite_location_elevationInMeters producedBy_samplingSite_location_latitude producedBy_samplingSite_location_longitude producedBy_samplingSite_placeName registrant samplingPurpose source sourceUpdatedTime producedBy_samplingSite_location_rpt hasSpecimenCategory',\n",
    "    'fq': ['producedBy_resultTimeRange:[1800 TO 2023]', 'source:(OPENCONTEXT)', '-relation_target:*'],\n",
    "    'facet.field': ['authorizedBy', 'hasContextCategory', 'hasMaterialCategory', 'registrant', 'source', 'hasSpecimenCategory'],\n",
    "    'facet.range': 'producedBy_resultTimeRange',\n",
    "    'facet.range.gap': '+1YEARS',\n",
    "    'facet.range.start': '1800-01-01T00:00:00Z',\n",
    "    'facet.range.end': '2023-01-01T00:00:00Z',\n",
    "    'f.registrant.facet.sort': 'count',\n",
    "    'f.source.facet.sort': 'index',\n",
    "    'rows': '20',\n",
    "    'facet.limit': '-1',\n",
    "    'facet.sort': 'index',\n",
    "    'start': '20',\n",
    "    'facet': 'on',\n",
    "    'wt': 'json'\n",
    "}\n",
    "headers = {\n",
    "    'Accept': 'application/json',\n",
    "    'User-Agent': 'raymondyee.net'\n",
    "}\n",
    "\n",
    "# keys in response: 'responseHeader', 'response', 'facet_counts'\n",
    "response = httpx.get(url, params=params, headers=headers)\n"
   ]
  },
  {
   "cell_type": "code",
   "execution_count": null,
   "metadata": {},
   "outputs": [],
   "source": [
    "# get back parameters that went into the query and some basic metadata\n",
    "response.json()['responseHeader']"
   ]
  },
  {
   "cell_type": "code",
   "execution_count": null,
   "metadata": {},
   "outputs": [],
   "source": [
    "# 'numFound', 'start', 'numFoundExact', 'docs'\n",
    "response.json()['response'].keys()\n",
    "\n",
    "(response.json()['response']['numFound'], response.json()['response']['numFoundExact'])\n"
   ]
  },
  {
   "cell_type": "code",
   "execution_count": null,
   "metadata": {},
   "outputs": [],
   "source": [
    "response.json()['response']['docs'][0].keys()"
   ]
  },
  {
   "cell_type": "markdown",
   "metadata": {},
   "source": [
    "# plotting the collection dates"
   ]
  },
  {
   "cell_type": "code",
   "execution_count": null,
   "metadata": {},
   "outputs": [],
   "source": [
    "import httpx\n",
    "\n",
    "cli = IsbClient2()\n",
    "fq = cli._fq_from_kwargs(source=('OPENCONTEXT',))\n",
    "params = cli.default_search_params(fq=fq, fl=FL_DEFAULT, rows=100, **FACET_RANGE_FIELDS_DEFAULT)\n",
    "\n",
    "\n",
    "url = 'https://central.isample.xyz/isamples_central/thing/select/info'\n",
    "url = 'https://central.isample.xyz/isamples_central/thing/select?q=*:*&facet=true&facet.range=producedBy_resultTimeRange&facet.range.start=NOW/YEAR-200YEARS&facet.range.end=NOW/YEAR&facet.range.gap=YEAR'\n",
    "\n",
    "\n",
    "headers = {\n",
    "    'accept': 'application/json'\n",
    "}\n",
    "\n",
    "response = httpx.get('https://central.isample.xyz/isamples_central/thing/select', headers=headers, params=params)\n",
    "\n",
    "print(response.json())\n"
   ]
  },
  {
   "cell_type": "code",
   "execution_count": null,
   "metadata": {},
   "outputs": [],
   "source": [
    "response.json()['facet_counts']['facet_ranges']['producedBy_resultTimeRange']['counts']"
   ]
  },
  {
   "cell_type": "code",
   "execution_count": null,
   "metadata": {},
   "outputs": [],
   "source": [
    "\n",
    "k = response.json()['facet_counts']['facet_ranges']['producedBy_resultTimeRange']['counts']\n",
    "dict(zip(k[::2], k[1::2]))\n",
    "\n"
   ]
  },
  {
   "cell_type": "code",
   "execution_count": null,
   "metadata": {},
   "outputs": [],
   "source": [
    "import pandas as pd\n",
    "import matplotlib.pyplot as plt\n",
    "\n",
    "# Assuming data is your response.json()['facet_counts']['facet_ranges']['producedBy_resultTimeRange']['counts']\n",
    "k = response.json()['facet_counts']['facet_ranges']['producedBy_resultTimeRange']['counts']\n",
    "data = dict(zip(k[::2], k[1::2]))\n",
    "\n",
    "\n",
    "# Convert the dictionary to a DataFrame\n",
    "df = pd.DataFrame(list(data.items()), columns=['Date', 'Count'])\n",
    "\n",
    "# Convert the 'Date' column to datetime\n",
    "df['Date'] = pd.to_datetime(df['Date'])\n",
    "\n",
    "# Extract the year from the date\n",
    "df['Year'] = df['Date'].dt.year\n",
    "\n",
    "# Count the occurrences of each year\n",
    "year_counts = df['Year'].value_counts().sort_index()\n",
    "\n",
    "# Plot the counts vs year\n",
    "year_counts.plot(kind='line')\n",
    "plt.xlabel('Year')\n",
    "plt.ylabel('Count')\n",
    "plt.title('Count vs Year')\n",
    "plt.show()\n"
   ]
  },
  {
   "cell_type": "code",
   "execution_count": null,
   "metadata": {},
   "outputs": [],
   "source": [
    "k = response.json()['facet_counts']['facet_ranges']['producedBy_resultTimeRange']['counts']\n",
    "data = dict(zip(k[::2], k[1::2]))\n",
    "\n",
    "df = pd.DataFrame(list(data.items()), columns=['Date', 'Count'])\n",
    "df.plot()"
   ]
  },
  {
   "cell_type": "code",
   "execution_count": null,
   "metadata": {},
   "outputs": [],
   "source": [
    "import matplotlib.pyplot as plt\n",
    "import numpy as np\n",
    "\n",
    "# Assuming df is your DataFrame\n",
    "df['Date'] = pd.to_datetime(df['Date'])\n",
    "\n",
    "# deal with log scale\n",
    "df = df.loc[df['Count'] != 0]\n",
    "\n",
    "# df['Count'] = df['Count'].replace(0, np.nan)\n",
    "# df['Count'] = df['Count'].fillna(0.1)\n",
    "\n",
    "plt.figure(figsize=(10,6))\n",
    "plt.scatter(df['Date'], df['Count'], color='green', alpha=0.5, s=10)\n",
    "plt.yscale('log')\n",
    "\n",
    "plt.xlabel('Date')\n",
    "plt.ylabel('Count')\n",
    "plt.title('Count over Date')\n",
    "plt.show()"
   ]
  },
  {
   "cell_type": "code",
   "execution_count": null,
   "metadata": {},
   "outputs": [],
   "source": [
    "%%bash\n",
    "\n",
    "curl -X 'GET' \\\n",
    "  'https://central.isample.xyz/isamples_central/thing/select?facet=true&facet.mincount=0&facet.field=source' \\\n",
    "  -H 'accept: application/json'"
   ]
  },
  {
   "cell_type": "code",
   "execution_count": null,
   "metadata": {},
   "outputs": [],
   "source": []
  },
  {
   "cell_type": "code",
   "execution_count": null,
   "metadata": {},
   "outputs": [],
   "source": [
    "field_names = cli.field_names()\n"
   ]
  },
  {
   "cell_type": "code",
   "execution_count": null,
   "metadata": {},
   "outputs": [],
   "source": [
    "len(field_names)"
   ]
  },
  {
   "cell_type": "code",
   "execution_count": null,
   "metadata": {},
   "outputs": [],
   "source": [
    "fields = [\"source\", \"hasMaterialCategory\", \"hasContextCategory\"]\n",
    "facets = cli.facets(\"*:*\", fields)\n",
    "print(json.dumps(facets, indent=2))"
   ]
  },
  {
   "cell_type": "code",
   "execution_count": null,
   "metadata": {},
   "outputs": [],
   "source": [
    "# Get counts of values grouping by three dimsions: source, hasMaterialCategory, and hasContextCategory\n",
    "dimensions = [\"source\", \"hasMaterialCategory\", \"hasContextCategory\"]\n",
    "xd = cli.pivot(\"*:*\", dimensions)\n",
    "print(xd.loc[\"geome\", \"organic material\", \"bacteria\"].sum())"
   ]
  },
  {
   "cell_type": "code",
   "execution_count": null,
   "metadata": {},
   "outputs": [],
   "source": [
    "# Get counts of values grouping by three dimsions: source, hasMaterialCategory, and hasContextCategory\n",
    "dimensions = [\"source\", \"hasMaterialCategory\", \"hasContextCategory\"]\n",
    "xd = cli.pivot(\"*:*\", dimensions)\n",
    "print(xd.loc[\"geome\", \"organic material\", \"bacteria\"].sum())"
   ]
  },
  {
   "cell_type": "code",
   "execution_count": null,
   "metadata": {},
   "outputs": [],
   "source": [
    "# Sum by axis 2 (hasContextCategory) and print\n",
    "df = xd.sum(axis=2).to_pandas()\n",
    "# display transposed\n",
    "display(df.T)\n"
   ]
  },
  {
   "cell_type": "code",
   "execution_count": null,
   "metadata": {},
   "outputs": [],
   "source": [
    "print(xd.loc[\"sesar\", \"rock\"].sum())"
   ]
  },
  {
   "cell_type": "code",
   "execution_count": null,
   "metadata": {},
   "outputs": [],
   "source": [
    "# Field names in solr\n",
    "for name in cli.field_names():\n",
    "    print(name)"
   ]
  },
  {
   "cell_type": "code",
   "execution_count": null,
   "metadata": {},
   "outputs": [],
   "source": []
  },
  {
   "cell_type": "code",
   "execution_count": null,
   "metadata": {},
   "outputs": [],
   "source": []
  }
 ],
 "metadata": {
  "kernelspec": {
   "display_name": "Python 3 (ipykernel)",
   "language": "python",
   "name": "python3"
  },
  "language_info": {
   "codemirror_mode": {
    "name": "ipython",
    "version": 3
   },
   "file_extension": ".py",
   "mimetype": "text/x-python",
   "name": "python",
   "nbconvert_exporter": "python",
   "pygments_lexer": "ipython3",
   "version": "3.11.7"
  }
 },
 "nbformat": 4,
 "nbformat_minor": 4
}
