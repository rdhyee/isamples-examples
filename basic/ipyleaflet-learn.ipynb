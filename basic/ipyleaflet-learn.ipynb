{
 "cells": [
  {
   "cell_type": "code",
   "execution_count": 1,
   "metadata": {},
   "outputs": [],
   "source": [
    "import math\n",
    "from ipywidgets import interact\n",
    "import ipywidgets as widgets\n",
    "\n",
    "from ipyleaflet import Map, Marker, AwesomeIcon, ZoomControl, FullScreenControl, LayersControl, DrawControl, MeasureControl, ScaleControl, basemaps, TileLayer, Heatmap\n",
    "from ipywidgets import Layout\n",
    "\n",
    "import httpx\n",
    "import json\n"
   ]
  },
  {
   "cell_type": "code",
   "execution_count": 2,
   "metadata": {},
   "outputs": [],
   "source": [
    "def f(x=10):\n",
    "    return math.factorial(x)\n"
   ]
  },
  {
   "cell_type": "code",
   "execution_count": 3,
   "metadata": {},
   "outputs": [
    {
     "data": {
      "application/vnd.jupyter.widget-view+json": {
       "model_id": "9e51968445b34e50a229417bf5a2a0bb",
       "version_major": 2,
       "version_minor": 0
      },
      "text/plain": [
       "IntSlider(value=10)"
      ]
     },
     "metadata": {},
     "output_type": "display_data"
    },
    {
     "data": {
      "application/vnd.jupyter.widget-view+json": {
       "model_id": "8fb17baf8b5f4e0392e0f924efaed984",
       "version_major": 2,
       "version_minor": 0
      },
      "text/plain": [
       "Text(value='', disabled=True)"
      ]
     },
     "metadata": {},
     "output_type": "display_data"
    }
   ],
   "source": [
    "x_widget = widgets.IntSlider(min=0, max=100, step=1, value=10)\n",
    "zoom_widget = widgets.IntSlider(min=0, max=15, step=1, value=10)\n",
    "f_widget = widgets.Text(value='', disabled=True)\n",
    "\n",
    "def update_f_widget_value(*args):\n",
    "    f_widget.value = str(f(x_widget.value))\n",
    "\n",
    "x_widget.observe(update_f_widget_value, 'value')\n",
    "\n",
    "\n",
    "display(x_widget, f_widget)\n"
   ]
  },
  {
   "cell_type": "code",
   "execution_count": 6,
   "metadata": {},
   "outputs": [
    {
     "data": {
      "application/vnd.jupyter.widget-view+json": {
       "model_id": "7940cf5d9c7c4284b65f8c805dcd911b",
       "version_major": 2,
       "version_minor": 0
      },
      "text/plain": [
       "Map(center=[43.1607, 11.388], controls=(ZoomControl(options=['position', 'zoom_in_text', 'zoom_in_title', 'zoo…"
      ]
     },
     "metadata": {},
     "output_type": "display_data"
    }
   ],
   "source": [
    "# 37.871960, -122.259094\n",
    "\n",
    "UCB_LOC = [37.871960, -122.259094]\n",
    "MURLO_LOC = [43.1607, 11.3880]\n",
    "\n",
    "def remove_heatmaps(m):\n",
    "    for layer in m.layers:\n",
    "        if isinstance(layer, Heatmap):\n",
    "            m.remove(layer)\n",
    "\n",
    "# https://central.isample.xyz/isamples_central/things_leaflet_heatmap?query=%2A%3A%2A&min_lat=-24.5&max_lat=49.4&min_lon=-124.73&max_lon=-66.95\n",
    "\n",
    "\n",
    "def things_leaflet_heatmap(min_lat, max_lat, min_lon, max_lon, query='*:*'):\n",
    "    base_url = \"https://central.isample.xyz/isamples_central/things_leaflet_heatmap\"\n",
    "    r = httpx.get(base_url, params={'query': query, 'min_lat': min_lat, 'max_lat': max_lat, 'min_lon': min_lon, 'max_lon': max_lon})\n",
    "    data = r.json()['data']\n",
    "    return data\n",
    "\n",
    "def heatmap_for_map(m, query='*:*', radius=2, blur=10):\n",
    "    remove_heatmaps(m)\n",
    "    data = things_leaflet_heatmap(m.bounds[0][0], m.bounds[1][0], m.bounds[0][1], m.bounds[1][1], query)\n",
    "    heatmap = Heatmap(\n",
    "        locations=data,  # Data points\n",
    "        radius=radius,       # Radius of each “heat” point\n",
    "        blur=blur,         # Amount of blur\n",
    "    )\n",
    "    m.add(heatmap)\n",
    "    return heatmap\n",
    "\n",
    "def make_map(center_x=37.871960, center_y=-122.259094, zoom=10, width='100%', height='500px',\n",
    "             zoom_control=False, scroll_wheel_zoom=True,\n",
    "             controls=(ZoomControl(position='topleft'), FullScreenControl(), \n",
    "                LayersControl(position='topright'), DrawControl(), MeasureControl(), ScaleControl(position='bottomleft'))\n",
    "             ):\n",
    "         \n",
    "    m = Map(center=[center_x, center_y], zoom=zoom, layout=Layout(width=width, height=height),\n",
    "            zoom_control=zoom_control, scroll_wheel_zoom=scroll_wheel_zoom, controls=controls)\n",
    "\n",
    "    google_map = TileLayer(url='https://mt1.google.com/vt/lyrs=m&x={x}&y={y}&z={z}', name='Google Maps', attribution='Google')\n",
    "    google_satellite = TileLayer(\n",
    "        url=\"https://mt1.google.com/vt/lyrs=y&x={x}&y={y}&z={z}\",\n",
    "        attribution=\"Google\",\n",
    "        name=\"Google Satellite\"\n",
    "    )\n",
    "\n",
    "    # m.add(google_map)\n",
    "    # m.add(google_satellite)\n",
    "\n",
    "    # TO DO: turn on only the basemap\n",
    "    \n",
    "    return m\n",
    "\n",
    "\n",
    "m = make_map(MURLO_LOC[0], MURLO_LOC[1], 6)\n",
    "display(m)\n",
    "\n",
    "\n",
    "def handle_bounds_change(*args):\n",
    "    radius = 3\n",
    "    blur = 10\n",
    "\n",
    "    heatmap_for_map(m, query='*:*', radius=radius, blur=blur)\n",
    "    \n",
    "m.observe(handle_bounds_change, 'bounds')\n",
    "\n"
   ]
  },
  {
   "cell_type": "code",
   "execution_count": null,
   "metadata": {},
   "outputs": [],
   "source": []
  },
  {
   "cell_type": "code",
   "execution_count": null,
   "metadata": {},
   "outputs": [],
   "source": [
    "m.bounds"
   ]
  },
  {
   "cell_type": "code",
   "execution_count": null,
   "metadata": {},
   "outputs": [],
   "source": []
  },
  {
   "cell_type": "code",
   "execution_count": null,
   "metadata": {},
   "outputs": [],
   "source": [
    "\n",
    "zoom_widget = widgets.IntSlider(min=0, max=18, step=1, value=10)\n",
    "\n",
    "center = (37.8715,-122.2730)\n",
    "\n",
    "m = make_map(center[0], center[1], zoom=10)\n",
    "\n",
    "icon = AwesomeIcon(\n",
    "    name='SFO',\n",
    "    marker_color='green',\n",
    "    icon_color='darkgreen',\n",
    "    spin=False\n",
    ")\n",
    "\n",
    "\n",
    "marker = Marker(location=center, draggable=False, icon=icon, title='SFO Airport')\n",
    "m.add_layer(marker);\n",
    "\n",
    "def update_zoom_value_value(*args):\n",
    "    m.zoom = str((zoom_widget.value))\n",
    "\n",
    "zoom_widget.observe(update_zoom_value_value, 'value')\n",
    "\n",
    "marker.location = (37.6213, -122.3790)\n",
    "display(zoom_widget, m)\n",
    "\n",
    "# Now that the marker is on the Map, you can drag it with your mouse,\n",
    "# it will automatically update the `marker.location` attribute in Python\n",
    "\n",
    "# You can also update the marker location from Python, that will update the\n",
    "# marker location on the Map:\n"
   ]
  },
  {
   "cell_type": "code",
   "execution_count": null,
   "metadata": {},
   "outputs": [],
   "source": [
    "m.zoom, m.center, m.bounds"
   ]
  },
  {
   "cell_type": "code",
   "execution_count": null,
   "metadata": {},
   "outputs": [],
   "source": [
    "# how to draw a marker on the map\n",
    "from ipyleaflet import Map, Marker\n",
    "\n",
    "center = (52.204793, 360.121558)\n"
   ]
  },
  {
   "cell_type": "code",
   "execution_count": null,
   "metadata": {},
   "outputs": [],
   "source": []
  },
  {
   "cell_type": "code",
   "execution_count": null,
   "metadata": {},
   "outputs": [],
   "source": [
    "# Importing necessary libraries\n",
    "from ipyleaflet import Map, Heatmap\n",
    "\n",
    "\n",
    "# Creating a map\n",
    "m = Map(center=(37, -120), zoom=3)\n",
    "\n",
    "# Creating a heatmap layer\n",
    "heatmap = Heatmap(\n",
    "    locations=data,  # Data points\n",
    "    radius=2,       # Radius of each “heat” point\n",
    "    blur=10,         # Amount of blur\n",
    ")\n",
    "\n",
    "# Adding the heatmap layer to the map\n",
    "m.add(heatmap)\n",
    "\n",
    "# to remove heatmap\n",
    "if False:\n",
    "    m.remove(heatmap)\n",
    "\n",
    "# can I look up the heatmap layer to delete it?\n",
    "\n",
    "\n",
    "# Display the map\n",
    "m\n"
   ]
  },
  {
   "cell_type": "code",
   "execution_count": null,
   "metadata": {},
   "outputs": [],
   "source": []
  },
  {
   "cell_type": "code",
   "execution_count": null,
   "metadata": {},
   "outputs": [],
   "source": [
    "%%bash\n",
    "\n",
    "curl -X 'GET' \\\n",
    "  'https://central.isample.xyz/isamples_central/things_leaflet_heatmap?query=%2A%3A%2A&min_lat=-24.5&max_lat=49.4&min_lon=-124.73&max_lon=-66.95' \\\n",
    "  -H 'accept: application/json'"
   ]
  },
  {
   "cell_type": "code",
   "execution_count": null,
   "metadata": {},
   "outputs": [],
   "source": []
  }
 ],
 "metadata": {
  "kernelspec": {
   "display_name": "Python 3 (ipykernel)",
   "language": "python",
   "name": "python3"
  },
  "language_info": {
   "codemirror_mode": {
    "name": "ipython",
    "version": 3
   },
   "file_extension": ".py",
   "mimetype": "text/x-python",
   "name": "python",
   "nbconvert_exporter": "python",
   "pygments_lexer": "ipython3",
   "version": "3.11.3"
  }
 },
 "nbformat": 4,
 "nbformat_minor": 4
}
