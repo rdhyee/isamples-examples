{
 "cells": [
  {
   "cell_type": "code",
   "execution_count": 1,
   "metadata": {},
   "outputs": [
    {
     "data": {
      "application/vnd.jupyter.widget-view+json": {
       "model_id": "1cf01765592f4eaa8905a6526368a30c",
       "version_major": 2,
       "version_minor": 0
      },
      "text/plain": [
       "DataGrid(auto_fit_params={'area': 'all', 'padding': 30, 'numCols': None}, base_column_size=150, base_row_size=…"
      ]
     },
     "metadata": {},
     "output_type": "display_data"
    }
   ],
   "source": [
    "from ipydatagrid import DataGrid, TextRenderer, BarRenderer, Expr\n",
    "import pandas as pd\n",
    "\n",
    "# Create a DataFrame\n",
    "df = pd.DataFrame({\n",
    "    'A': [1, 2, 3, 4],\n",
    "    'B': [5, 6, 7, 8]\n",
    "})\n",
    "\n",
    "# Create a DataGrid instance\n",
    "grid = DataGrid(df)\n",
    "\n",
    "renderers = {\n",
    "    \"A\": TextRenderer(text_color=\"black\", background_color=\"green\"),\n",
    "}\n",
    "\n",
    "grid = DataGrid(\n",
    "    df, base_row_size=32, base_column_size=150, renderers=renderers\n",
    ")\n",
    "\n",
    "\n",
    "# Define an expression to filter rows where column 'A' is greater than 2\n",
    "# expr = Expr('A > 2')\n",
    "\n",
    "# Apply the expression to the grid (this is a conceptual example; the actual method may vary)\n",
    "# grid.apply_filter(expr)\n",
    "\n",
    "# Display the grid\n",
    "display(grid)\n",
    "\n",
    "# Sorting would typically be done by interacting with the grid's UI, by clicking on the column header."
   ]
  },
  {
   "cell_type": "code",
   "execution_count": null,
   "metadata": {},
   "outputs": [],
   "source": []
  }
 ],
 "metadata": {
  "kernelspec": {
   "display_name": "myenv-3.11.7",
   "language": "python",
   "name": "python3"
  },
  "language_info": {
   "codemirror_mode": {
    "name": "ipython",
    "version": 3
   },
   "file_extension": ".py",
   "mimetype": "text/x-python",
   "name": "python",
   "nbconvert_exporter": "python",
   "pygments_lexer": "ipython3",
   "version": "3.11.7"
  }
 },
 "nbformat": 4,
 "nbformat_minor": 2
}
