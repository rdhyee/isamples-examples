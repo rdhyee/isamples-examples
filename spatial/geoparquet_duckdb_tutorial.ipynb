{
 "cells": [
  {
   "cell_type": "markdown",
   "id": "bb3a5bc6",
   "metadata": {},
   "source": [
    "# Python + GeoParquet + DuckDB Tutorial\n",
    "\n",
    "## 1. Introduction\n",
    "\n",
    "This tutorial explores the powerful combination of Python, GeoParquet, and DuckDB for efficient geospatial data processing and analysis. We'll cover the basics of each technology, their advantages, and how they work together to provide a robust solution for handling geospatial datasets.\n",
    "\n",
    "### 1.1 What is GeoParquet?\n",
    "\n",
    "GeoParquet is an extension of Apache Parquet, a columnar storage file format, designed specifically for geospatial data. It combines the efficiency of Parquet with support for geometric data types, making it an excellent choice for storing and processing geospatial information.\n",
    "\n",
    "### 1.2 Advantages of GeoParquet\n",
    "\n",
    "GeoParquet offers several advantages over alternative formats such as JSON, JSONL (JSON Lines), and CSV, especially when dealing with large geospatial datasets:\n",
    "\n",
    "1. **Efficient Storage**: Uses columnar storage and compression, significantly reducing file size.\n",
    "2. **Fast Query Performance**: Allows for quick data retrieval and filtering.\n",
    "3. **Schema Enforcement**: Ensures data consistency and reduces interpretation errors.\n",
    "4. **Support for Complex Data Types**: Natively stores complex geospatial objects.\n",
    "5. **Partitioning and Chunking**: Supports efficient querying of subsets of large datasets.\n",
    "6. **Interoperability**: Wide support in big data ecosystems and geospatial tools.\n",
    "7. **Metadata Handling**: Better support for metadata compared to CSV.\n",
    "8. **Streaming Capabilities**: Supports streaming reads with compression benefits.\n",
    "9. **Reduced Processing Time**: Faster overall processing for large datasets.\n",
    "\n",
    "## 2. Setting Up the Environment\n",
    "\n",
    "### 2.1 Installation\n",
    "\n",
    "To set up our environment, we need to install the following packages:"
   ]
  },
  {
   "cell_type": "code",
   "execution_count": null,
   "id": "a2d9fdad",
   "metadata": {},
   "outputs": [],
   "source": [
    "%%bash\n",
    "pip install geopandas pyarrow duckdb pandas polars"
   ]
  },
  {
   "cell_type": "markdown",
   "id": "ae592f4c",
   "metadata": {},
   "source": [
    "### 2.2 Importing Necessary Modules\n",
    "\n",
    "In your Python script or Jupyter notebook, start with these imports:"
   ]
  },
  {
   "cell_type": "code",
   "execution_count": 1,
   "id": "efcef572",
   "metadata": {},
   "outputs": [],
   "source": [
    "import geopandas as gpd\n",
    "import pandas as pd\n",
    "import polars as pl\n",
    "import pyarrow as pa\n",
    "import duckdb"
   ]
  },
  {
   "cell_type": "markdown",
   "id": "7e5052ee",
   "metadata": {},
   "source": [
    "## 3. Working with GeoParquet and DuckDB\n",
    "\n",
    "Let's create a simple example to demonstrate how to create, save, and read GeoParquet data using Python, GeoPandas, and DuckDB."
   ]
  },
  {
   "cell_type": "code",
   "execution_count": 2,
   "id": "a5d647ba",
   "metadata": {},
   "outputs": [
    {
     "name": "stdout",
     "output_type": "stream",
     "text": [
      "GeoPandas version: 0.14.4\n",
      "DuckDB version: 1.0.0\n",
      "\n",
      "Data read from GeoParquet using DuckDB:\n",
      "City: New York, Longitude: -74.006, Latitude: 40.7128\n",
      "City: Paris, Longitude: 2.3522, Latitude: 48.8566\n",
      "City: Tokyo, Longitude: 139.6917, Latitude: 35.6895\n"
     ]
    }
   ],
   "source": [
    "import geopandas as gpd\n",
    "import duckdb\n",
    "\n",
    "# Print version information\n",
    "print(f\"GeoPandas version: {gpd.__version__}\")\n",
    "print(f\"DuckDB version: {duckdb.__version__}\")\n",
    "\n",
    "# Create a simple GeoDataFrame\n",
    "gdf = gpd.GeoDataFrame(\n",
    "    {'city': ['New York', 'Paris', 'Tokyo'],\n",
    "     'geometry': gpd.points_from_xy([-74.006, 2.3522, 139.6917], \n",
    "                                    [40.7128, 48.8566, 35.6895])},\n",
    "    crs=\"EPSG:4326\"\n",
    ")\n",
    "\n",
    "# Save as GeoParquet\n",
    "gdf.to_parquet(\"cities.geoparquet\")\n",
    "\n",
    "# Read with DuckDB\n",
    "con = duckdb.connect()\n",
    "\n",
    "# Enable spatial extension\n",
    "con.execute(\"INSTALL spatial;\")\n",
    "con.execute(\"LOAD spatial;\")\n",
    "\n",
    "# Read the GeoParquet file and extract coordinates\n",
    "result = con.execute(\"\"\"\n",
    "    SELECT \n",
    "        city, \n",
    "        ST_X(ST_GeomFromWKB(geometry)) as longitude, \n",
    "        ST_Y(ST_GeomFromWKB(geometry)) as latitude\n",
    "    FROM read_parquet('cities.geoparquet')\n",
    "\"\"\").fetchall()\n",
    "\n",
    "print(\"\\nData read from GeoParquet using DuckDB:\")\n",
    "for row in result:\n",
    "    print(f\"City: {row[0]}, Longitude: {row[1]}, Latitude: {row[2]}\")\n",
    "\n",
    "con.close()"
   ]
  },
  {
   "cell_type": "markdown",
   "id": "4a49eb8c",
   "metadata": {},
   "source": [
    "### 3.1 Understanding ST_GeomFromWKB\n",
    "\n",
    "In our DuckDB query, we use the `ST_GeomFromWKB` function. Here's why it's necessary:\n",
    "\n",
    "1. **WKB Format**: GeoParquet stores geometry data in Well-Known Binary (WKB) format. This is a standard binary representation of geometry data that's compact and efficient.\n",
    "\n",
    "2. **DuckDB Interpretation**: While DuckDB can read the Parquet file, it doesn't automatically recognize the WKB data as geometry. The `ST_GeomFromWKB` function tells DuckDB to interpret this binary data as geometric information.\n",
    "\n",
    "3. **Enabling Spatial Functions**: By converting the WKB data to a geometry type that DuckDB understands, we can then use spatial functions like `ST_X` and `ST_Y` to extract coordinates.\n",
    "\n",
    "While this adds a layer of complexity to our initial demo, it's an important concept in working with geospatial data in various systems. Different tools and databases may store and interpret geometry data in different ways, and functions like `ST_GeomFromWKB` allow us to bridge these differences.\n",
    "\n",
    "### 3.2 Explanation of the Code\n",
    "\n",
    "1. We create a simple GeoDataFrame with three cities and their coordinates.\n",
    "2. We save this GeoDataFrame as a GeoParquet file.\n",
    "3. We connect to DuckDB and enable its spatial extension.\n",
    "4. We use SQL to read the GeoParquet file:\n",
    "   - `read_parquet('cities.geoparquet')` reads the file.\n",
    "   - `ST_GeomFromWKB(geometry)` converts the WKB geometry to a DuckDB geometry.\n",
    "   - `ST_X` and `ST_Y` extract the longitude and latitude from the geometry.\n",
    "5. We print the results, showing the city names and their coordinates.\n",
    "\n",
    "This demonstration shows how we can seamlessly work with geospatial data across different tools - creating data with GeoPandas, storing it efficiently with GeoParquet, and querying it using DuckDB's SQL interface.\n",
    "\n",
    "## 4. Next Steps\n",
    "\n",
    "With this foundation, you can explore more advanced topics such as:\n",
    "- Working with larger GeoParquet datasets\n",
    "- Performing complex geospatial queries using DuckDB\n",
    "- Comparing performance between different tools (pandas, GeoPandas, DuckDB)\n",
    "- Applying these techniques to real-world geospatial analysis problems\n",
    "\n",
    "Remember, while the use of `ST_GeomFromWKB` adds some complexity, it's a common pattern when working with geospatial data across different systems and formats. As you progress, you'll find this understanding valuable in various geospatial data processing scenarios.\n",
    "\n",
    "Happy coding and geospatial analysis!"
   ]
  }
 ],
 "metadata": {
  "jupytext": {
   "cell_metadata_filter": "-all",
   "main_language": "python",
   "notebook_metadata_filter": "-all"
  },
  "kernelspec": {
   "display_name": "Python 3 (ipykernel)",
   "language": "python",
   "name": "python3"
  },
  "language_info": {
   "codemirror_mode": {
    "name": "ipython",
    "version": 3
   },
   "file_extension": ".py",
   "mimetype": "text/x-python",
   "name": "python",
   "nbconvert_exporter": "python",
   "pygments_lexer": "ipython3",
   "version": "3.11.9"
  }
 },
 "nbformat": 4,
 "nbformat_minor": 5
}
